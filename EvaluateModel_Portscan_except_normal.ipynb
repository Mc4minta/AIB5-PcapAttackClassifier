{
  "cells": [
    {
      "cell_type": "markdown",
      "metadata": {
        "id": "view-in-github",
        "colab_type": "text"
      },
      "source": [
        "<a href=\"https://colab.research.google.com/github/Mc4minta/AIB5-PcapAttackClassifier/blob/main/EvaluateModel_Portscan_except_normal.ipynb\" target=\"_parent\"><img src=\"https://colab.research.google.com/assets/colab-badge.svg\" alt=\"Open In Colab\"/></a>"
      ]
    },
    {
      "cell_type": "markdown",
      "metadata": {
        "id": "dWsPbK9AGFIL"
      },
      "source": [
        "# Full Step for evaluation (my model)\n",
        "- list pcap zip\n",
        "  - in `/content/drive/MyDrive/Share to Mc4/AIBuilders5-MiN/TestsetForBaseline`\n",
        "- unzip each zip\n",
        "- iterate through each attack\n",
        "- iterate to each attack pcap files\n",
        "- convert to FlowCSV\n",
        "- process packet map\n",
        "- preprocess_df\n",
        "- load model\n",
        "- predict\n",
        "- combined label with packet_index\n",
        "- convert flow-label-index to packetindex-label\n",
        "- list of predicted label from high to low (final_df)\n",
        "\n",
        "## final_df format:\n",
        "\n",
        "| pcap label     | packet label   | ranked_label                    |\n",
        "| -------------- | -------------- | ------------------------------- |\n",
        "| FTP-Bruteforce | FTP-Bruteforce | [FTP-Bruteforce,SSH-Bruteforce] |\n",
        "| Benign         | Benign         | [Benign]                        |\n",
        "\n",
        "## Evaluate by comparing:\n",
        "- pcap label and label\n",
        "- y_test = pcap label\n",
        "- y_pred = label\n",
        "\n",
        "## label_rank\n",
        "- is for tie breaker with baseline just in case"
      ]
    },
    {
      "cell_type": "code",
      "execution_count": 1,
      "metadata": {
        "colab": {
          "base_uri": "https://localhost:8080/"
        },
        "id": "c967fa09",
        "outputId": "31b6cafd-1aeb-4543-c2cb-8be1974d9aa5"
      },
      "outputs": [
        {
          "output_type": "stream",
          "name": "stdout",
          "text": [
            "Mounted at /content/drive\n"
          ]
        }
      ],
      "source": [
        "from google.colab import drive\n",
        "drive.mount('/content/drive')"
      ]
    },
    {
      "cell_type": "markdown",
      "metadata": {
        "id": "vpoFaRFw4fqB"
      },
      "source": [
        "# Load model"
      ]
    },
    {
      "cell_type": "code",
      "execution_count": 2,
      "metadata": {
        "id": "-jodantZ4fqB"
      },
      "outputs": [],
      "source": [
        "# define function for model loading\n",
        "\n",
        "import joblib\n",
        "def load_model(model_name):\n",
        "  model_path = '/content/drive/MyDrive/Share to Mc4/AIBuilders5-MiN/' + model_name\n",
        "  model = joblib.load(model_path)\n",
        "  return model\n",
        "\n",
        "# model = load_model(model_name)\n",
        "# print(model)"
      ]
    },
    {
      "cell_type": "code",
      "execution_count": 3,
      "metadata": {
        "colab": {
          "base_uri": "https://localhost:8080/"
        },
        "id": "3a079Fhu4fqC",
        "outputId": "e2c553ae-6e91-42c9-b661-8e0c52989d7f"
      },
      "outputs": [
        {
          "output_type": "stream",
          "name": "stdout",
          "text": [
            "RandomForestClassifier(n_estimators=400, n_jobs=-1, random_state=42)\n",
            "['Benign' 'DoS-HTTP-Flood' 'DoS-Slow-Rate' 'FTP-Bruteforce' 'PortScan'\n",
            " 'SSH-Bruteforce']\n"
          ]
        }
      ],
      "source": [
        "# load model\n",
        "\n",
        "model_name = 'RandomForest400IntPortCIC1718-2.pkl'\n",
        "model = load_model(model_name)\n",
        "print(model)\n",
        "attacks = model.classes_\n",
        "print(attacks)"
      ]
    },
    {
      "cell_type": "code",
      "execution_count": 4,
      "metadata": {
        "id": "gj1OKUXaOMBW"
      },
      "outputs": [],
      "source": [
        "attacks = ['PortScan']"
      ]
    },
    {
      "cell_type": "code",
      "execution_count": 5,
      "metadata": {
        "colab": {
          "base_uri": "https://localhost:8080/"
        },
        "id": "r5-9ire2OO4F",
        "outputId": "90953dea-8e78-4828-d92e-2a72d691e019"
      },
      "outputs": [
        {
          "output_type": "stream",
          "name": "stdout",
          "text": [
            "['PortScan']\n"
          ]
        }
      ],
      "source": [
        "print(attacks)"
      ]
    },
    {
      "cell_type": "markdown",
      "metadata": {
        "id": "ffr1MGrg4gil"
      },
      "source": [
        "# Setup"
      ]
    },
    {
      "cell_type": "code",
      "execution_count": 6,
      "metadata": {
        "colab": {
          "base_uri": "https://localhost:8080/"
        },
        "id": "TMMIz8EPIRK9",
        "outputId": "687fc6e9-5d2b-4255-85c8-aa77b2901777"
      },
      "outputs": [
        {
          "output_type": "stream",
          "name": "stdout",
          "text": [
            "DoS.zip\n",
            "DDoS.zip\n",
            "PortScan.zip\n",
            "Benign.zip\n",
            "DoS-HTTP-Flood.zip\n",
            "Benign2.zip\n",
            "DoS-overall.zip\n",
            "DoS-Layer3and4.zip\n",
            "FTP-Bruteforce.zip\n",
            "SSH-Bruteforce.zip\n",
            "DoS-Slow-Rate.zip\n"
          ]
        }
      ],
      "source": [
        "# list pcap zip\n",
        "import os\n",
        "pcap_zip_dir = '/content/drive/MyDrive/Share to Mc4/AIBuilders5-MiN/TestsetForBaseline/'\n",
        "files = os.listdir(pcap_zip_dir)\n",
        "for file in files:\n",
        "  print(file)"
      ]
    },
    {
      "cell_type": "code",
      "execution_count": 7,
      "metadata": {
        "colab": {
          "base_uri": "https://localhost:8080/"
        },
        "id": "vnsGRCFPEK8m",
        "outputId": "8618b41f-2f7b-4def-b0a6-c6f6e728f561"
      },
      "outputs": [
        {
          "output_type": "stream",
          "name": "stdout",
          "text": [
            "DoS_csv.zip\n",
            "DDoS_csv.zip\n",
            "PortScan_csv.zip\n",
            "Benign_csv.zip\n",
            "Benign2_csv.zip\n",
            "DoS-HTTP-Flood_csv.zip\n",
            "DoS-Layer3and4_csv.zip\n",
            "DoS-overall_csv.zip\n",
            "FTP-Bruteforce_csv.zip\n",
            "SSH-Bruteforce_csv.zip\n",
            "DoS-Slow-Rate_csv.zip\n"
          ]
        }
      ],
      "source": [
        "# list flow zip\n",
        "import os\n",
        "pcap_zip_dir = '/content/drive/MyDrive/Share to Mc4/AIBuilders5-MiN/TestsetForbaseline_csv/'\n",
        "files = os.listdir(pcap_zip_dir)\n",
        "for file in files:\n",
        "  print(file)"
      ]
    },
    {
      "cell_type": "code",
      "execution_count": 8,
      "metadata": {
        "colab": {
          "base_uri": "https://localhost:8080/",
          "height": 53
        },
        "id": "uNcbNRbgLhfh",
        "outputId": "3ba16641-10df-4b6e-a5ce-5a72c09dfedc"
      },
      "outputs": [
        {
          "output_type": "execute_result",
          "data": {
            "text/plain": [
              "\"\\n# list each attack folder without '.zip' and append to attacks[]\\npcap_zip_dir = '/content/drive/MyDrive/Share to Mc4/AIBuilders5-MiN/TestsetForBaseline/'\\nfiles = os.listdir(pcap_zip_dir)\\nattacks = []\\nfor file in files:\\n  attacks.append(file[:-4])\\nfor attack in attacks:\\n  print(attack)\\n\""
            ],
            "application/vnd.google.colaboratory.intrinsic+json": {
              "type": "string"
            }
          },
          "metadata": {},
          "execution_count": 8
        }
      ],
      "source": [
        "'''\n",
        "# list each attack folder without '.zip' and append to attacks[]\n",
        "pcap_zip_dir = '/content/drive/MyDrive/Share to Mc4/AIBuilders5-MiN/TestsetForBaseline/'\n",
        "files = os.listdir(pcap_zip_dir)\n",
        "attacks = []\n",
        "for file in files:\n",
        "  attacks.append(file[:-4])\n",
        "for attack in attacks:\n",
        "  print(attack)\n",
        "'''"
      ]
    },
    {
      "cell_type": "code",
      "execution_count": 9,
      "metadata": {
        "colab": {
          "base_uri": "https://localhost:8080/"
        },
        "id": "D7-6GKbTxV2W",
        "outputId": "1953e7f1-7841-4d90-d67a-7e223ca1a78c"
      },
      "outputs": [
        {
          "output_type": "execute_result",
          "data": {
            "text/plain": [
              "['PortScan']"
            ]
          },
          "metadata": {},
          "execution_count": 9
        }
      ],
      "source": [
        "attacks"
      ]
    },
    {
      "cell_type": "code",
      "execution_count": 10,
      "metadata": {
        "id": "COBbu0u9JJe3"
      },
      "outputs": [],
      "source": [
        "# define function to unzip(attack.zip)\n",
        "import zipfile\n",
        "\n",
        "def unzip_attack_zip(attack):\n",
        "  pcap_zip_dir = '/content/drive/MyDrive/Share to Mc4/AIBuilders5-MiN/TestsetForBaseline/'\n",
        "  if(attack[-4:]=='.zip'):\n",
        "    zip_file_name = attack\n",
        "  else:\n",
        "    zip_file_name = attack + '.zip'\n",
        "  zip_file_path = os.path.join(pcap_zip_dir, zip_file_name)\n",
        "  destination_directory = '/content/'\n",
        "  try:\n",
        "    with zipfile.ZipFile(zip_file_path, 'r') as zip_ref:\n",
        "      zip_ref.extractall(destination_directory)\n",
        "    print(f\"'{zip_file_name}' unzipped to '{destination_directory}'.\")\n",
        "  except Exception as e:\n",
        "      print(f\"Error : {e}\")\n",
        "\n",
        "# unzip_attack_zip('DDoS')"
      ]
    },
    {
      "cell_type": "code",
      "execution_count": 11,
      "metadata": {
        "id": "VqQjqkKbEXPc"
      },
      "outputs": [],
      "source": [
        "# define function to unzip(attack_csv.zip)\n",
        "import zipfile\n",
        "\n",
        "def unzip_attack_flow(attack):\n",
        "  pcap_zip_dir = '/content/drive/MyDrive/Share to Mc4/AIBuilders5-MiN/TestsetForbaseline_csv/'\n",
        "  zip_file_name = attack + '_csv.zip'\n",
        "  zip_file_path = os.path.join(pcap_zip_dir, zip_file_name)\n",
        "  destination_directory = '/content/'\n",
        "  try:\n",
        "    with zipfile.ZipFile(zip_file_path, 'r') as zip_ref:\n",
        "      zip_ref.extractall(destination_directory)\n",
        "    print(f\"'{zip_file_name}' unzipped to '{destination_directory}'.\")\n",
        "  except Exception as e:\n",
        "      print(f\"Error : {e}\")\n",
        "\n",
        "# unzip_attack_flow('DDoS')"
      ]
    },
    {
      "cell_type": "code",
      "execution_count": 12,
      "metadata": {
        "colab": {
          "base_uri": "https://localhost:8080/"
        },
        "id": "iCPKIXyUEj69",
        "outputId": "cb6c2c4b-218a-4659-c0e6-fc8426853999"
      },
      "outputs": [
        {
          "output_type": "stream",
          "name": "stdout",
          "text": [
            "Processing PortScan_csv...\n",
            "'PortScan_csv.zip' unzipped to '/content/'.\n"
          ]
        }
      ],
      "source": [
        "# iterate through each attack_csv .zip and unzip it\n",
        "for attack in attacks:\n",
        "  print(f\"Processing {attack}_csv...\")\n",
        "  if(f'{attack}_csv' not in os.listdir('/content/')):\n",
        "    unzip_attack_flow(attack)\n",
        "  else:\n",
        "    print(f\"{attack}_csv already unzipped\")"
      ]
    },
    {
      "cell_type": "code",
      "execution_count": 13,
      "metadata": {
        "colab": {
          "base_uri": "https://localhost:8080/"
        },
        "id": "VKHO1ouhJmt9",
        "outputId": "311c976f-0c40-44b0-d071-56aec06bc2a9"
      },
      "outputs": [
        {
          "output_type": "stream",
          "name": "stdout",
          "text": [
            "Processing PortScan...\n",
            "'PortScan.zip' unzipped to '/content/'.\n"
          ]
        }
      ],
      "source": [
        "# iterate through each attack .zip and unzip it\n",
        "for attack in attacks:\n",
        "  print(f\"Processing {attack}...\")\n",
        "  if(attack not in os.listdir('/content/')):\n",
        "    unzip_attack_zip(attack)\n",
        "  else:\n",
        "    print(f\"{attack} already unzipped\")"
      ]
    },
    {
      "cell_type": "code",
      "source": [
        "# clear unused file\n",
        "for attack in attacks:\n",
        "  pcap_dir = f'/content/{attack}'\n",
        "  flow_dir = f'/content/{attack}_csv'\n",
        "  files = os.listdir(pcap_dir)\n",
        "  for file in files:\n",
        "    file_name = file[:-5]\n",
        "    if 'normal_' in file_name:\n",
        "      os.remove(f'{pcap_dir}/{file_name}.pcap')\n",
        "    if 'normal_' in file_name:\n",
        "      os.remove(f'{flow_dir}/{file_name}_ISCX.csv')"
      ],
      "metadata": {
        "id": "wZZoOaaAxOFr"
      },
      "execution_count": 14,
      "outputs": []
    },
    {
      "cell_type": "code",
      "source": [
        "# clear unused file\n",
        "for attack in attacks:\n",
        "  pcap_dir = f'/content/{attack}'\n",
        "  flow_dir = f'/content/{attack}_csv'\n",
        "  files = os.listdir(pcap_dir)\n",
        "  for file in files:\n",
        "    file_name = file[:-5]\n",
        "    if 'normal_' in file_name:\n",
        "      os.remove(f'{pcap_dir}/{file_name}.pcap')\n",
        "    if 'normal_' in file_name:\n",
        "      os.remove(f'{flow_dir}/{file_name}_ISCX.csv')"
      ],
      "metadata": {
        "id": "eWAmkhsAy2Ov"
      },
      "execution_count": null,
      "outputs": []
    },
    {
      "cell_type": "code",
      "source": [
        "os.remove('/content/PortScan/OS_Scan_pcap.pcapng')"
      ],
      "metadata": {
        "id": "4VLwRqfGy750"
      },
      "execution_count": 15,
      "outputs": []
    },
    {
      "cell_type": "code",
      "source": [
        "os.remove('/content/PortScan/information_gathering.pcap')"
      ],
      "metadata": {
        "id": "yNw9gX4DzK1J"
      },
      "execution_count": 16,
      "outputs": []
    },
    {
      "cell_type": "code",
      "source": [
        "os.remove('/content/PortScan/portscan.pcap')"
      ],
      "metadata": {
        "id": "HPM5KNV7z2Jn"
      },
      "execution_count": null,
      "outputs": []
    },
    {
      "cell_type": "code",
      "source": [
        "os.remove('/content/PortScan_csv/portscan_ISCX.csv')"
      ],
      "metadata": {
        "id": "N-LFNWuS0Ipa"
      },
      "execution_count": 37,
      "outputs": []
    },
    {
      "cell_type": "code",
      "execution_count": 17,
      "metadata": {
        "colab": {
          "base_uri": "https://localhost:8080/"
        },
        "id": "OTosyZGCOQjb",
        "outputId": "559652dc-c652-42e0-ede6-c7b0d2ee5a31"
      },
      "outputs": [
        {
          "output_type": "stream",
          "name": "stdout",
          "text": [
            "--------------------------------\n",
            "PCAP for PortScan\n",
            "--------------------------------\n",
            "portscan.pcap\n",
            "nmap_null.pcap\n",
            "nmap_fin.pcap\n",
            "Port Scanning attack.pcap\n"
          ]
        }
      ],
      "source": [
        "# list all pcap file in each attack\n",
        "\n",
        "for attack in attacks:\n",
        "  print('--------------------------------')\n",
        "  print(f\"PCAP for {attack}\")\n",
        "  print('--------------------------------')\n",
        "  attack_pcaps = os.listdir(f'/content/{attack}')\n",
        "  for attack_pcap in attack_pcaps:\n",
        "    if attack_pcap[-5:] != '.pcap':\n",
        "      os.remove(f'/content/{attack}/{attack_pcap}')\n",
        "    else:\n",
        "      print(attack_pcap)"
      ]
    },
    {
      "cell_type": "code",
      "execution_count": 18,
      "metadata": {
        "colab": {
          "base_uri": "https://localhost:8080/"
        },
        "id": "4313y7t4Gua6",
        "outputId": "d2572ebf-180a-4586-c652-796583ac345d"
      },
      "outputs": [
        {
          "output_type": "stream",
          "name": "stdout",
          "text": [
            "--------------------------------\n",
            "CSV for PortScan\n",
            "--------------------------------\n",
            "portscan_ISCX.csv\n",
            "nmap_fin_ISCX.csv\n",
            "Port Scanning attack_ISCX.csv\n",
            "nmap_null_ISCX.csv\n"
          ]
        }
      ],
      "source": [
        "# list all csv file in each attack\n",
        "\n",
        "for attack in attacks:\n",
        "  print('--------------------------------')\n",
        "  print(f\"CSV for {attack}\")\n",
        "  print('--------------------------------')\n",
        "  attack_flows = os.listdir(f'/content/{attack}_csv')\n",
        "  for attack_flow in attack_flows:\n",
        "    print(attack_flow)"
      ]
    },
    {
      "cell_type": "markdown",
      "metadata": {
        "id": "d3lxmyW1G2xg"
      },
      "source": [
        "# Map"
      ]
    },
    {
      "cell_type": "code",
      "execution_count": 19,
      "metadata": {
        "colab": {
          "base_uri": "https://localhost:8080/"
        },
        "id": "rzjTd5l_O1-t",
        "outputId": "30a54e14-ad6d-4f8d-e987-0750cc14cf7a"
      },
      "outputs": [
        {
          "output_type": "stream",
          "name": "stdout",
          "text": [
            "Created PortScan_index folder\n"
          ]
        }
      ],
      "source": [
        "# create attack_index folder\n",
        "\n",
        "import os\n",
        "for attack in attacks:\n",
        "  os.makedirs(f'/content/{attack}_index', exist_ok=True)\n",
        "  print(f\"Created {attack}_index folder\")"
      ]
    },
    {
      "cell_type": "code",
      "execution_count": 20,
      "metadata": {
        "id": "987RkmArRbp1"
      },
      "outputs": [],
      "source": [
        "# install scapy\n",
        "\n",
        "!pip install scapy > /content/log.txt"
      ]
    },
    {
      "cell_type": "code",
      "execution_count": 21,
      "metadata": {
        "id": "7GkfYqDGRV1-"
      },
      "outputs": [],
      "source": [
        "# define function for simulating cicflowmter\n",
        "\n",
        "\n",
        "import time\n",
        "import random\n",
        "import csv\n",
        "import sys\n",
        "from collections import namedtuple\n",
        "import ipaddress # For robust IP address comparison\n",
        "import pandas as pd # Import pandas\n",
        "\n",
        "# Import Scapy for PCAP reading and parsing\n",
        "# You might need to install it: pip install scapy\n",
        "try:\n",
        "    from scapy.all import rdpcap, IP, TCP, UDP\n",
        "except ImportError:\n",
        "    print(\"Scapy not found. Please install it using: pip install scapy\")\n",
        "    sys.exit(1)\n",
        "\n",
        "# Define a Packet structure to standardize data from Scapy packets\n",
        "# 'index' corresponds to the sequential position in the PCAP file,\n",
        "# which is similar to the 'id' in CICFlowMeter's BasicPacketInfo.java\n",
        "Packet = namedtuple('Packet', ['index', 'timestamp', 'src_ip', 'dst_ip', 'src_port', 'dst_port', 'protocol', 'length', 'has_fin_flag'])\n",
        "\n",
        "class Flow:\n",
        "    \"\"\"\n",
        "    Simulates a network flow, similar to BasicFlow.java.\n",
        "    A flow is identified by its 5-tuple and stores a list of packet indices\n",
        "    that belong to this flow. It also tracks basic flow statistics and timestamps.\n",
        "    \"\"\"\n",
        "    def __init__(self, flow_key, first_packet):\n",
        "        self.flow_key = flow_key\n",
        "        # This list directly maps the flow to its packet indices (IDs)\n",
        "        self.packet_indices = [first_packet.index]\n",
        "        # Store packet timestamps as well for export\n",
        "        self.packet_timestamps = [int(first_packet.timestamp * 1_000_000)] # Convert to microseconds\n",
        "\n",
        "        self.start_time = int(first_packet.timestamp * 1_000_000) # Microseconds\n",
        "        self.last_packet_time = int(first_packet.timestamp * 1_000_000) # Microseconds\n",
        "        self.packet_count = 1\n",
        "        self.byte_count = first_packet.length\n",
        "        self.fwd_packets = [] # Simulating BasicFlow's 'forward' list\n",
        "        self.bwd_packets = [] # Simulating BasicFlow's 'backward' list\n",
        "\n",
        "        # Determine the initial direction based on the first packet's original IPs\n",
        "        # This is used for 'forward' and 'backward' packet grouping within the flow,\n",
        "        # distinct from the canonical direction used for the flow_key.\n",
        "        self.initial_src_ip = first_packet.src_ip\n",
        "\n",
        "        # Add first packet to appropriate directional list\n",
        "        if self._is_forward_packet(first_packet):\n",
        "            self.fwd_packets.append(first_packet)\n",
        "        else:\n",
        "            self.bwd_packets.append(first_packet)\n",
        "\n",
        "    def add_packet(self, packet):\n",
        "        \"\"\"Adds a packet to the flow and updates flow statistics.\"\"\"\n",
        "        self.packet_indices.append(packet.index)\n",
        "        self.packet_timestamps.append(int(packet.timestamp * 1_000_000)) # Store timestamp in microseconds\n",
        "\n",
        "        self.packet_count += 1\n",
        "        self.byte_count += packet.length\n",
        "\n",
        "        # Update directional packet lists and IATs (simplified for simulation)\n",
        "        if self._is_forward_packet(packet):\n",
        "            self.fwd_packets.append(packet)\n",
        "            # In real CICFlowMeter, IATs and other stats would be updated here, e.g.:\n",
        "            # if len(self.fwd_packets) > 1:\n",
        "            #     self.fwd_iat.add_value(packet.timestamp - self.fwd_packets[-2].timestamp)\n",
        "        else:\n",
        "            self.bwd_packets.append(packet)\n",
        "            # if len(self.bwd_packets) > 1:\n",
        "            #     self.bwd_iat.add_value(packet.timestamp - self.bwd_packets[-2].timestamp)\n",
        "\n",
        "        # Update last packet time for overall flow duration/IAT calculation\n",
        "        self.last_packet_time = int(packet.timestamp * 1_000_000) # Microseconds\n",
        "\n",
        "    def get_flow_duration(self):\n",
        "        \"\"\"Calculates the duration of the flow in microseconds.\"\"\"\n",
        "        return self.last_packet_time - self.start_time\n",
        "\n",
        "    def _is_forward_packet(self, packet):\n",
        "        \"\"\"\n",
        "        Determines if a packet is in the forward direction relative to the flow's initial direction.\n",
        "        This uses the original src_ip of the *first* packet to define \"forward\" for feature accumulation,\n",
        "        which is consistent with CICFlowMeter's internal `BasicFlow` logic.\n",
        "        \"\"\"\n",
        "        return packet.src_ip == self.initial_src_ip\n",
        "\n",
        "    def __repr__(self):\n",
        "        return (f\"Flow(key={self.flow_key}, total_packets={self.packet_count}, \"\n",
        "                f\"duration={self.get_flow_duration():.4f}us, \"\n",
        "                f\"total_bytes={self.byte_count}B, \"\n",
        "                f\"fwd_pkts={len(self.fwd_packets)}, bwd_pkts={len(self.bwd_packets)}, \"\n",
        "                f\"packet_indices={self.packet_indices})\")\n",
        "\n",
        "    def to_csv_row(self):\n",
        "        \"\"\"\n",
        "        Converts the flow data into a dictionary suitable for CSV writing.\n",
        "        This provides a simplified representation of the features CICFlowMeter extracts,\n",
        "        but crucially includes the 'Packet Indices' and 'Packet Timestamps' columns.\n",
        "        The 'Flow ID', 'Src IP', 'Dst IP', 'Src Port', 'Dst Port' are taken from the\n",
        "        canonical flow_key for consistency with CICFlowMeter's output format.\n",
        "        \"\"\"\n",
        "        # The flow_key tuple already holds the normalized 5-tuple as generated by generate_flow_key\n",
        "        canonical_src_ip, canonical_dst_ip, canonical_src_port, canonical_dst_port, proto = self.flow_key\n",
        "\n",
        "        return {\n",
        "            'Flow ID': f\"{canonical_src_ip}-{canonical_dst_ip}-{canonical_src_port}-{canonical_dst_port}-{proto}\",\n",
        "            'Src IP': canonical_src_ip,\n",
        "            'Src Port': canonical_src_port,\n",
        "            'Dst IP': canonical_dst_ip,\n",
        "            'Dst Port': canonical_dst_port,\n",
        "            'Protocol': proto,\n",
        "            'Flow Duration (us)': self.get_flow_duration(),\n",
        "            'Total Packets': self.packet_count,\n",
        "            'Total Bytes': self.byte_count,\n",
        "            'Fwd Packets': len(self.fwd_packets), # These counts are based on internal 'initial_src_ip'\n",
        "            'Bwd Packets': len(self.bwd_packets), # These counts are based on internal 'initial_src_ip'\n",
        "            'Packet Indices': str(self.packet_indices), # Convert list to string for CSV column\n",
        "            'Packet Timestamps': str(self.packet_timestamps) # Convert list to string for CSV column\n",
        "            # Add more CICFlowMeter-like features here if needed\n",
        "            # 'Flow Pkts/s': self.packet_count / (self.get_flow_duration() / 1_000_000.0) if self.get_flow_duration() > 0 else 0,\n",
        "            # 'Avg Fwd Pkt Len': sum(p.length for p in self.fwd_packets) / len(self.fwd_packets) if self.fwd_packets else 0,\n",
        "        }\n",
        "\n",
        "\n",
        "def generate_flow_key(packet):\n",
        "    \"\"\"\n",
        "    Generates a unique key for a flow based on the 5-tuple,\n",
        "    mimicking CICFlowMeter's Java BasicPacketInfo.generateFlowId() logic\n",
        "    for canonicalizing IP addresses and ports.\n",
        "\n",
        "    IMPORTANT: This function uses the raw protocol number, matching BasicPacketInfo.java.\n",
        "    Any mapping of non-TCP/UDP/ICMP protocols to '0' happens *after* Flow ID generation\n",
        "    in CICFlowMeter's pipeline (e.g., for display in FlowFeature.featureValue2String),\n",
        "    and is NOT part of the Flow ID itself.\n",
        "    \"\"\"\n",
        "    # Access attributes by name from the Packet namedtuple\n",
        "    src_ip_str = packet.src_ip\n",
        "    dst_ip_str = packet.dst_ip\n",
        "    src_port = packet.src_port\n",
        "    dst_port = packet.dst_port\n",
        "    protocol_int = packet.protocol # Use the raw protocol number here\n",
        "\n",
        "    # Use ipaddress for robust IP comparison, mirroring Java's byte-by-byte comparison\n",
        "    try:\n",
        "        src_ip_obj = ipaddress.ip_address(src_ip_str)\n",
        "        dst_ip_obj = ipaddress.ip_address(dst_ip_str)\n",
        "    except ValueError:\n",
        "        # Fallback for invalid IPs if any, should not happen with valid PCAP data\n",
        "        return (src_ip_str, dst_ip_str, src_port, dst_port, protocol_int)\n",
        "\n",
        "\n",
        "    # Determine 'forward' based on IP comparison: canonical_src_ip will be the \"smaller\" IP\n",
        "    if src_ip_obj < dst_ip_obj:\n",
        "        normalized_src_ip = src_ip_str\n",
        "        normalized_dst_ip = dst_ip_str\n",
        "        normalized_src_port = src_port\n",
        "        normalized_dst_port = dst_port\n",
        "    elif dst_ip_obj < src_ip_obj:\n",
        "        # Swap IPs and their corresponding ports for normalization\n",
        "        normalized_src_ip = dst_ip_str\n",
        "        normalized_dst_ip = src_ip_str\n",
        "        normalized_src_port = dst_port\n",
        "        normalized_dst_port = src_port\n",
        "    else: # IPs are equal (e.g., multicast or broadcast)\n",
        "        # If IPs are the same, Java's logic does NOT swap ports based on IP.\n",
        "        # It keeps original src/dst IPs and ports as they are.\n",
        "        normalized_src_ip = src_ip_str\n",
        "        normalized_dst_ip = dst_ip_str\n",
        "        normalized_src_port = src_port\n",
        "        normalized_dst_port = dst_port\n",
        "\n",
        "    # The canonical 5-tuple key for the hash map\n",
        "    return (normalized_src_ip, normalized_dst_ip, normalized_src_port, normalized_dst_port, protocol_int)\n",
        "\n",
        "def process_packets_into_flows(packets, flow_timeout_us=120000000, idle_timeout_us=5000000):\n",
        "    \"\"\"\n",
        "    Processes a list of packets and groups them into flows, simulating FlowGenerator.java.\n",
        "    Args:\n",
        "        packets (list): A list of Packet namedtuples, derived from PCAP.\n",
        "        flow_timeout_us (int): Max flow duration in microseconds (120 seconds).\n",
        "        idle_timeout_us (int): Max idle time within a flow in microseconds (5 seconds).\n",
        "    Returns:\n",
        "        dict: A dictionary where keys are unique flow identifiers (combining 5-tuple and a counter)\n",
        "              and values are Flow objects.\n",
        "    \"\"\"\n",
        "    active_flows = {} # {flow_key_5_tuple: Flow_object}\n",
        "    completed_flows = {} # {unique_completed_flow_id: Flow_object}\n",
        "\n",
        "    # Packets are assumed to be already sorted by timestamp when passed from PCAP reader\n",
        "\n",
        "    completed_flow_counter = 0\n",
        "\n",
        "    for packet in packets:\n",
        "        flow_key = generate_flow_key(packet)\n",
        "        current_timestamp_us = int(packet.timestamp * 1_000_000) # Convert seconds to microseconds\n",
        "\n",
        "        # Check if this packet belongs to an existing active flow\n",
        "        if flow_key in active_flows:\n",
        "            flow = active_flows[flow_key]\n",
        "\n",
        "            # Check for IDLE timeout first (packet arrival AFTER idle period)\n",
        "            if (current_timestamp_us - flow.last_packet_time) > idle_timeout_us:\n",
        "                # Flow idle timed out, finish current flow and start new one\n",
        "                completed_flows[f\"{flow_key}_{completed_flow_counter}\"] = flow\n",
        "                completed_flow_counter += 1\n",
        "                active_flows.pop(flow_key) # Remove old flow from active\n",
        "\n",
        "                new_flow = Flow(flow_key, packet)\n",
        "                active_flows[flow_key] = new_flow\n",
        "\n",
        "            # Check for TOTAL flow timeout (flow duration)\n",
        "            elif (current_timestamp_us - flow.start_time) > flow_timeout_us:\n",
        "                # Flow timed out based on total duration, finish current flow and start new one\n",
        "                completed_flows[f\"{flow_key}_{completed_flow_counter}\"] = flow\n",
        "                completed_flow_counter += 1\n",
        "                active_flows.pop(flow_key) # Remove old flow from active\n",
        "\n",
        "                new_flow = Flow(flow_key, packet)\n",
        "                active_flows[flow_key] = new_flow\n",
        "\n",
        "            # Simulate TCP FIN flag termination\n",
        "            # Only apply if the protocol is TCP (6) and FIN flag is set.\n",
        "            # Add the FIN packet to the flow before deciding if it's finished.\n",
        "            elif packet.protocol == 6 and packet.has_fin_flag:\n",
        "                flow.add_packet(packet) # Add the FIN packet\n",
        "                completed_flows[f\"{flow_key}_{completed_flow_counter}\"] = flow\n",
        "                completed_flow_counter += 1\n",
        "                active_flows.pop(flow_key) # Remove from active flows as it's finished\n",
        "\n",
        "            # Otherwise, add packet to existing active flow\n",
        "            else:\n",
        "                flow.add_packet(packet)\n",
        "                # No explicit idle time update needed in Flow object here,\n",
        "                # as it's checked upon next packet arrival.\n",
        "\n",
        "        else:\n",
        "            # New flow, or a flow that previously completed and was removed from active_flows\n",
        "            new_flow = Flow(flow_key, packet)\n",
        "            active_flows[flow_key] = new_flow\n",
        "\n",
        "    # After processing all packets, move any remaining active flows to completed flows\n",
        "    for flow_key, flow in list(active_flows.items()): # Iterate over a copy to allow modification\n",
        "        completed_flows[f\"{flow_key}_{completed_flow_counter}\"] = flow\n",
        "        completed_flow_counter += 1\n",
        "        # No need to pop from active_flows here, as loop is over.\n",
        "\n",
        "    return completed_flows\n",
        "\n",
        "def extract_packet_info_from_pcap(pcap_file_path):\n",
        "    \"\"\"\n",
        "    Reads a PCAP file using Scapy and extracts relevant information into Packet namedtuples.\n",
        "    Assigns a sequential index to each packet as it's read.\n",
        "    Broadened to include all IP packets, not just TCP/UDP.\n",
        "    \"\"\"\n",
        "    print(f\"Reading packets from {pcap_file_path}...\")\n",
        "    extracted_packets = []\n",
        "\n",
        "    try:\n",
        "        packets_scapy = rdpcap(pcap_file_path)\n",
        "        total_packets = len(packets_scapy)\n",
        "        print(f\"Successfully read {total_packets} packets from {pcap_file_path}.\")\n",
        "    except FileNotFoundError:\n",
        "        print(f\"Error: PCAP file not found at {pcap_file_path}.\")\n",
        "        return [] # Return empty list if file not found\n",
        "    except Exception as e:\n",
        "        print(f\"An error occurred while reading PCAP file {pcap_file_path}: {e}\")\n",
        "        return [] # Return empty list on other errors\n",
        "\n",
        "\n",
        "    for i, pkt in enumerate(packets_scapy):\n",
        "        src_ip = None\n",
        "        dst_ip = None\n",
        "        src_port = 0 # Default to 0 for non-TCP/UDP protocols or if ports are missing\n",
        "        dst_port = 0 # Default to 0 for non-TCP/UDP protocols or if ports are missing\n",
        "        protocol = None\n",
        "        has_fin = False\n",
        "\n",
        "        # Ensure IP layer exists\n",
        "        if IP in pkt:\n",
        "            src_ip = pkt[IP].src\n",
        "            dst_ip = pkt[IP].dst\n",
        "            protocol = pkt[IP].proto # e.g., 6 for TCP, 17 for UDP, 1 for ICMP, 2 for IGMP, etc.\n",
        "\n",
        "            # Check for transport layer (TCP or UDP) to get ports and flags\n",
        "            if TCP in pkt:\n",
        "                src_port = pkt[TCP].sport\n",
        "                dst_port = pkt[TCP].dport\n",
        "                has_fin = bool(pkt[TCP].flags & 0x01) # FIN is bit 0 in TCP flags\n",
        "            elif UDP in pkt:\n",
        "                src_port = pkt[UDP].sport\n",
        "                dst_port = pkt[UDP].dport\n",
        "            # For other IP protocols (like ICMP, IGMP, etc.), src_port and dst_port remain 0.\n",
        "\n",
        "            # Only process packets with valid IP information\n",
        "            # This condition is now implicitly true for any packet with an IP layer,\n",
        "            # as src_ip, dst_ip, and protocol will be extracted.\n",
        "            extracted_packets.append(Packet(\n",
        "                index=i,\n",
        "                timestamp=pkt.time, # Scapy's pkt.time is already in seconds (float)\n",
        "                src_ip=src_ip,\n",
        "                dst_ip=dst_ip,\n",
        "                src_port=src_port,\n",
        "                dst_port=dst_port,\n",
        "                protocol=protocol,\n",
        "                length=len(pkt), # Total packet length\n",
        "                has_fin_flag=has_fin\n",
        "            ))\n",
        "\n",
        "    # Scapy's rdpcap usually returns packets in capture order (by timestamp),\n",
        "    # but explicit sorting ensures strict chronological processing as in CICFlowMeter.\n",
        "    extracted_packets.sort(key=lambda p: p.timestamp)\n",
        "    print(f\"Extracted {len(extracted_packets)} valid packets from PCAP.\")\n",
        "    return extracted_packets,total_packets\n",
        "\n",
        "def extract_flows_from_pcap(pcap_file_path: str) -> pd.DataFrame:\n",
        "    \"\"\"\n",
        "    Orchestrates the entire process of extracting network flows from a PCAP file,\n",
        "    mimicking CICFlowMeter's logic, and returns the flows as a Pandas DataFrame.\n",
        "\n",
        "    Args:\n",
        "        pcap_file_path (str): The path to the input PCAP file.\n",
        "\n",
        "    Returns:\n",
        "        pd.DataFrame: A DataFrame where each row represents a discovered flow,\n",
        "                      including 'Packet Indices' and 'Packet Timestamps'.\n",
        "                      Returns an empty DataFrame if no valid packets are found or\n",
        "                      if PCAP file cannot be read.\n",
        "    \"\"\"\n",
        "    # Step 1: Extract packet information from the PCAP file\n",
        "    packets_from_pcap,total_packets = extract_packet_info_from_pcap(pcap_file_path)\n",
        "\n",
        "    if not packets_from_pcap:\n",
        "        print(\"No valid packets found or PCAP file could not be read. Returning empty DataFrame.\")\n",
        "        return pd.DataFrame() # Return empty DataFrame\n",
        "\n",
        "    print(\"\\nProcessing packets into flows (simulating CICFlowMeter logic)...\")\n",
        "    # Step 2: Process the extracted packets into flows\n",
        "    # Default timeouts are 120 seconds (flow) and 5 seconds (idle) for CICFlowMeter\n",
        "    flows_data = process_packets_into_flows(packets_from_pcap,\n",
        "                                            flow_timeout_us=120_000_000,\n",
        "                                            idle_timeout_us=5_000_000)\n",
        "\n",
        "    print(f\"\\nDiscovered {len(flows_data)} flows.\")\n",
        "\n",
        "    # Step 3: Convert discovered flows to a list of dictionaries for DataFrame creation\n",
        "    flows_list_of_dicts = []\n",
        "    for flow_unique_id, flow_obj in flows_data.items():\n",
        "        flows_list_of_dicts.append(flow_obj.to_csv_row())\n",
        "\n",
        "    # Create DataFrame from the list of flow dictionaries\n",
        "    flows_df = pd.DataFrame(flows_list_of_dicts)\n",
        "\n",
        "    # Step 4: Display a summary of generated flows (for console output)\n",
        "    if not flows_df.empty:\n",
        "        print(\"\\nHead of the generated Flows DataFrame:\")\n",
        "        print(flows_df.head())\n",
        "        print(\"\\nColumns in the generated Flows DataFrame:\")\n",
        "        print(flows_df.columns.tolist())\n",
        "    else:\n",
        "        print(\"\\nNo flows generated to display.\")\n",
        "\n",
        "    return flows_df,total_packets"
      ]
    },
    {
      "cell_type": "code",
      "execution_count": 22,
      "metadata": {
        "colab": {
          "base_uri": "https://localhost:8080/"
        },
        "id": "HCx91HegRlrc",
        "outputId": "e286d4e1-36f6-49e4-9ab6-05871861f560"
      },
      "outputs": [
        {
          "output_type": "stream",
          "name": "stdout",
          "text": [
            "Reading packets from /content/PortScan/portscan.pcap...\n",
            "Successfully read 29 packets from /content/PortScan/portscan.pcap.\n",
            "Extracted 29 valid packets from PCAP.\n",
            "\n",
            "Processing packets into flows (simulating CICFlowMeter logic)...\n",
            "\n",
            "Discovered 29 flows.\n",
            "\n",
            "Head of the generated Flows DataFrame:\n",
            "                                 Flow ID        Src IP  Src Port  \\\n",
            "0   10.100.18.12-10.100.25.14-139-1065-6  10.100.18.12       139   \n",
            "1  10.100.18.12-10.100.25.14-135-19491-6  10.100.18.12       135   \n",
            "2   10.100.18.12-10.100.25.14-445-7358-6  10.100.18.12       445   \n",
            "3   10.100.18.12-10.100.25.14-80-27524-6  10.100.18.12        80   \n",
            "4   10.100.18.12-10.100.25.14-22-20193-6  10.100.18.12        22   \n",
            "\n",
            "         Dst IP  Dst Port  Protocol  Flow Duration (us)  Total Packets  \\\n",
            "0  10.100.25.14      1065         6                   0              1   \n",
            "1  10.100.25.14     19491         6                   0              1   \n",
            "2  10.100.25.14      7358         6                   0              1   \n",
            "3  10.100.25.14     27524         6                   0              1   \n",
            "4  10.100.25.14     20193         6                   0              1   \n",
            "\n",
            "   Total Bytes  Fwd Packets  Bwd Packets Packet Indices   Packet Timestamps  \n",
            "0           60            1            0            [0]  [1156430125417872]  \n",
            "1           60            1            0            [1]  [1156430125518348]  \n",
            "2           60            1            0            [2]  [1156430125619024]  \n",
            "3           60            1            0            [3]  [1156430125719586]  \n",
            "4           60            1            0            [4]  [1156430125821005]  \n",
            "\n",
            "Columns in the generated Flows DataFrame:\n",
            "['Flow ID', 'Src IP', 'Src Port', 'Dst IP', 'Dst Port', 'Protocol', 'Flow Duration (us)', 'Total Packets', 'Total Bytes', 'Fwd Packets', 'Bwd Packets', 'Packet Indices', 'Packet Timestamps']\n",
            "Reading packets from /content/PortScan/nmap_null.pcap...\n",
            "Successfully read 2036 packets from /content/PortScan/nmap_null.pcap.\n",
            "Extracted 2034 valid packets from PCAP.\n",
            "\n",
            "Processing packets into flows (simulating CICFlowMeter logic)...\n",
            "\n",
            "Discovered 1032 flows.\n",
            "\n",
            "Head of the generated Flows DataFrame:\n",
            "                                      Flow ID          Src IP  Src Port  \\\n",
            "0  192.168.47.1-192.168.47.255-17500-17500-17    192.168.47.1     17500   \n",
            "1      192.168.47.2-192.168.47.171-53-1042-17    192.168.47.2        53   \n",
            "2  192.168.47.134-192.168.47.171-3306-51250-6  192.168.47.134      3306   \n",
            "3   192.168.47.134-192.168.47.171-113-51250-6  192.168.47.134       113   \n",
            "4  192.168.47.134-192.168.47.171-3389-51250-6  192.168.47.134      3389   \n",
            "\n",
            "           Dst IP  Dst Port  Protocol  Flow Duration (us)  Total Packets  \\\n",
            "0  192.168.47.255     17500        17                5511              2   \n",
            "1  192.168.47.171      1042        17               32966              2   \n",
            "2  192.168.47.171     51250         6                 179              2   \n",
            "3  192.168.47.171     51250         6                 122              2   \n",
            "4  192.168.47.171     51250         6                 164              2   \n",
            "\n",
            "   Total Bytes  Fwd Packets  Bwd Packets Packet Indices  \\\n",
            "0         1014            2            0         [0, 1]   \n",
            "1          233            1            1         [4, 5]   \n",
            "2          114            1            1         [6, 9]   \n",
            "3          114            1            1        [7, 10]   \n",
            "4          114            1            1        [8, 12]   \n",
            "\n",
            "                      Packet Timestamps  \n",
            "0  [1388935941566554, 1388935941572065]  \n",
            "1  [1388935942917554, 1388935942950520]  \n",
            "2  [1388935942952505, 1388935942952684]  \n",
            "3  [1388935942952578, 1388935942952700]  \n",
            "4  [1388935942952636, 1388935942952800]  \n",
            "\n",
            "Columns in the generated Flows DataFrame:\n",
            "['Flow ID', 'Src IP', 'Src Port', 'Dst IP', 'Dst Port', 'Protocol', 'Flow Duration (us)', 'Total Packets', 'Total Bytes', 'Fwd Packets', 'Bwd Packets', 'Packet Indices', 'Packet Timestamps']\n",
            "Reading packets from /content/PortScan/nmap_fin.pcap...\n",
            "Successfully read 2094 packets from /content/PortScan/nmap_fin.pcap.\n",
            "Extracted 2092 valid packets from PCAP.\n",
            "\n",
            "Processing packets into flows (simulating CICFlowMeter logic)...\n",
            "\n",
            "Discovered 1089 flows.\n",
            "\n",
            "Head of the generated Flows DataFrame:\n",
            "                                      Flow ID          Src IP  Src Port  \\\n",
            "0  192.168.47.1-192.168.47.255-17500-17500-17    192.168.47.1     17500   \n",
            "1      192.168.47.2-192.168.47.171-53-1045-17    192.168.47.2        53   \n",
            "2  192.168.47.134-192.168.47.171-8080-42276-6  192.168.47.134      8080   \n",
            "3    192.168.47.134-192.168.47.171-80-42276-6  192.168.47.134        80   \n",
            "4   192.168.47.134-192.168.47.171-113-42276-6  192.168.47.134       113   \n",
            "\n",
            "           Dst IP  Dst Port  Protocol  Flow Duration (us)  Total Packets  \\\n",
            "0  192.168.47.255     17500        17                5823              2   \n",
            "1  192.168.47.171      1045        17               30671              2   \n",
            "2  192.168.47.171     42276         6                 260              2   \n",
            "3  192.168.47.171     42276         6                 205              2   \n",
            "4  192.168.47.171     42276         6                 168              2   \n",
            "\n",
            "   Total Bytes  Fwd Packets  Bwd Packets Packet Indices  \\\n",
            "0         1014            2            0   [2088, 2089]   \n",
            "1          233            1            1         [2, 3]   \n",
            "2          114            1            1         [4, 8]   \n",
            "3          114            1            1         [5, 9]   \n",
            "4          114            1            1        [6, 10]   \n",
            "\n",
            "                      Packet Timestamps  \n",
            "0  [1388932226965901, 1388932226971724]  \n",
            "1  [1388932222591643, 1388932222622314]  \n",
            "2  [1388932222624197, 1388932222624457]  \n",
            "3  [1388932222624266, 1388932222624471]  \n",
            "4  [1388932222624324, 1388932222624492]  \n",
            "\n",
            "Columns in the generated Flows DataFrame:\n",
            "['Flow ID', 'Src IP', 'Src Port', 'Dst IP', 'Dst Port', 'Protocol', 'Flow Duration (us)', 'Total Packets', 'Total Bytes', 'Fwd Packets', 'Bwd Packets', 'Packet Indices', 'Packet Timestamps']\n",
            "Reading packets from /content/PortScan/Port Scanning attack.pcap...\n",
            "Successfully read 23329 packets from /content/PortScan/Port Scanning attack.pcap.\n",
            "Extracted 20734 valid packets from PCAP.\n",
            "\n",
            "Processing packets into flows (simulating CICFlowMeter logic)...\n",
            "\n",
            "Discovered 10475 flows.\n",
            "\n",
            "Head of the generated Flows DataFrame:\n",
            "                                  Flow ID         Src IP  Src Port  \\\n",
            "0  192.168.0.129-224.0.0.251-5353-5353-17  192.168.0.129      5353   \n",
            "1  192.168.0.129-224.0.0.251-5353-5353-17  192.168.0.129      5353   \n",
            "2  192.168.0.129-224.0.0.251-5353-5353-17  192.168.0.129      5353   \n",
            "3  192.168.0.129-224.0.0.251-5353-5353-17  192.168.0.129      5353   \n",
            "4  192.168.0.129-224.0.0.251-5353-5353-17  192.168.0.129      5353   \n",
            "\n",
            "        Dst IP  Dst Port  Protocol  Flow Duration (us)  Total Packets  \\\n",
            "0  224.0.0.251      5353        17                   0              1   \n",
            "1  224.0.0.251      5353        17                   0              1   \n",
            "2  224.0.0.251      5353        17                   0              1   \n",
            "3  224.0.0.251      5353        17                   0              1   \n",
            "4  224.0.0.251      5353        17                   0              1   \n",
            "\n",
            "   Total Bytes  Fwd Packets  Bwd Packets Packet Indices   Packet Timestamps  \n",
            "0          103            1            0            [6]  [1637766211626629]  \n",
            "1          103            1            0           [49]  [1637766231611688]  \n",
            "2          103            1            0           [92]  [1637766251624632]  \n",
            "3          103            1            0          [137]  [1637766271622531]  \n",
            "4          103            1            0          [187]  [1637766291613280]  \n",
            "\n",
            "Columns in the generated Flows DataFrame:\n",
            "['Flow ID', 'Src IP', 'Src Port', 'Dst IP', 'Dst Port', 'Protocol', 'Flow Duration (us)', 'Total Packets', 'Total Bytes', 'Fwd Packets', 'Bwd Packets', 'Packet Indices', 'Packet Timestamps']\n"
          ]
        }
      ],
      "source": [
        "# simulate cicflowmeter for each pcap file\n",
        "\n",
        "for attack in attacks:\n",
        "  pcap_files = os.listdir(f'/content/{attack}')\n",
        "  for pcap_file in pcap_files:\n",
        "    file_name = pcap_file.split('.')[0]\n",
        "    pcap_file_name = f'{file_name}.pcap'\n",
        "    pcap_file_dir = f'/content/{attack}/'\n",
        "\n",
        "    csv_file_name = f'{file_name}.csv'\n",
        "    csv_file_dir = f'/content/{attack}_csv/'\n",
        "\n",
        "    index_file_name = f'{file_name}_index.csv'\n",
        "    index_file_dir = f'/content/{attack}_index/'\n",
        "    try:\n",
        "      simulated_flows_df,total_packets = extract_flows_from_pcap(pcap_file_dir+pcap_file_name)\n",
        "      simulated_flows_df['Total_Packets'] = total_packets\n",
        "      simulated_flows_df.to_csv(index_file_dir+index_file_name, index=False)\n",
        "    except Exception as e:\n",
        "      print(f\"Error processing {pcap_file_name}: {e}\")\n",
        "      os.remove(pcap_file_dir+pcap_file_name)\n",
        "      os.remove(csv_file_dir+csv_file_name)\n",
        "      print(f\"Deleted {index_file_dir} due to error.\")"
      ]
    },
    {
      "cell_type": "code",
      "execution_count": 23,
      "metadata": {
        "id": "IsXX-DxpSOpf",
        "colab": {
          "base_uri": "https://localhost:8080/"
        },
        "outputId": "18a96209-8d3e-4fdf-dd6f-f60d600ad372"
      },
      "outputs": [
        {
          "output_type": "stream",
          "name": "stdout",
          "text": [
            "--------------------------------\n",
            "CSV in PortScan_index\n",
            "--------------------------------\n",
            "Port Scanning attack_index.csv\n",
            "nmap_null_index.csv\n",
            "nmap_fin_index.csv\n",
            "portscan_index.csv\n"
          ]
        }
      ],
      "source": [
        "# list all index.csv files\n",
        "\n",
        "for attack in attacks:\n",
        "  print('--------------------------------')\n",
        "  print(f\"CSV in {attack}_index\")\n",
        "  print('--------------------------------')\n",
        "  attack_indexs = os.listdir(f'/content/{attack}_index')\n",
        "  for attack_index in attack_indexs:\n",
        "    print(attack_index)"
      ]
    },
    {
      "cell_type": "code",
      "execution_count": 24,
      "metadata": {
        "id": "dXbxMCsERvrN"
      },
      "outputs": [],
      "source": [
        "# define function for combining simulated and original flow\n",
        "\n",
        "import pandas as pd\n",
        "import ipaddress # For robust IP address comparison\n",
        "\n",
        "# --- Start: Helper Functions (from previous scripts, for self-contained use) ---\n",
        "\n",
        "def generate_flow_key(packet_components):\n",
        "    \"\"\"\n",
        "    Generates a unique key for a flow based on the 5-tuple,\n",
        "    mimicking CICFlowMeter's Java BasicPacketInfo.generateFlowId() logic\n",
        "    for canonicalizing IP addresses and ports.\n",
        "\n",
        "    This function uses the raw protocol number, matching BasicPacketInfo.java.\n",
        "    Any mapping of non-TCP/UDP/ICMP protocols to '0' happens *after* Flow ID generation\n",
        "    in CICFlowMeter's pipeline (e.g., for display in FlowFeature.featureValue2String),\n",
        "    and is NOT part of the Flow ID itself.\n",
        "\n",
        "    Args:\n",
        "        packet_components (tuple): A tuple containing (src_ip_str, dst_ip_str, src_port, dst_port, protocol_int)\n",
        "    Returns:\n",
        "        tuple: Canonical 5-tuple (normalized_src_ip, normalized_dst_ip, normalized_src_port, normalized_dst_port, normalized_protocol_int)\n",
        "    \"\"\"\n",
        "    src_ip_str, dst_ip_str, src_port, dst_port, protocol_int = packet_components\n",
        "\n",
        "    # Use ipaddress for robust IP comparison, mirroring Java's byte-by-byte comparison\n",
        "    try:\n",
        "        src_ip_obj = ipaddress.ip_address(src_ip_str)\n",
        "        dst_ip_obj = ipaddress.ip_address(dst_ip_str)\n",
        "    except ValueError:\n",
        "        # Fallback for invalid IPs if any, should not happen with valid PCAP data\n",
        "        return (src_ip_str, dst_ip_str, src_port, dst_port, protocol_int)\n",
        "\n",
        "\n",
        "    # Determine 'forward' based on IP comparison: canonical_src_ip will be the \"smaller\" IP\n",
        "    if src_ip_obj < dst_ip_obj:\n",
        "        normalized_src_ip = src_ip_str\n",
        "        normalized_dst_ip = dst_ip_str\n",
        "        normalized_src_port = src_port\n",
        "        normalized_dst_port = dst_port\n",
        "    elif dst_ip_obj < src_ip_obj:\n",
        "        # Swap IPs and their corresponding ports for normalization\n",
        "        normalized_src_ip = dst_ip_str\n",
        "        normalized_dst_ip = src_ip_str\n",
        "        normalized_src_port = dst_port\n",
        "        normalized_dst_port = src_port\n",
        "    else: # IPs are equal (e.g., multicast or broadcast)\n",
        "        # If IPs are the same, Java's logic does NOT swap ports based on IP.\n",
        "        # It keeps original src/dst IPs and ports as they are.\n",
        "        normalized_src_ip = src_ip_str\n",
        "        normalized_dst_ip = dst_ip_str\n",
        "        normalized_src_port = src_port\n",
        "        normalized_dst_port = dst_port\n",
        "\n",
        "    # The canonical 5-tuple key for the hash map\n",
        "    return (normalized_src_ip, normalized_dst_ip, normalized_src_port, normalized_dst_port, protocol_int)\n",
        "\n",
        "def parse_flow_id_string(flow_id_str):\n",
        "    \"\"\"\n",
        "    Parses a Flow ID string (e.g., 'IP1-IP2-Port1-Port2-Protocol') into its components.\n",
        "    Returns a tuple (src_ip, dst_ip, src_port, dst_port, protocol_int) or None if parsing fails.\n",
        "    \"\"\"\n",
        "    parts = flow_id_str.split('-')\n",
        "    if len(parts) == 5:\n",
        "        try:\n",
        "            return (parts[0], parts[1], int(parts[2]), int(parts[3]), int(parts[4]))\n",
        "        except ValueError:\n",
        "            return None\n",
        "    return None\n",
        "\n",
        "def read_flows_to_dataframe(filepath: str, is_simulated_output: bool = False) -> pd.DataFrame:\n",
        "    \"\"\"\n",
        "    Reads flow data from a CSV file into a Pandas DataFrame.\n",
        "    Adds a 'Canonical_Flow_ID' column for merging.\n",
        "    Parses 'Packet Indices' and 'Packet Timestamps' for simulated output.\n",
        "    This function keeps all original rows and does not deduplicate based on Canonical Flow ID.\n",
        "\n",
        "    Args:\n",
        "        filepath (str): Path to the CSV file.\n",
        "        is_simulated_output (bool): True if reading our simulated output (with 'Packet Indices' column),\n",
        "                                    False if reading original CICFlowMeter output.\n",
        "\n",
        "    Returns:\n",
        "        pd.DataFrame: The loaded DataFrame with an added 'Canonical_Flow_ID' column.\n",
        "                      Returns an empty DataFrame if the file is not found or an error occurs.\n",
        "    \"\"\"\n",
        "    try:\n",
        "        df = pd.read_csv(filepath)\n",
        "\n",
        "        # Create a new column with parsed components for canonicalization\n",
        "        df['Parsed_Flow_Components'] = df['Flow ID'].apply(parse_flow_id_string)\n",
        "\n",
        "        # Filter out rows where parsing failed\n",
        "        df = df.dropna(subset=['Parsed_Flow_Components'])\n",
        "\n",
        "        # Apply canonicalization to create 'Canonical_Flow_ID'\n",
        "        df['Canonical_Flow_ID'] = df['Parsed_Flow_Components'].apply(generate_flow_key).apply(lambda x: \"-\".join(map(str, x)))\n",
        "\n",
        "        # Clean up temporary column\n",
        "        df = df.drop(columns=['Parsed_Flow_Components'])\n",
        "\n",
        "        total_packets = 0\n",
        "        # Special handling for our simulated output's 'Packet Indices' and 'Packet Timestamps'\n",
        "        if is_simulated_output:\n",
        "            if 'Total_Packets' in df.columns:\n",
        "                total_packets = df['Total_Packets'].iloc[0]\n",
        "            if 'Packet Indices' in df.columns:\n",
        "                try:\n",
        "                    df['Packet Indices'] = df['Packet Indices'].apply(eval)\n",
        "                except Exception as e:\n",
        "                    print(f\"Warning: Could not parse 'Packet Indices' in {filepath}: {e}\")\n",
        "                    df['Packet Indices'] = [[]] * len(df) # Assign empty list on error\n",
        "            if 'Packet Timestamps' in df.columns:\n",
        "                try:\n",
        "                    df['Packet Timestamps'] = df['Packet Timestamps'].apply(eval)\n",
        "                except Exception as e:\n",
        "                    print(f\"Warning: Could not parse 'Packet Timestamps' in {filepath}: {e}\")\n",
        "                    df['Packet Timestamps'] = [[]] * len(df) # Assign empty list on error\n",
        "\n",
        "        print(f\"Successfully loaded {len(df)} flows from '{filepath}'.\")\n",
        "        return df,total_packets\n",
        "    except FileNotFoundError:\n",
        "        print(f\"Error: File not found at '{filepath}'\")\n",
        "        return pd.DataFrame() # Return empty DataFrame on error\n",
        "    except Exception as e:\n",
        "        print(f\"Error reading or processing CSV file '{filepath}': {e}\")\n",
        "        return pd.DataFrame() # Return empty DataFrame on error\n",
        "\n",
        "# --- End: Helper Functions ---\n",
        "\n",
        "def merge_flows_and_return_dataframe(simulated_df: pd.DataFrame, original_df: pd.DataFrame) -> pd.DataFrame:\n",
        "    \"\"\"\n",
        "    Merges a DataFrame of simulated flows with a DataFrame of original CICFlowMeter flows\n",
        "    based on a canonical flow ID. It adds the 'Simulated Packet Indices' column to the\n",
        "    original flow data where a match is found.\n",
        "\n",
        "    Args:\n",
        "        simulated_df (pd.DataFrame): DataFrame containing flows generated by the simulation.\n",
        "                                     Expected to have 'Canonical_Flow_ID' and 'Packet Indices'.\n",
        "        original_df (pd.DataFrame): DataFrame containing flows from the original CICFlowMeter.\n",
        "                                    Expected to have 'Canonical_Flow_ID' and original flow features.\n",
        "\n",
        "    Returns:\n",
        "        pd.DataFrame: A merged DataFrame containing original CICFlowMeter features\n",
        "                      and 'Simulated Packet Indices' for matching flows.\n",
        "                      Returns an empty DataFrame if inputs are invalid.\n",
        "    \"\"\"\n",
        "    if simulated_df.empty or original_df.empty:\n",
        "        print(\"Cannot merge flows due to empty input DataFrames.\")\n",
        "        return pd.DataFrame()\n",
        "\n",
        "    # Perform a left merge on the 'Canonical_Flow_ID'\n",
        "    # Keep all rows from original_df, and add matching data from simulated_df.\n",
        "    # Select only 'Canonical_Flow_ID' and 'Packet Indices' from the simulated_df.\n",
        "    merged_df = pd.merge(\n",
        "        original_df,\n",
        "        simulated_df[['Canonical_Flow_ID', 'Packet Indices']],\n",
        "        on='Canonical_Flow_ID',\n",
        "        how='left',\n",
        "        suffixes=('_original', '_simulated')\n",
        "    )\n",
        "\n",
        "    # Rename the new column for clarity\n",
        "    merged_df = merged_df.rename(columns={\n",
        "        'Packet Indices': 'Simulated Packet Indices'\n",
        "    })\n",
        "\n",
        "    # Drop the 'Canonical_Flow_ID' column, as it's only for merging\n",
        "    merged_df = merged_df.drop(columns=['Canonical_Flow_ID'])\n",
        "\n",
        "    print(\"\\n--- Merged Flow Data (Original CICFlowMeter with Simulated Packet Indices) ---\")\n",
        "    print(f\"Total rows in merged DataFrame: {len(merged_df)}\")\n",
        "    print(\"Head of the merged DataFrame:\")\n",
        "    print(merged_df.head())\n",
        "\n",
        "    print(\"\\nColumns in the merged DataFrame:\")\n",
        "    print(merged_df.columns.tolist())\n",
        "\n",
        "    return merged_df"
      ]
    },
    {
      "cell_type": "code",
      "execution_count": 25,
      "metadata": {
        "id": "nWWktpjBVgnn",
        "colab": {
          "base_uri": "https://localhost:8080/"
        },
        "outputId": "431060da-b7d7-4949-a2c1-f73cbda1de0d"
      },
      "outputs": [
        {
          "output_type": "stream",
          "name": "stdout",
          "text": [
            "Successfully loaded 29 flows from '/content/PortScan_index//portscan_index.csv'.\n",
            "Successfully loaded 0 flows from '/content/PortScan_csv//portscan_ISCX.csv'.\n",
            "Cannot merge flows due to empty input DataFrames.\n",
            "Successfully loaded 1032 flows from '/content/PortScan_index//nmap_null_index.csv'.\n",
            "Successfully loaded 1002 flows from '/content/PortScan_csv//nmap_null_ISCX.csv'.\n",
            "\n",
            "--- Merged Flow Data (Original CICFlowMeter with Simulated Packet Indices) ---\n",
            "Total rows in merged DataFrame: 1002\n",
            "Head of the merged DataFrame:\n",
            "                                       Flow ID          Src IP  Src Port  \\\n",
            "0   192.168.47.134-192.168.47.171-3476-51250-6  192.168.47.171     51250   \n",
            "1   192.168.47.134-192.168.47.171-7443-51250-6  192.168.47.171     51250   \n",
            "2   192.168.47.134-192.168.47.171-8500-51250-6  192.168.47.171     51250   \n",
            "3  192.168.47.134-192.168.47.171-10616-51250-6  192.168.47.171     51250   \n",
            "4   192.168.47.134-192.168.47.171-9968-51250-6  192.168.47.171     51250   \n",
            "\n",
            "           Dst IP  Dst Port  Protocol            Timestamp  Flow Duration  \\\n",
            "0  192.168.47.134      3476         6  05/01/2014 03:32:23            120   \n",
            "1  192.168.47.134      7443         6  05/01/2014 03:32:22             68   \n",
            "2  192.168.47.134      8500         6  05/01/2014 03:32:22            127   \n",
            "3  192.168.47.134     10616         6  05/01/2014 03:32:23            154   \n",
            "4  192.168.47.134      9968         6  05/01/2014 03:32:23            119   \n",
            "\n",
            "   Tot Fwd Pkts  Tot Bwd Pkts  ...  Active Mean  Active Std  Active Max  \\\n",
            "0             1             1  ...            0           0           0   \n",
            "1             1             1  ...            0           0           0   \n",
            "2             1             1  ...            0           0           0   \n",
            "3             1             1  ...            0           0           0   \n",
            "4             1             1  ...            0           0           0   \n",
            "\n",
            "   Active Min  Idle Mean  Idle Std  Idle Max  Idle Min     Label  \\\n",
            "0           0          0         0         0         0  No Label   \n",
            "1           0          0         0         0         0  No Label   \n",
            "2           0          0         0         0         0  No Label   \n",
            "3           0          0         0         0         0  No Label   \n",
            "4           0          0         0         0         0  No Label   \n",
            "\n",
            "   Simulated Packet Indices  \n",
            "0              [1107, 1110]  \n",
            "1                [385, 387]  \n",
            "2                [529, 532]  \n",
            "3              [1032, 1035]  \n",
            "4              [1293, 1296]  \n",
            "\n",
            "[5 rows x 85 columns]\n",
            "\n",
            "Columns in the merged DataFrame:\n",
            "['Flow ID', 'Src IP', 'Src Port', 'Dst IP', 'Dst Port', 'Protocol', 'Timestamp', 'Flow Duration', 'Tot Fwd Pkts', 'Tot Bwd Pkts', 'TotLen Fwd Pkts', 'TotLen Bwd Pkts', 'Fwd Pkt Len Max', 'Fwd Pkt Len Min', 'Fwd Pkt Len Mean', 'Fwd Pkt Len Std', 'Bwd Pkt Len Max', 'Bwd Pkt Len Min', 'Bwd Pkt Len Mean', 'Bwd Pkt Len Std', 'Flow Byts/s', 'Flow Pkts/s', 'Flow IAT Mean', 'Flow IAT Std', 'Flow IAT Max', 'Flow IAT Min', 'Fwd IAT Tot', 'Fwd IAT Mean', 'Fwd IAT Std', 'Fwd IAT Max', 'Fwd IAT Min', 'Bwd IAT Tot', 'Bwd IAT Mean', 'Bwd IAT Std', 'Bwd IAT Max', 'Bwd IAT Min', 'Fwd PSH Flags', 'Bwd PSH Flags', 'Fwd URG Flags', 'Bwd URG Flags', 'Fwd Header Len', 'Bwd Header Len', 'Fwd Pkts/s', 'Bwd Pkts/s', 'Pkt Len Min', 'Pkt Len Max', 'Pkt Len Mean', 'Pkt Len Std', 'Pkt Len Var', 'FIN Flag Cnt', 'SYN Flag Cnt', 'RST Flag Cnt', 'PSH Flag Cnt', 'ACK Flag Cnt', 'URG Flag Cnt', 'CWE Flag Count', 'ECE Flag Cnt', 'Down/Up Ratio', 'Pkt Size Avg', 'Fwd Seg Size Avg', 'Bwd Seg Size Avg', 'Fwd Byts/b Avg', 'Fwd Pkts/b Avg', 'Fwd Blk Rate Avg', 'Bwd Byts/b Avg', 'Bwd Pkts/b Avg', 'Bwd Blk Rate Avg', 'Subflow Fwd Pkts', 'Subflow Fwd Byts', 'Subflow Bwd Pkts', 'Subflow Bwd Byts', 'Init Fwd Win Byts', 'Init Bwd Win Byts', 'Fwd Act Data Pkts', 'Fwd Seg Size Min', 'Active Mean', 'Active Std', 'Active Max', 'Active Min', 'Idle Mean', 'Idle Std', 'Idle Max', 'Idle Min', 'Label', 'Simulated Packet Indices']\n",
            "Successfully loaded 1089 flows from '/content/PortScan_index//nmap_fin_index.csv'.\n",
            "Successfully loaded 1002 flows from '/content/PortScan_csv//nmap_fin_ISCX.csv'.\n",
            "\n",
            "--- Merged Flow Data (Original CICFlowMeter with Simulated Packet Indices) ---\n",
            "Total rows in merged DataFrame: 1003\n",
            "Head of the merged DataFrame:\n",
            "                                       Flow ID          Src IP  Src Port  \\\n",
            "0    192.168.47.134-192.168.47.171-783-42276-6  192.168.47.171     42276   \n",
            "1  192.168.47.134-192.168.47.171-10009-42276-6  192.168.47.171     42276   \n",
            "2   192.168.47.134-192.168.47.171-3998-42277-6  192.168.47.171     42277   \n",
            "3   192.168.47.134-192.168.47.171-1063-42276-6  192.168.47.171     42276   \n",
            "4   192.168.47.134-192.168.47.171-8002-42276-6  192.168.47.171     42276   \n",
            "\n",
            "           Dst IP  Dst Port  Protocol            Timestamp  Flow Duration  \\\n",
            "0  192.168.47.134       783         6  05/01/2014 02:30:22            107   \n",
            "1  192.168.47.134     10009         6  05/01/2014 02:30:22             99   \n",
            "2  192.168.47.134      3998         6  05/01/2014 02:30:23            311   \n",
            "3  192.168.47.134      1063         6  05/01/2014 02:30:22            127   \n",
            "4  192.168.47.134      8002         6  05/01/2014 02:30:22             99   \n",
            "\n",
            "   Tot Fwd Pkts  Tot Bwd Pkts  ...  Active Mean  Active Std  Active Max  \\\n",
            "0             1             1  ...          0.0         0.0         0.0   \n",
            "1             1             1  ...          0.0         0.0         0.0   \n",
            "2             1             1  ...          0.0         0.0         0.0   \n",
            "3             1             1  ...          0.0         0.0         0.0   \n",
            "4             1             1  ...          0.0         0.0         0.0   \n",
            "\n",
            "   Active Min  Idle Mean  Idle Std  Idle Max  Idle Min     Label  \\\n",
            "0         0.0        0.0       0.0       0.0       0.0  No Label   \n",
            "1         0.0        0.0       0.0       0.0       0.0  No Label   \n",
            "2         0.0        0.0       0.0       0.0       0.0  No Label   \n",
            "3         0.0        0.0       0.0       0.0       0.0  No Label   \n",
            "4         0.0        0.0       0.0       0.0       0.0  No Label   \n",
            "\n",
            "   Simulated Packet Indices  \n",
            "0                [659, 662]  \n",
            "1                [467, 470]  \n",
            "2              [1683, 1686]  \n",
            "3              [1007, 1010]  \n",
            "4              [1461, 1464]  \n",
            "\n",
            "[5 rows x 85 columns]\n",
            "\n",
            "Columns in the merged DataFrame:\n",
            "['Flow ID', 'Src IP', 'Src Port', 'Dst IP', 'Dst Port', 'Protocol', 'Timestamp', 'Flow Duration', 'Tot Fwd Pkts', 'Tot Bwd Pkts', 'TotLen Fwd Pkts', 'TotLen Bwd Pkts', 'Fwd Pkt Len Max', 'Fwd Pkt Len Min', 'Fwd Pkt Len Mean', 'Fwd Pkt Len Std', 'Bwd Pkt Len Max', 'Bwd Pkt Len Min', 'Bwd Pkt Len Mean', 'Bwd Pkt Len Std', 'Flow Byts/s', 'Flow Pkts/s', 'Flow IAT Mean', 'Flow IAT Std', 'Flow IAT Max', 'Flow IAT Min', 'Fwd IAT Tot', 'Fwd IAT Mean', 'Fwd IAT Std', 'Fwd IAT Max', 'Fwd IAT Min', 'Bwd IAT Tot', 'Bwd IAT Mean', 'Bwd IAT Std', 'Bwd IAT Max', 'Bwd IAT Min', 'Fwd PSH Flags', 'Bwd PSH Flags', 'Fwd URG Flags', 'Bwd URG Flags', 'Fwd Header Len', 'Bwd Header Len', 'Fwd Pkts/s', 'Bwd Pkts/s', 'Pkt Len Min', 'Pkt Len Max', 'Pkt Len Mean', 'Pkt Len Std', 'Pkt Len Var', 'FIN Flag Cnt', 'SYN Flag Cnt', 'RST Flag Cnt', 'PSH Flag Cnt', 'ACK Flag Cnt', 'URG Flag Cnt', 'CWE Flag Count', 'ECE Flag Cnt', 'Down/Up Ratio', 'Pkt Size Avg', 'Fwd Seg Size Avg', 'Bwd Seg Size Avg', 'Fwd Byts/b Avg', 'Fwd Pkts/b Avg', 'Fwd Blk Rate Avg', 'Bwd Byts/b Avg', 'Bwd Pkts/b Avg', 'Bwd Blk Rate Avg', 'Subflow Fwd Pkts', 'Subflow Fwd Byts', 'Subflow Bwd Pkts', 'Subflow Bwd Byts', 'Init Fwd Win Byts', 'Init Bwd Win Byts', 'Fwd Act Data Pkts', 'Fwd Seg Size Min', 'Active Mean', 'Active Std', 'Active Max', 'Active Min', 'Idle Mean', 'Idle Std', 'Idle Max', 'Idle Min', 'Label', 'Simulated Packet Indices']\n",
            "Successfully loaded 10475 flows from '/content/PortScan_index//Port Scanning attack_index.csv'.\n",
            "Successfully loaded 10285 flows from '/content/PortScan_csv//Port Scanning attack_ISCX.csv'.\n",
            "\n",
            "--- Merged Flow Data (Original CICFlowMeter with Simulated Packet Indices) ---\n",
            "Total rows in merged DataFrame: 19080\n",
            "Head of the merged DataFrame:\n",
            "                                  Flow ID         Src IP  Src Port  \\\n",
            "0  192.168.0.129-224.0.0.251-5353-5353-17  192.168.0.129      5353   \n",
            "1  192.168.0.129-224.0.0.251-5353-5353-17  192.168.0.129      5353   \n",
            "2  192.168.0.129-224.0.0.251-5353-5353-17  192.168.0.129      5353   \n",
            "3  192.168.0.129-224.0.0.251-5353-5353-17  192.168.0.129      5353   \n",
            "4  192.168.0.129-224.0.0.251-5353-5353-17  192.168.0.129      5353   \n",
            "\n",
            "        Dst IP  Dst Port  Protocol            Timestamp  Flow Duration  \\\n",
            "0  224.0.0.251      5353        17  24/11/2021 03:03:31      102779066   \n",
            "1  224.0.0.251      5353        17  24/11/2021 03:03:31      102779066   \n",
            "2  224.0.0.251      5353        17  24/11/2021 03:03:31      102779066   \n",
            "3  224.0.0.251      5353        17  24/11/2021 03:03:31      102779066   \n",
            "4  224.0.0.251      5353        17  24/11/2021 03:03:31      102779066   \n",
            "\n",
            "   Tot Fwd Pkts  Tot Bwd Pkts  ...  Active Mean  Active Std  Active Max  \\\n",
            "0             8             0  ...          0.0         0.0         0.0   \n",
            "1             8             0  ...          0.0         0.0         0.0   \n",
            "2             8             0  ...          0.0         0.0         0.0   \n",
            "3             8             0  ...          0.0         0.0         0.0   \n",
            "4             8             0  ...          0.0         0.0         0.0   \n",
            "\n",
            "   Active Min   Idle Mean       Idle Std    Idle Max    Idle Min     Label  \\\n",
            "0         0.0  20111950.2  258002.010369  20573100.0  19985059.0  No Label   \n",
            "1         0.0  20111950.2  258002.010369  20573100.0  19985059.0  No Label   \n",
            "2         0.0  20111950.2  258002.010369  20573100.0  19985059.0  No Label   \n",
            "3         0.0  20111950.2  258002.010369  20573100.0  19985059.0  No Label   \n",
            "4         0.0  20111950.2  258002.010369  20573100.0  19985059.0  No Label   \n",
            "\n",
            "   Simulated Packet Indices  \n",
            "0                       [6]  \n",
            "1                      [49]  \n",
            "2                      [92]  \n",
            "3                     [137]  \n",
            "4                     [187]  \n",
            "\n",
            "[5 rows x 85 columns]\n",
            "\n",
            "Columns in the merged DataFrame:\n",
            "['Flow ID', 'Src IP', 'Src Port', 'Dst IP', 'Dst Port', 'Protocol', 'Timestamp', 'Flow Duration', 'Tot Fwd Pkts', 'Tot Bwd Pkts', 'TotLen Fwd Pkts', 'TotLen Bwd Pkts', 'Fwd Pkt Len Max', 'Fwd Pkt Len Min', 'Fwd Pkt Len Mean', 'Fwd Pkt Len Std', 'Bwd Pkt Len Max', 'Bwd Pkt Len Min', 'Bwd Pkt Len Mean', 'Bwd Pkt Len Std', 'Flow Byts/s', 'Flow Pkts/s', 'Flow IAT Mean', 'Flow IAT Std', 'Flow IAT Max', 'Flow IAT Min', 'Fwd IAT Tot', 'Fwd IAT Mean', 'Fwd IAT Std', 'Fwd IAT Max', 'Fwd IAT Min', 'Bwd IAT Tot', 'Bwd IAT Mean', 'Bwd IAT Std', 'Bwd IAT Max', 'Bwd IAT Min', 'Fwd PSH Flags', 'Bwd PSH Flags', 'Fwd URG Flags', 'Bwd URG Flags', 'Fwd Header Len', 'Bwd Header Len', 'Fwd Pkts/s', 'Bwd Pkts/s', 'Pkt Len Min', 'Pkt Len Max', 'Pkt Len Mean', 'Pkt Len Std', 'Pkt Len Var', 'FIN Flag Cnt', 'SYN Flag Cnt', 'RST Flag Cnt', 'PSH Flag Cnt', 'ACK Flag Cnt', 'URG Flag Cnt', 'CWE Flag Count', 'ECE Flag Cnt', 'Down/Up Ratio', 'Pkt Size Avg', 'Fwd Seg Size Avg', 'Bwd Seg Size Avg', 'Fwd Byts/b Avg', 'Fwd Pkts/b Avg', 'Fwd Blk Rate Avg', 'Bwd Byts/b Avg', 'Bwd Pkts/b Avg', 'Bwd Blk Rate Avg', 'Subflow Fwd Pkts', 'Subflow Fwd Byts', 'Subflow Bwd Pkts', 'Subflow Bwd Byts', 'Init Fwd Win Byts', 'Init Bwd Win Byts', 'Fwd Act Data Pkts', 'Fwd Seg Size Min', 'Active Mean', 'Active Std', 'Active Max', 'Active Min', 'Idle Mean', 'Idle Std', 'Idle Max', 'Idle Min', 'Label', 'Simulated Packet Indices']\n"
          ]
        }
      ],
      "source": [
        "# combine simulate and original flow , for each flow\n",
        "\n",
        "for attack in attacks:\n",
        "  pcap_files = os.listdir(f'/content/{attack}')\n",
        "  for pcap_file in pcap_files:\n",
        "    file_name = pcap_file.split('.')[0]\n",
        "    pcap_file_name = f'{file_name}.pcap'\n",
        "    pcap_file_dir = f'/content/{attack}/'\n",
        "\n",
        "    csv_file_name = f'{file_name}_ISCX.csv'\n",
        "    csv_file_dir = f'/content/{attack}_csv/'\n",
        "\n",
        "    index_file_name = f'{file_name}_index.csv'\n",
        "    index_file_dir = f'/content/{attack}_index/'\n",
        "\n",
        "    simulated_csv_path = f'{index_file_dir}/{index_file_name}'\n",
        "    original_cic_csv_path = f'{csv_file_dir}/{csv_file_name}'\n",
        "\n",
        "    # Read the data from both CSVs into DataFrames using the helper function\n",
        "    simulated_df,total_packets = read_flows_to_dataframe(simulated_csv_path, is_simulated_output=True)\n",
        "    original_df,placeholder = read_flows_to_dataframe(original_cic_csv_path, is_simulated_output=False)\n",
        "\n",
        "    # Merge the flows and get the resulting DataFrame\n",
        "    final_merged_df = merge_flows_and_return_dataframe(simulated_df, original_df)\n",
        "    final_merged_df['Total_Packets'] = total_packets\n",
        "    final_merged_df.to_csv(f'{index_file_dir}/{index_file_name}', index=False)"
      ]
    },
    {
      "cell_type": "markdown",
      "metadata": {
        "id": "eUsuVyYqX6Ei"
      },
      "source": [
        "# Prediction"
      ]
    },
    {
      "cell_type": "code",
      "execution_count": 28,
      "metadata": {
        "id": "STzSwfrBX8Y1"
      },
      "outputs": [],
      "source": [
        "# define function for dataframe preprocessing\n",
        "\n",
        "import pandas as pd\n",
        "import numpy as np\n",
        "import ast\n",
        "\n",
        "def map_port(port):\n",
        "    if port == 21:\n",
        "        return 1  # FTP\n",
        "    elif port == 22:\n",
        "        return 2  # SSH\n",
        "    elif port == 53:\n",
        "        return 3  # DNS\n",
        "    elif port == 80:\n",
        "        return 4  # HTTP\n",
        "    elif port == 443:\n",
        "        return 5  # HTTPS\n",
        "    else:\n",
        "        return 6  # Other\n",
        "\n",
        "def preprocess_dataframe(df):\n",
        "    original_indices = set(df.index)\n",
        "\n",
        "    # replace space in columns name with underscore\n",
        "    df.columns = df.columns.str.strip().str.replace(' ', '_')\n",
        "\n",
        "    # drop objects type columns\n",
        "    columns_to_drop = [\n",
        "        'Flow_ID','Src_IP','Dst_IP','Src_Port','Protocol','Timestamp','Label'\n",
        "    ]\n",
        "\n",
        "    df = df.drop(columns=columns_to_drop)\n",
        "\n",
        "    # remove rows with missing and infinite values\n",
        "    df.replace([np.inf, -np.inf], np.nan, inplace=True)\n",
        "    df = df.dropna()\n",
        "\n",
        "    # map destination port to 1-6 numbers\n",
        "    df['Dst_Port'] = df['Dst_Port'].apply(map_port)\n",
        "\n",
        "    return df\n",
        "\n",
        "# preprocess_dataframe(df)"
      ]
    },
    {
      "cell_type": "code",
      "execution_count": 38,
      "metadata": {
        "id": "35mrjNeMYBCn",
        "colab": {
          "base_uri": "https://localhost:8080/"
        },
        "outputId": "e9dae41b-9a26-4c7d-e6c9-c0f287ee46df"
      },
      "outputs": [
        {
          "output_type": "stream",
          "name": "stdout",
          "text": [
            "nmap_null_index.csv\n",
            "nmap_fin_index.csv\n",
            "Port Scanning attack_index.csv\n"
          ]
        }
      ],
      "source": [
        "# get prediction for each packet\n",
        "\n",
        "from collections import Counter\n",
        "\n",
        "def choose_label(labels):\n",
        "    if all(label == 'Benign' for label in labels):\n",
        "        return 'Benign'\n",
        "\n",
        "    # Count non-Benign labels\n",
        "    non_benign_labels = [label for label in labels if label != 'Benign']\n",
        "    label_counts = Counter(non_benign_labels)\n",
        "\n",
        "    # Return the most common non-Benign label\n",
        "    most_common_label, _ = label_counts.most_common(1)[0]\n",
        "    return most_common_label\n",
        "\n",
        "for attack in attacks:\n",
        "  pcap_files = os.listdir(f'/content/{attack}')\n",
        "  for pcap_file in pcap_files:\n",
        "    file_name = pcap_file.split('.')[0]\n",
        "    pcap_file_name = f'{file_name}.pcap'\n",
        "    pcap_file_dir = f'/content/{attack}/'\n",
        "\n",
        "    csv_file_name = f'{file_name}_ISCX.csv'\n",
        "    csv_file_dir = f'/content/{attack}_csv/'\n",
        "\n",
        "    index_file_name = f'{file_name}_index.csv'\n",
        "    index_file_dir = f'/content/{attack}_index/'\n",
        "\n",
        "    prediction_file_name = f'{file_name}_prediction.csv'\n",
        "    prediction_file_dir = f'/content/{attack}_prediction/'\n",
        "\n",
        "    print(index_file_name)\n",
        "    df = pd.read_csv(f'{index_file_dir}/{index_file_name}')\n",
        "    df = preprocess_dataframe(df)\n",
        "\n",
        "    total_packets = df['Total_Packets'].iloc[0]\n",
        "    df = df.drop(columns=['Total_Packets'])\n",
        "    # print(f\"{pcap_file_name} : {total_packets}\")\n",
        "\n",
        "    df_packet_index = df['Simulated_Packet_Indices']\n",
        "    df_packet_index = df_packet_index.apply(ast.literal_eval)\n",
        "\n",
        "    df = df.drop(columns=['Simulated_Packet_Indices'])\n",
        "    df_prediction = model.predict(df)\n",
        "\n",
        "    df_prediction = pd.DataFrame({\n",
        "    'Packet_Indices': df_packet_index,\n",
        "    'Label': df_prediction\n",
        "    })\n",
        "\n",
        "    df_prediction = df_prediction.explode('Packet_Indices').reset_index(drop=True)\n",
        "\n",
        "    # after edit\n",
        "    df_prediction = df_prediction.groupby('Packet_Indices')['Label'].apply(list).reset_index()\n",
        "    df_prediction['Chosen_Label'] = df_prediction['Label'].apply(choose_label)\n",
        "\n",
        "    full_indices = set(range(1, total_packets + 1))\n",
        "    existing_indices = set(df_prediction['Packet_Indices'])\n",
        "    missing_indices = sorted(full_indices - existing_indices)\n",
        "\n",
        "    df_missing = pd.DataFrame({\n",
        "    'Packet_Indices': missing_indices,\n",
        "    'Label': [['Benign']] * len(missing_indices),\n",
        "    'Chosen_Label': ['Benign'] * len(missing_indices),\n",
        "    })\n",
        "\n",
        "    df_prediction = pd.concat([df_prediction, df_missing], ignore_index=True)\n",
        "\n",
        "    df_prediction.sort_values(by='Packet_Indices', inplace=True)\n",
        "    df_prediction.reset_index(drop=True, inplace=True)\n",
        "\n",
        "    os.makedirs(prediction_file_dir, exist_ok=True)\n",
        "    df_prediction.to_csv(f'{prediction_file_dir}/{prediction_file_name}', index=False)"
      ]
    },
    {
      "cell_type": "code",
      "execution_count": 39,
      "metadata": {
        "id": "vdVopIgJsgyF",
        "colab": {
          "base_uri": "https://localhost:8080/"
        },
        "outputId": "57b93003-742a-4b49-d145-8f8e8a6bc2cc"
      },
      "outputs": [
        {
          "output_type": "stream",
          "name": "stdout",
          "text": [
            "nmap_null.pcap = Chosen_Label\n",
            "Benign    2037\n",
            "Name: count, dtype: int64\n",
            "nmap_fin.pcap = Chosen_Label\n",
            "Benign    2094\n",
            "Name: count, dtype: int64\n",
            "Port Scanning attack.pcap = Chosen_Label\n",
            "Benign    23330\n",
            "Name: count, dtype: int64\n"
          ]
        }
      ],
      "source": [
        "# just seeing choosen_label value counts\n",
        "\n",
        "for attack in attacks:\n",
        "  pcap_files = os.listdir(f'/content/{attack}')\n",
        "  for pcap_file in pcap_files:\n",
        "    file_name = pcap_file.split('.')[0]\n",
        "    pcap_file_name = f'{file_name}.pcap'\n",
        "    pcap_file_dir = f'/content/{attack}/'\n",
        "\n",
        "    csv_file_name = f'{file_name}_ISCX.csv'\n",
        "    csv_file_dir = f'/content/{attack}_csv/'\n",
        "\n",
        "    index_file_name = f'{file_name}_index.csv'\n",
        "    index_file_dir = f'/content/{attack}_index/'\n",
        "\n",
        "    prediction_file_name = f'{file_name}_prediction.csv'\n",
        "    prediction_file_dir = f'/content/{attack}_prediction/'\n",
        "\n",
        "    df = pd.read_csv(f'{prediction_file_dir}/{prediction_file_name}')\n",
        "    print(f\"{pcap_file_name} = {df['Chosen_Label'].value_counts()}\")"
      ]
    },
    {
      "cell_type": "code",
      "execution_count": 40,
      "metadata": {
        "id": "NoIDleSovPmF"
      },
      "outputs": [],
      "source": [
        "os.makedirs('/content/Result', exist_ok=True)"
      ]
    },
    {
      "cell_type": "code",
      "execution_count": 41,
      "metadata": {
        "id": "DaZzbHqktyYx"
      },
      "outputs": [],
      "source": [
        "# get the pcap label with most label packets and save to result\n",
        "\n",
        "import os\n",
        "import pandas as pd\n",
        "\n",
        "def get_dominant_label(label_series):\n",
        "    counts = label_series.value_counts()\n",
        "    if len(counts) == 1 and 'Benign' in counts:\n",
        "        return 'Benign'\n",
        "    counts = counts.drop('Benign', errors='ignore')\n",
        "    return counts.idxmax() if not counts.empty else 'Benign'\n",
        "\n",
        "\n",
        "\n",
        "for attack in attacks:\n",
        "    results = []\n",
        "    pcap_files = os.listdir(f'/content/{attack}')\n",
        "    for pcap_file in pcap_files:\n",
        "        file_name = pcap_file.split('.')[0]\n",
        "        pcap_file_name = f'{file_name}.pcap'\n",
        "\n",
        "        prediction_file_name = f'{file_name}_prediction.csv'\n",
        "        prediction_file_dir = f'/content/{attack}_prediction'\n",
        "        prediction_csv_path = os.path.join(prediction_file_dir, prediction_file_name)\n",
        "\n",
        "        if not os.path.isfile(prediction_csv_path):\n",
        "            continue  # Skip missing prediction files\n",
        "\n",
        "        df = pd.read_csv(prediction_csv_path)\n",
        "        final_pcap_label = get_dominant_label(df['Chosen_Label'])\n",
        "\n",
        "        results.append({\n",
        "            'File_Name': pcap_file_name,\n",
        "            'Result': final_pcap_label,\n",
        "            'Attack': attack\n",
        "        })\n",
        "\n",
        "    df_all_results = pd.DataFrame(results)\n",
        "    df_all_results.to_csv(f'/content/Result/{attack}_result.csv', index=False)"
      ]
    },
    {
      "cell_type": "code",
      "execution_count": 42,
      "metadata": {
        "id": "qRqtIpYEwImD",
        "colab": {
          "base_uri": "https://localhost:8080/"
        },
        "outputId": "4b196f4d-2c2a-42f8-f22a-7c07815ac31d"
      },
      "outputs": [
        {
          "output_type": "stream",
          "name": "stdout",
          "text": [
            "Classification Report for PortScan:\n",
            "              precision    recall  f1-score   support\n",
            "\n",
            "      Benign       0.00      0.00      0.00       0.0\n",
            "    PortScan       0.00      0.00      0.00       3.0\n",
            "\n",
            "    accuracy                           0.00       3.0\n",
            "   macro avg       0.00      0.00      0.00       3.0\n",
            "weighted avg       0.00      0.00      0.00       3.0\n",
            "\n",
            "----------------------------------------\n"
          ]
        }
      ],
      "source": [
        "# prompt: generated sklearn classification result of each attack_result with y_test being Attack column and y_pred being Result column\n",
        "\n",
        "from sklearn.metrics import classification_report\n",
        "\n",
        "for attack in attacks:\n",
        "  result_csv_path = f'/content/Result/{attack}_result.csv'\n",
        "  if os.path.exists(result_csv_path):\n",
        "    df_result = pd.read_csv(result_csv_path)\n",
        "\n",
        "    y_true = df_result['Attack']\n",
        "    y_pred = df_result['Result']\n",
        "\n",
        "    print(f\"Classification Report for {attack}:\")\n",
        "    print(classification_report(y_true, y_pred, zero_division=0)) # Use zero_division=0 to handle cases where a class has no predicted samples\n",
        "\n",
        "  else:\n",
        "    print(f\"No result file found for {attack}.\")\n",
        "  print(\"-\" * 40)"
      ]
    },
    {
      "cell_type": "code",
      "execution_count": 43,
      "metadata": {
        "id": "cCVJt-YJtA3s",
        "colab": {
          "base_uri": "https://localhost:8080/"
        },
        "outputId": "10c1a3ef-771f-4085-fdef-05ae55b63cfa"
      },
      "outputs": [
        {
          "output_type": "stream",
          "name": "stdout",
          "text": [
            "\n",
            "--- Classification Report ---\n",
            "              precision    recall  f1-score   support\n",
            "\n",
            "      Benign       0.00      0.00      0.00       0.0\n",
            "    PortScan       0.00      0.00      0.00   27461.0\n",
            "\n",
            "    accuracy                           0.00   27461.0\n",
            "   macro avg       0.00      0.00      0.00   27461.0\n",
            "weighted avg       0.00      0.00      0.00   27461.0\n",
            "\n"
          ]
        }
      ],
      "source": [
        "from sklearn.metrics import classification_report\n",
        "\n",
        "all_true_labels = []\n",
        "all_predicted_labels = []\n",
        "\n",
        "for attack in attacks:\n",
        "    pcap_files = os.listdir(f'/content/{attack}')\n",
        "    for pcap_file in pcap_files:\n",
        "        file_name = pcap_file.split('.')[0]\n",
        "        prediction_file_name = f'{file_name}_prediction.csv'\n",
        "        prediction_file_dir = f'/content/{attack}_prediction/'\n",
        "        prediction_csv_path = f'{prediction_file_dir}/{prediction_file_name}'\n",
        "\n",
        "        try:\n",
        "            df_prediction = pd.read_csv(prediction_csv_path)\n",
        "            # The true label for all packets in this file is the 'attack' name\n",
        "            if attack != 'DoS-SlowRate':\n",
        "                true_label = attack\n",
        "            else:\n",
        "                true_label = 'DoS-Slow-Rate'\n",
        "\n",
        "            # Collect the predicted label for each packet from 'Chosen_Label'\n",
        "            predicted_labels = df_prediction['Chosen_Label'].tolist()\n",
        "\n",
        "            # Extend our master lists\n",
        "            all_true_labels.extend([true_label] * len(predicted_labels))\n",
        "            all_predicted_labels.extend(predicted_labels)\n",
        "\n",
        "        except FileNotFoundError:\n",
        "            print(f\"Prediction file not found for {pcap_file}: {prediction_csv_path}\")\n",
        "        except Exception as e:\n",
        "            print(f\"Error processing prediction file {prediction_csv_path}: {e}\")\n",
        "\n",
        "# Now, print the classification report using the collected true and predicted labels\n",
        "if all_true_labels and all_predicted_labels:\n",
        "    print(\"\\n--- Classification Report ---\")\n",
        "    # Ensure both lists are of the same length\n",
        "    if len(all_true_labels) == len(all_predicted_labels):\n",
        "        print(classification_report(all_true_labels, all_predicted_labels, zero_division=0))\n",
        "    else:\n",
        "        print(\"Error: Mismatch in the number of true labels and predicted labels.\")\n",
        "else:\n",
        "    print(\"\\nNo data collected to generate a classification report.\")"
      ]
    },
    {
      "cell_type": "code",
      "execution_count": 44,
      "metadata": {
        "id": "7M3gBxr13s1W",
        "colab": {
          "base_uri": "https://localhost:8080/",
          "height": 787
        },
        "outputId": "4e7ec56b-4e21-4683-a128-bf93188eb986"
      },
      "outputs": [
        {
          "output_type": "stream",
          "name": "stdout",
          "text": [
            "\n",
            "--- Confusion Matrix ---\n",
            "[[    0     0]\n",
            " [27461     0]]\n"
          ]
        },
        {
          "output_type": "display_data",
          "data": {
            "text/plain": [
              "<Figure size 1000x800 with 2 Axes>"
            ],
            "image/png": "[encoded data removed]"
          },
          "metadata": {}
        }
      ],
      "source": [
        "# prompt: do confusion matrix of the from sklearn.metrics import classification_report\n",
        "# all_true_labels = []\n",
        "# all_predicted_labels = []\n",
        "# for attack in attacks:\n",
        "#     pcap_files = os.listdir(f'/content/{attack}')\n",
        "#     for pcap_file in pcap_files:\n",
        "#         file_name = pcap_file.split('.')[0]\n",
        "#         prediction_file_name = f'{file_name}_prediction.csv'\n",
        "#         prediction_file_dir = f'/content/{attack}_prediction/'\n",
        "#         prediction_csv_path = f'{prediction_file_dir}/{prediction_file_name}'\n",
        "#         try:\n",
        "#             df_prediction = pd.read_csv(prediction_csv_path)\n",
        "#             # The true label for all packets in this file is the 'attack' name\n",
        "#             if attack != 'DoS-SlowRate':\n",
        "#                 true_label = attack\n",
        "#             else:\n",
        "#                 true_label = 'DoS-Slow-Rate'\n",
        "#             # Collect the predicted label for each packet from 'Chosen_Label'\n",
        "#             predicted_labels = df_prediction['Chosen_Label'].tolist()\n",
        "#             # Extend our master lists\n",
        "#             all_true_labels.extend([true_label] * len(predicted_labels))\n",
        "#             all_predicted_labels.extend(predicted_labels)\n",
        "#         except FileNotFoundError:\n",
        "#             print(f\"Prediction file not found for {pcap_file}: {prediction_csv_path}\")\n",
        "#         except Exception as e:\n",
        "#             print(f\"Error processing prediction file {prediction_csv_path}: {e}\")\n",
        "# # Now, print the classification report using the collected true and predicted labels\n",
        "# if all_true_labels and all_predicted_labels:\n",
        "#     print(\"\\n--- Classification Report ---\")\n",
        "#     # Ensure both lists are of the same length\n",
        "#     if len(all_true_labels) == len(all_predicted_labels):\n",
        "#         print(classification_report(all_true_labels, all_predicted_labels, zero_division=0))\n",
        "#     else:\n",
        "#         print(\"Error: Mismatch in the number of true labels and predicted labels.\")\n",
        "# else:\n",
        "#     print(\"\\nNo data collected to generate a classification report.\") too\n",
        "\n",
        "from sklearn.metrics import confusion_matrix\n",
        "import seaborn as sns\n",
        "import matplotlib.pyplot as plt\n",
        "\n",
        "# Generate the confusion matrix\n",
        "# Ensure the unique labels are consistent across true and predicted lists\n",
        "unique_labels = sorted(list(set(all_true_labels + all_predicted_labels)))\n",
        "\n",
        "if all_true_labels and all_predicted_labels and len(all_true_labels) == len(all_predicted_labels):\n",
        "    cm = confusion_matrix(all_true_labels, all_predicted_labels, labels=unique_labels)\n",
        "\n",
        "    print(\"\\n--- Confusion Matrix ---\")\n",
        "    print(cm)\n",
        "\n",
        "    # Optional: Visualize the confusion matrix using seaborn and matplotlib\n",
        "    plt.figure(figsize=(10, 8))\n",
        "    sns.heatmap(cm, annot=True, fmt='d', cmap='Blues', xticklabels=unique_labels, yticklabels=unique_labels)\n",
        "    plt.xlabel('Predicted Label')\n",
        "    plt.ylabel('True Label')\n",
        "    plt.title('Confusion Matrix')\n",
        "    plt.show()\n",
        "else:\n",
        "    print(\"\\nCannot generate Confusion Matrix: Mismatch in the number of true labels and predicted labels or no data collected.\")\n"
      ]
    },
    {
      "cell_type": "markdown",
      "metadata": {
        "id": "thSpiNCNb0tR"
      },
      "source": [
        "# Additional"
      ]
    },
    {
      "cell_type": "code",
      "execution_count": 45,
      "metadata": {
        "id": "1XWcQAeEbSiW",
        "colab": {
          "base_uri": "https://localhost:8080/",
          "height": 1000
        },
        "outputId": "914cfbbd-765e-4ca2-9716-f9ea9f202e5e"
      },
      "outputs": [
        {
          "output_type": "stream",
          "name": "stdout",
          "text": [
            "\n",
            "--- Confusion Matrix for nmap_null.pcap ---\n",
            "[[   0    0]\n",
            " [2037    0]]\n"
          ]
        },
        {
          "output_type": "display_data",
          "data": {
            "text/plain": [
              "<Figure size 600x500 with 2 Axes>"
            ],
            "image/png": "[encoded data removed]"
          },
          "metadata": {}
        },
        {
          "output_type": "stream",
          "name": "stdout",
          "text": [
            "\n",
            "--- Confusion Matrix for nmap_fin.pcap ---\n",
            "[[   0    0]\n",
            " [2094    0]]\n"
          ]
        },
        {
          "output_type": "display_data",
          "data": {
            "text/plain": [
              "<Figure size 600x500 with 2 Axes>"
            ],
            "image/png": "[encoded data removed]"
          },
          "metadata": {}
        },
        {
          "output_type": "stream",
          "name": "stdout",
          "text": [
            "\n",
            "--- Confusion Matrix for Port Scanning attack.pcap ---\n",
            "[[    0     0]\n",
            " [23330     0]]\n"
          ]
        },
        {
          "output_type": "display_data",
          "data": {
            "text/plain": [
              "<Figure size 600x500 with 2 Axes>"
            ],
            "image/png": "[encoded data removed]"
          },
          "metadata": {}
        }
      ],
      "source": [
        "# prompt: print confsion matrix of each pcap file instead possible?\n",
        "# # prompt: do confusion matrix of the from sklearn.metrics import classification_report\n",
        "# # all_true_labels = []\n",
        "# # all_predicted_labels = []\n",
        "# # for attack in attacks:\n",
        "# #     pcap_files = os.listdir(f'/content/{attack}')\n",
        "# #     for pcap_file in pcap_files:\n",
        "# #         file_name = pcap_file.split('.')[0]\n",
        "# #         prediction_file_name = f'{file_name}_prediction.csv'\n",
        "# #         prediction_file_dir = f'/content/{attack}_prediction/'\n",
        "# #         prediction_csv_path = f'{prediction_file_dir}/{prediction_file_name}'\n",
        "# #         try:\n",
        "# #             df_prediction = pd.read_csv(prediction_csv_path)\n",
        "# #             # The true label for all packets in this file is the 'attack' name\n",
        "# #             if attack != 'DoS-SlowRate':\n",
        "# #                 true_label = attack\n",
        "# #             else:\n",
        "# #                 true_label = 'DoS-Slow-Rate'\n",
        "# #             # Collect the predicted label for each packet from 'Chosen_Label'\n",
        "# #             predicted_labels = df_prediction['Chosen_Label'].tolist()\n",
        "# #             # Extend our master lists\n",
        "# #             all_true_labels.extend([true_label] * len(predicted_labels))\n",
        "# #             all_predicted_labels.extend(predicted_labels)\n",
        "# #         except FileNotFoundError:\n",
        "# #             print(f\"Prediction file not found for {pcap_file}: {prediction_csv_path}\")\n",
        "# #         except Exception as e:\n",
        "# #             print(f\"Error processing prediction file {prediction_csv_path}: {e}\")\n",
        "# # # Now, print the classification report using the collected true and predicted labels\n",
        "# # if all_true_labels and all_predicted_labels:\n",
        "# #     print(\"\\n--- Classification Report ---\")\n",
        "# #     # Ensure both lists are of the same length\n",
        "# #     if len(all_true_labels) == len(all_predicted_labels):\n",
        "# #         print(classification_report(all_true_labels, all_predicted_labels, zero_division=0))\n",
        "# #     else:\n",
        "# #         print(\"Error: Mismatch in the number of true labels and predicted labels.\")\n",
        "# # else:\n",
        "# #     print(\"\\nNo data collected to generate a classification report.\")\n",
        "\n",
        "# Print confusion matrix for each pcap file\n",
        "for attack in attacks:\n",
        "    pcap_files = os.listdir(f'/content/{attack}')\n",
        "    for pcap_file in pcap_files:\n",
        "        file_name = pcap_file.split('.')[0]\n",
        "        prediction_file_name = f'{file_name}_prediction.csv'\n",
        "        prediction_file_dir = f'/content/{attack}_prediction/'\n",
        "        prediction_csv_path = f'{prediction_file_dir}/{prediction_file_name}'\n",
        "\n",
        "        try:\n",
        "            df_prediction = pd.read_csv(prediction_csv_path)\n",
        "\n",
        "            # Determine the true label for this file\n",
        "            if attack != 'DoS-SlowRate':\n",
        "                true_label = attack\n",
        "            else:\n",
        "                true_label = 'DoS-Slow-Rate'\n",
        "\n",
        "            # Extract true and predicted labels for this specific file\n",
        "            true_labels_file = [true_label] * len(df_prediction)\n",
        "            predicted_labels_file = df_prediction['Chosen_Label'].tolist()\n",
        "\n",
        "            print(f\"\\n--- Confusion Matrix for {pcap_file} ---\")\n",
        "\n",
        "            if true_labels_file and predicted_labels_file and len(true_labels_file) == len(predicted_labels_file):\n",
        "                # Get all unique labels present in both true and predicted lists for this file\n",
        "                unique_labels_file = sorted(list(set(true_labels_file + predicted_labels_file)))\n",
        "\n",
        "                # Generate confusion matrix for this file\n",
        "                cm_file = confusion_matrix(true_labels_file, predicted_labels_file, labels=unique_labels_file)\n",
        "                print(cm_file)\n",
        "\n",
        "                # Optional: Visualize the confusion matrix for this file\n",
        "                plt.figure(figsize=(6, 5))\n",
        "                sns.heatmap(cm_file, annot=True, fmt='d', cmap='Blues', xticklabels=unique_labels_file, yticklabels=unique_labels_file)\n",
        "                plt.xlabel('Predicted Label')\n",
        "                plt.ylabel('True Label')\n",
        "                plt.title(f'Confusion Matrix for {pcap_file}')\n",
        "                plt.show()\n",
        "            else:\n",
        "                print(f\"No valid data to generate confusion matrix for {pcap_file}.\")\n",
        "\n",
        "        except FileNotFoundError:\n",
        "            print(f\"\\nPrediction file not found for {pcap_file}: {prediction_csv_path}\")\n",
        "        except Exception as e:\n",
        "            print(f\"\\nError processing prediction file {prediction_csv_path}: {e}\")\n",
        "\n"
      ]
    },
    {
      "cell_type": "code",
      "execution_count": 46,
      "metadata": {
        "id": "uK35vH66bBTe",
        "colab": {
          "base_uri": "https://localhost:8080/"
        },
        "outputId": "d4c9f00b-cc6b-499a-bc19-fa0de81ae4a9"
      },
      "outputs": [
        {
          "output_type": "stream",
          "name": "stdout",
          "text": [
            "\n",
            "--- Results for PortScan ---\n",
            "                   File_Name  Result    Attack\n",
            "0             nmap_null.pcap  Benign  PortScan\n",
            "1              nmap_fin.pcap  Benign  PortScan\n",
            "2  Port Scanning attack.pcap  Benign  PortScan\n",
            "----------------------------------------\n"
          ]
        }
      ],
      "source": [
        "# prompt: print every result as dataframe display\n",
        "\n",
        "from IPython.display import display\n",
        "\n",
        "for attack in attacks:\n",
        "    result_csv_path = f'/content/Result/{attack}_result.csv'\n",
        "    if os.path.exists(result_csv_path):\n",
        "        df_result = pd.read_csv(result_csv_path)\n",
        "        print(f\"\\n--- Results for {attack} ---\")\n",
        "        print(df_result)\n",
        "    else:\n",
        "        print(f\"\\nNo result file found for {attack}.\")\n",
        "    print(\"-\" * 40)"
      ]
    }
  ],
  "metadata": {
    "colab": {
      "collapsed_sections": [
        "TLm6-7pXFFmy",
        "srI7OsUjFAoz",
        "fL2Jdmy58F7C",
        "fFyVqFnOkshn",
        "iyfKM07nOPDu",
        "EZ_mNHJ7mHrt",
        "ZE5Hn1tQntgb",
        "aKPqgcBYThy9",
        "18RZ1HMbugQi",
        "VisBSN1_TlPz"
      ],
      "machine_shape": "hm",
      "provenance": [],
      "authorship_tag": "ABX9TyNTItTOcH2FPrshML/ownJh",
      "include_colab_link": true
    },
    "kernelspec": {
      "display_name": "Python 3",
      "name": "python3"
    },
    "language_info": {
      "name": "python"
    }
  },
  "nbformat": 4,
  "nbformat_minor": 0
}