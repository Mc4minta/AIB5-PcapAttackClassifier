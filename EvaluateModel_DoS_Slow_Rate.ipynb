{
  "nbformat": 4,
  "nbformat_minor": 0,
  "metadata": {
    "colab": {
      "provenance": [],
      "collapsed_sections": [
        "TLm6-7pXFFmy",
        "srI7OsUjFAoz",
        "fL2Jdmy58F7C",
        "fFyVqFnOkshn",
        "iyfKM07nOPDu",
        "EZ_mNHJ7mHrt",
        "ZE5Hn1tQntgb",
        "aKPqgcBYThy9",
        "18RZ1HMbugQi",
        "VisBSN1_TlPz"
      ],
      "authorship_tag": "ABX9TyOPEJazpduzFAcNjoUP7wUu",
      "include_colab_link": true
    },
    "kernelspec": {
      "name": "python3",
      "display_name": "Python 3"
    },
    "language_info": {
      "name": "python"
    }
  },
  "cells": [
    {
      "cell_type": "markdown",
      "metadata": {
        "id": "view-in-github",
        "colab_type": "text"
      },
      "source": [
        "<a href=\"https://colab.research.google.com/github/Mc4minta/AIB5-PcapAttackClassifier/blob/main/EvaluateModel_DoS_Slow_Rate.ipynb\" target=\"_parent\"><img src=\"https://colab.research.google.com/assets/colab-badge.svg\" alt=\"Open In Colab\"/></a>"
      ]
    },
    {
      "cell_type": "markdown",
      "source": [
        "# Full Step for evaluation (my model)\n",
        "- list pcap zip\n",
        "  - in `/content/drive/MyDrive/Share to Mc4/AIBuilders5-MiN/TestsetForBaseline`\n",
        "- unzip each zip\n",
        "- iterate through each attack\n",
        "- iterate to each attack pcap files\n",
        "- convert to FlowCSV\n",
        "- process packet map\n",
        "- preprocess_df\n",
        "- load model\n",
        "- predict\n",
        "- combined label with packet_index\n",
        "- convert flow-label-index to packetindex-label\n",
        "- list of predicted label from high to low (final_df)\n",
        "\n",
        "## final_df format:\n",
        "\n",
        "| pcap label     | packet label   | ranked_label                    |\n",
        "| -------------- | -------------- | ------------------------------- |\n",
        "| FTP-Bruteforce | FTP-Bruteforce | [FTP-Bruteforce,SSH-Bruteforce] |\n",
        "| Benign         | Benign         | [Benign]                        |\n",
        "\n",
        "## Evaluate by comparing:\n",
        "- pcap label and label\n",
        "- y_test = pcap label\n",
        "- y_pred = label\n",
        "\n",
        "## label_rank\n",
        "- is for tie breaker with baseline just in case"
      ],
      "metadata": {
        "id": "dWsPbK9AGFIL"
      }
    },
    {
      "cell_type": "code",
      "metadata": {
        "colab": {
          "base_uri": "https://localhost:8080/"
        },
        "id": "c967fa09",
        "outputId": "95375690-8deb-48ca-bd75-23713ae39884"
      },
      "source": [
        "from google.colab import drive\n",
        "drive.mount('/content/drive')"
      ],
      "execution_count": 1,
      "outputs": [
        {
          "output_type": "stream",
          "name": "stdout",
          "text": [
            "Mounted at /content/drive\n"
          ]
        }
      ]
    },
    {
      "cell_type": "markdown",
      "source": [
        "# Load model"
      ],
      "metadata": {
        "id": "vpoFaRFw4fqB"
      }
    },
    {
      "cell_type": "code",
      "source": [
        "# define function for model loading\n",
        "\n",
        "import joblib\n",
        "def load_model(model_name):\n",
        "  model_path = '/content/drive/MyDrive/Share to Mc4/AIBuilders5-MiN/' + model_name\n",
        "  model = joblib.load(model_path)\n",
        "  return model\n",
        "\n",
        "# model = load_model(model_name)\n",
        "# print(model)"
      ],
      "metadata": {
        "id": "-jodantZ4fqB"
      },
      "execution_count": 2,
      "outputs": []
    },
    {
      "cell_type": "code",
      "source": [
        "# load model\n",
        "\n",
        "model_name = 'RandomForest400IntPortCIC1718-2.pkl'\n",
        "model = load_model(model_name)\n",
        "print(model)\n",
        "attacks = model.classes_\n",
        "print(attacks)"
      ],
      "metadata": {
        "colab": {
          "base_uri": "https://localhost:8080/"
        },
        "outputId": "d249cc13-c219-45be-9edb-2440556f8fef",
        "id": "3a079Fhu4fqC"
      },
      "execution_count": 3,
      "outputs": [
        {
          "output_type": "stream",
          "name": "stdout",
          "text": [
            "RandomForestClassifier(n_estimators=400, n_jobs=-1, random_state=42)\n",
            "['Benign' 'DoS-HTTP-Flood' 'DoS-Slow-Rate' 'FTP-Bruteforce' 'PortScan'\n",
            " 'SSH-Bruteforce']\n"
          ]
        }
      ]
    },
    {
      "cell_type": "code",
      "source": [
        "attacks = ['DoS-Slow-Rate']"
      ],
      "metadata": {
        "id": "gj1OKUXaOMBW"
      },
      "execution_count": 4,
      "outputs": []
    },
    {
      "cell_type": "code",
      "source": [
        "print(attacks)"
      ],
      "metadata": {
        "colab": {
          "base_uri": "https://localhost:8080/"
        },
        "id": "r5-9ire2OO4F",
        "outputId": "554f36ce-146d-451c-dbc9-0574a902aff6"
      },
      "execution_count": 5,
      "outputs": [
        {
          "output_type": "stream",
          "name": "stdout",
          "text": [
            "['DoS-Slow-Rate']\n"
          ]
        }
      ]
    },
    {
      "cell_type": "markdown",
      "source": [
        "# Setup"
      ],
      "metadata": {
        "id": "ffr1MGrg4gil"
      }
    },
    {
      "cell_type": "code",
      "source": [
        "# list pcap zip\n",
        "import os\n",
        "pcap_zip_dir = '/content/drive/MyDrive/Share to Mc4/AIBuilders5-MiN/TestsetForBaseline/'\n",
        "files = os.listdir(pcap_zip_dir)\n",
        "for file in files:\n",
        "  print(file)"
      ],
      "metadata": {
        "colab": {
          "base_uri": "https://localhost:8080/"
        },
        "id": "TMMIz8EPIRK9",
        "outputId": "e06f7cf6-68ac-42e8-c6e9-e9f55e8d575b"
      },
      "execution_count": 6,
      "outputs": [
        {
          "output_type": "stream",
          "name": "stdout",
          "text": [
            "DoS.zip\n",
            "DDoS.zip\n",
            "PortScan.zip\n",
            "Benign.zip\n",
            "DoS-HTTP-Flood.zip\n",
            "Benign2.zip\n",
            "DoS-overall.zip\n",
            "DoS-Layer3and4.zip\n",
            "FTP-Bruteforce.zip\n",
            "SSH-Bruteforce.zip\n",
            "DoS-Slow-Rate.zip\n"
          ]
        }
      ]
    },
    {
      "cell_type": "code",
      "source": [
        "# list flow zip\n",
        "import os\n",
        "pcap_zip_dir = '/content/drive/MyDrive/Share to Mc4/AIBuilders5-MiN/TestsetForbaseline_csv/'\n",
        "files = os.listdir(pcap_zip_dir)\n",
        "for file in files:\n",
        "  print(file)"
      ],
      "metadata": {
        "colab": {
          "base_uri": "https://localhost:8080/"
        },
        "id": "vnsGRCFPEK8m",
        "outputId": "3e278856-a18b-4af2-c412-f1417f817e2e"
      },
      "execution_count": 7,
      "outputs": [
        {
          "output_type": "stream",
          "name": "stdout",
          "text": [
            "DoS_csv.zip\n",
            "DDoS_csv.zip\n",
            "PortScan_csv.zip\n",
            "Benign_csv.zip\n",
            "Benign2_csv.zip\n",
            "DoS-HTTP-Flood_csv.zip\n",
            "DoS-Layer3and4_csv.zip\n",
            "DoS-overall_csv.zip\n",
            "FTP-Bruteforce_csv.zip\n",
            "SSH-Bruteforce_csv.zip\n",
            "DoS-Slow-Rate_csv.zip\n"
          ]
        }
      ]
    },
    {
      "cell_type": "code",
      "source": [
        "'''\n",
        "# list each attack folder without '.zip' and append to attacks[]\n",
        "pcap_zip_dir = '/content/drive/MyDrive/Share to Mc4/AIBuilders5-MiN/TestsetForBaseline/'\n",
        "files = os.listdir(pcap_zip_dir)\n",
        "attacks = []\n",
        "for file in files:\n",
        "  attacks.append(file[:-4])\n",
        "for attack in attacks:\n",
        "  print(attack)\n",
        "'''"
      ],
      "metadata": {
        "colab": {
          "base_uri": "https://localhost:8080/",
          "height": 53
        },
        "id": "uNcbNRbgLhfh",
        "outputId": "d04d046a-c50b-4505-b866-24d3d8e3c011"
      },
      "execution_count": 8,
      "outputs": [
        {
          "output_type": "execute_result",
          "data": {
            "text/plain": [
              "\"\\n# list each attack folder without '.zip' and append to attacks[]\\npcap_zip_dir = '/content/drive/MyDrive/Share to Mc4/AIBuilders5-MiN/TestsetForBaseline/'\\nfiles = os.listdir(pcap_zip_dir)\\nattacks = []\\nfor file in files:\\n  attacks.append(file[:-4])\\nfor attack in attacks:\\n  print(attack)\\n\""
            ],
            "application/vnd.google.colaboratory.intrinsic+json": {
              "type": "string"
            }
          },
          "metadata": {},
          "execution_count": 8
        }
      ]
    },
    {
      "cell_type": "code",
      "source": [
        "attacks"
      ],
      "metadata": {
        "colab": {
          "base_uri": "https://localhost:8080/"
        },
        "id": "D7-6GKbTxV2W",
        "outputId": "a0b15085-7c20-475f-d728-eb912ba8aed9"
      },
      "execution_count": 9,
      "outputs": [
        {
          "output_type": "execute_result",
          "data": {
            "text/plain": [
              "['DoS-Slow-Rate']"
            ]
          },
          "metadata": {},
          "execution_count": 9
        }
      ]
    },
    {
      "cell_type": "code",
      "source": [
        "# define function to unzip(attack.zip)\n",
        "import zipfile\n",
        "\n",
        "def unzip_attack_zip(attack):\n",
        "  pcap_zip_dir = '/content/drive/MyDrive/Share to Mc4/AIBuilders5-MiN/TestsetForBaseline/'\n",
        "  if(attack[-4:]=='.zip'):\n",
        "    zip_file_name = attack\n",
        "  else:\n",
        "    zip_file_name = attack + '.zip'\n",
        "  zip_file_path = os.path.join(pcap_zip_dir, zip_file_name)\n",
        "  destination_directory = '/content/'\n",
        "  try:\n",
        "    with zipfile.ZipFile(zip_file_path, 'r') as zip_ref:\n",
        "      zip_ref.extractall(destination_directory)\n",
        "    print(f\"'{zip_file_name}' unzipped to '{destination_directory}'.\")\n",
        "  except Exception as e:\n",
        "      print(f\"Error : {e}\")\n",
        "\n",
        "# unzip_attack_zip('DDoS')"
      ],
      "metadata": {
        "id": "COBbu0u9JJe3"
      },
      "execution_count": 10,
      "outputs": []
    },
    {
      "cell_type": "code",
      "source": [
        "# define function to unzip(attack_csv.zip)\n",
        "import zipfile\n",
        "\n",
        "def unzip_attack_flow(attack):\n",
        "  pcap_zip_dir = '/content/drive/MyDrive/Share to Mc4/AIBuilders5-MiN/TestsetForbaseline_csv/'\n",
        "  zip_file_name = attack + '_csv.zip'\n",
        "  zip_file_path = os.path.join(pcap_zip_dir, zip_file_name)\n",
        "  destination_directory = '/content/'\n",
        "  try:\n",
        "    with zipfile.ZipFile(zip_file_path, 'r') as zip_ref:\n",
        "      zip_ref.extractall(destination_directory)\n",
        "    print(f\"'{zip_file_name}' unzipped to '{destination_directory}'.\")\n",
        "  except Exception as e:\n",
        "      print(f\"Error : {e}\")\n",
        "\n",
        "# unzip_attack_flow('DDoS')"
      ],
      "metadata": {
        "id": "VqQjqkKbEXPc"
      },
      "execution_count": 11,
      "outputs": []
    },
    {
      "cell_type": "code",
      "source": [
        "# iterate through each attack_csv .zip and unzip it\n",
        "for attack in attacks:\n",
        "  print(f\"Processing {attack}_csv...\")\n",
        "  if(f'{attack}_csv' not in os.listdir('/content/')):\n",
        "    unzip_attack_flow(attack)\n",
        "  else:\n",
        "    print(f\"{attack}_csv already unzipped\")"
      ],
      "metadata": {
        "colab": {
          "base_uri": "https://localhost:8080/"
        },
        "id": "iCPKIXyUEj69",
        "outputId": "1f02ed6b-261f-4b66-f200-f1ad30b89459"
      },
      "execution_count": 12,
      "outputs": [
        {
          "output_type": "stream",
          "name": "stdout",
          "text": [
            "Processing DoS-Slow-Rate_csv...\n",
            "'DoS-Slow-Rate_csv.zip' unzipped to '/content/'.\n"
          ]
        }
      ]
    },
    {
      "cell_type": "code",
      "source": [
        "# iterate through each attack .zip and unzip it\n",
        "for attack in attacks:\n",
        "  print(f\"Processing {attack}...\")\n",
        "  if(attack not in os.listdir('/content/')):\n",
        "    unzip_attack_zip(attack)\n",
        "  else:\n",
        "    print(f\"{attack} already unzipped\")"
      ],
      "metadata": {
        "colab": {
          "base_uri": "https://localhost:8080/"
        },
        "id": "VKHO1ouhJmt9",
        "outputId": "636e8fb1-cb10-4596-c473-543fb0a1033d"
      },
      "execution_count": 13,
      "outputs": [
        {
          "output_type": "stream",
          "name": "stdout",
          "text": [
            "Processing DoS-Slow-Rate...\n",
            "'DoS-Slow-Rate.zip' unzipped to '/content/'.\n"
          ]
        }
      ]
    },
    {
      "cell_type": "code",
      "source": [
        "os.remove('/content/DoS-Slow-Rate/lowrateddosMQTT.pcap')\n",
        "os.remove('/content/DoS-Slow-Rate_csv/lowrateddosMQTT_ISCX.csv')"
      ],
      "metadata": {
        "id": "-bYHCYKlTHof"
      },
      "execution_count": 16,
      "outputs": []
    },
    {
      "cell_type": "code",
      "source": [
        "# list all pcap file in each attack\n",
        "\n",
        "for attack in attacks:\n",
        "  print('--------------------------------')\n",
        "  print(f\"PCAP for {attack}\")\n",
        "  print('--------------------------------')\n",
        "  attack_pcaps = os.listdir(f'/content/{attack}')\n",
        "  for attack_pcap in attack_pcaps:\n",
        "    print(attack_pcap)"
      ],
      "metadata": {
        "id": "OTosyZGCOQjb",
        "colab": {
          "base_uri": "https://localhost:8080/"
        },
        "outputId": "b814bae5-9309-4037-c135-bea818e0580c"
      },
      "execution_count": 17,
      "outputs": [
        {
          "output_type": "stream",
          "name": "stdout",
          "text": [
            "--------------------------------\n",
            "PCAP for DoS-Slow-Rate\n",
            "--------------------------------\n",
            "slowread_1.pcap\n",
            "http_slowloris.pcap\n",
            "slowread_2.pcap\n"
          ]
        }
      ]
    },
    {
      "cell_type": "code",
      "source": [
        "# list all csv file in each attack\n",
        "\n",
        "for attack in attacks:\n",
        "  print('--------------------------------')\n",
        "  print(f\"CSV for {attack}\")\n",
        "  print('--------------------------------')\n",
        "  attack_flows = os.listdir(f'/content/{attack}_csv')\n",
        "  for attack_flow in attack_flows:\n",
        "    print(attack_flow)"
      ],
      "metadata": {
        "id": "4313y7t4Gua6",
        "colab": {
          "base_uri": "https://localhost:8080/"
        },
        "outputId": "cc40f7af-1d8f-4fa5-a95d-8247dab7b0ab"
      },
      "execution_count": 18,
      "outputs": [
        {
          "output_type": "stream",
          "name": "stdout",
          "text": [
            "--------------------------------\n",
            "CSV for DoS-Slow-Rate\n",
            "--------------------------------\n",
            "http_slowloris_ISCX.csv\n",
            "slowread_2_ISCX.csv\n",
            "slowread_1_ISCX.csv\n"
          ]
        }
      ]
    },
    {
      "cell_type": "markdown",
      "source": [
        "# Map"
      ],
      "metadata": {
        "id": "d3lxmyW1G2xg"
      }
    },
    {
      "cell_type": "code",
      "source": [
        "# create attack_index folder\n",
        "\n",
        "import os\n",
        "for attack in attacks:\n",
        "  os.makedirs(f'/content/{attack}_index', exist_ok=True)\n",
        "  print(f\"Created {attack}_index folder\")"
      ],
      "metadata": {
        "id": "rzjTd5l_O1-t",
        "colab": {
          "base_uri": "https://localhost:8080/"
        },
        "outputId": "75195b3f-5f08-4148-f9ec-da97f1b9ec65"
      },
      "execution_count": 19,
      "outputs": [
        {
          "output_type": "stream",
          "name": "stdout",
          "text": [
            "Created DoS-Slow-Rate_index folder\n"
          ]
        }
      ]
    },
    {
      "cell_type": "code",
      "source": [
        "# install scapy\n",
        "\n",
        "!pip install scapy > /content/log.txt"
      ],
      "metadata": {
        "id": "987RkmArRbp1"
      },
      "execution_count": 20,
      "outputs": []
    },
    {
      "cell_type": "code",
      "source": [
        "# define function for simulating cicflowmter\n",
        "\n",
        "\n",
        "import time\n",
        "import random\n",
        "import csv\n",
        "import sys\n",
        "from collections import namedtuple\n",
        "import ipaddress # For robust IP address comparison\n",
        "import pandas as pd # Import pandas\n",
        "\n",
        "# Import Scapy for PCAP reading and parsing\n",
        "# You might need to install it: pip install scapy\n",
        "try:\n",
        "    from scapy.all import rdpcap, IP, TCP, UDP\n",
        "except ImportError:\n",
        "    print(\"Scapy not found. Please install it using: pip install scapy\")\n",
        "    sys.exit(1)\n",
        "\n",
        "# Define a Packet structure to standardize data from Scapy packets\n",
        "# 'index' corresponds to the sequential position in the PCAP file,\n",
        "# which is similar to the 'id' in CICFlowMeter's BasicPacketInfo.java\n",
        "Packet = namedtuple('Packet', ['index', 'timestamp', 'src_ip', 'dst_ip', 'src_port', 'dst_port', 'protocol', 'length', 'has_fin_flag'])\n",
        "\n",
        "class Flow:\n",
        "    \"\"\"\n",
        "    Simulates a network flow, similar to BasicFlow.java.\n",
        "    A flow is identified by its 5-tuple and stores a list of packet indices\n",
        "    that belong to this flow. It also tracks basic flow statistics and timestamps.\n",
        "    \"\"\"\n",
        "    def __init__(self, flow_key, first_packet):\n",
        "        self.flow_key = flow_key\n",
        "        # This list directly maps the flow to its packet indices (IDs)\n",
        "        self.packet_indices = [first_packet.index]\n",
        "        # Store packet timestamps as well for export\n",
        "        self.packet_timestamps = [int(first_packet.timestamp * 1_000_000)] # Convert to microseconds\n",
        "\n",
        "        self.start_time = int(first_packet.timestamp * 1_000_000) # Microseconds\n",
        "        self.last_packet_time = int(first_packet.timestamp * 1_000_000) # Microseconds\n",
        "        self.packet_count = 1\n",
        "        self.byte_count = first_packet.length\n",
        "        self.fwd_packets = [] # Simulating BasicFlow's 'forward' list\n",
        "        self.bwd_packets = [] # Simulating BasicFlow's 'backward' list\n",
        "\n",
        "        # Determine the initial direction based on the first packet's original IPs\n",
        "        # This is used for 'forward' and 'backward' packet grouping within the flow,\n",
        "        # distinct from the canonical direction used for the flow_key.\n",
        "        self.initial_src_ip = first_packet.src_ip\n",
        "\n",
        "        # Add first packet to appropriate directional list\n",
        "        if self._is_forward_packet(first_packet):\n",
        "            self.fwd_packets.append(first_packet)\n",
        "        else:\n",
        "            self.bwd_packets.append(first_packet)\n",
        "\n",
        "    def add_packet(self, packet):\n",
        "        \"\"\"Adds a packet to the flow and updates flow statistics.\"\"\"\n",
        "        self.packet_indices.append(packet.index)\n",
        "        self.packet_timestamps.append(int(packet.timestamp * 1_000_000)) # Store timestamp in microseconds\n",
        "\n",
        "        self.packet_count += 1\n",
        "        self.byte_count += packet.length\n",
        "\n",
        "        # Update directional packet lists and IATs (simplified for simulation)\n",
        "        if self._is_forward_packet(packet):\n",
        "            self.fwd_packets.append(packet)\n",
        "            # In real CICFlowMeter, IATs and other stats would be updated here, e.g.:\n",
        "            # if len(self.fwd_packets) > 1:\n",
        "            #     self.fwd_iat.add_value(packet.timestamp - self.fwd_packets[-2].timestamp)\n",
        "        else:\n",
        "            self.bwd_packets.append(packet)\n",
        "            # if len(self.bwd_packets) > 1:\n",
        "            #     self.bwd_iat.add_value(packet.timestamp - self.bwd_packets[-2].timestamp)\n",
        "\n",
        "        # Update last packet time for overall flow duration/IAT calculation\n",
        "        self.last_packet_time = int(packet.timestamp * 1_000_000) # Microseconds\n",
        "\n",
        "    def get_flow_duration(self):\n",
        "        \"\"\"Calculates the duration of the flow in microseconds.\"\"\"\n",
        "        return self.last_packet_time - self.start_time\n",
        "\n",
        "    def _is_forward_packet(self, packet):\n",
        "        \"\"\"\n",
        "        Determines if a packet is in the forward direction relative to the flow's initial direction.\n",
        "        This uses the original src_ip of the *first* packet to define \"forward\" for feature accumulation,\n",
        "        which is consistent with CICFlowMeter's internal `BasicFlow` logic.\n",
        "        \"\"\"\n",
        "        return packet.src_ip == self.initial_src_ip\n",
        "\n",
        "    def __repr__(self):\n",
        "        return (f\"Flow(key={self.flow_key}, total_packets={self.packet_count}, \"\n",
        "                f\"duration={self.get_flow_duration():.4f}us, \"\n",
        "                f\"total_bytes={self.byte_count}B, \"\n",
        "                f\"fwd_pkts={len(self.fwd_packets)}, bwd_pkts={len(self.bwd_packets)}, \"\n",
        "                f\"packet_indices={self.packet_indices})\")\n",
        "\n",
        "    def to_csv_row(self):\n",
        "        \"\"\"\n",
        "        Converts the flow data into a dictionary suitable for CSV writing.\n",
        "        This provides a simplified representation of the features CICFlowMeter extracts,\n",
        "        but crucially includes the 'Packet Indices' and 'Packet Timestamps' columns.\n",
        "        The 'Flow ID', 'Src IP', 'Dst IP', 'Src Port', 'Dst Port' are taken from the\n",
        "        canonical flow_key for consistency with CICFlowMeter's output format.\n",
        "        \"\"\"\n",
        "        # The flow_key tuple already holds the normalized 5-tuple as generated by generate_flow_key\n",
        "        canonical_src_ip, canonical_dst_ip, canonical_src_port, canonical_dst_port, proto = self.flow_key\n",
        "\n",
        "        return {\n",
        "            'Flow ID': f\"{canonical_src_ip}-{canonical_dst_ip}-{canonical_src_port}-{canonical_dst_port}-{proto}\",\n",
        "            'Src IP': canonical_src_ip,\n",
        "            'Src Port': canonical_src_port,\n",
        "            'Dst IP': canonical_dst_ip,\n",
        "            'Dst Port': canonical_dst_port,\n",
        "            'Protocol': proto,\n",
        "            'Flow Duration (us)': self.get_flow_duration(),\n",
        "            'Total Packets': self.packet_count,\n",
        "            'Total Bytes': self.byte_count,\n",
        "            'Fwd Packets': len(self.fwd_packets), # These counts are based on internal 'initial_src_ip'\n",
        "            'Bwd Packets': len(self.bwd_packets), # These counts are based on internal 'initial_src_ip'\n",
        "            'Packet Indices': str(self.packet_indices), # Convert list to string for CSV column\n",
        "            'Packet Timestamps': str(self.packet_timestamps) # Convert list to string for CSV column\n",
        "            # Add more CICFlowMeter-like features here if needed\n",
        "            # 'Flow Pkts/s': self.packet_count / (self.get_flow_duration() / 1_000_000.0) if self.get_flow_duration() > 0 else 0,\n",
        "            # 'Avg Fwd Pkt Len': sum(p.length for p in self.fwd_packets) / len(self.fwd_packets) if self.fwd_packets else 0,\n",
        "        }\n",
        "\n",
        "\n",
        "def generate_flow_key(packet):\n",
        "    \"\"\"\n",
        "    Generates a unique key for a flow based on the 5-tuple,\n",
        "    mimicking CICFlowMeter's Java BasicPacketInfo.generateFlowId() logic\n",
        "    for canonicalizing IP addresses and ports.\n",
        "\n",
        "    IMPORTANT: This function uses the raw protocol number, matching BasicPacketInfo.java.\n",
        "    Any mapping of non-TCP/UDP/ICMP protocols to '0' happens *after* Flow ID generation\n",
        "    in CICFlowMeter's pipeline (e.g., for display in FlowFeature.featureValue2String),\n",
        "    and is NOT part of the Flow ID itself.\n",
        "    \"\"\"\n",
        "    # Access attributes by name from the Packet namedtuple\n",
        "    src_ip_str = packet.src_ip\n",
        "    dst_ip_str = packet.dst_ip\n",
        "    src_port = packet.src_port\n",
        "    dst_port = packet.dst_port\n",
        "    protocol_int = packet.protocol # Use the raw protocol number here\n",
        "\n",
        "    # Use ipaddress for robust IP comparison, mirroring Java's byte-by-byte comparison\n",
        "    try:\n",
        "        src_ip_obj = ipaddress.ip_address(src_ip_str)\n",
        "        dst_ip_obj = ipaddress.ip_address(dst_ip_str)\n",
        "    except ValueError:\n",
        "        # Fallback for invalid IPs if any, should not happen with valid PCAP data\n",
        "        return (src_ip_str, dst_ip_str, src_port, dst_port, protocol_int)\n",
        "\n",
        "\n",
        "    # Determine 'forward' based on IP comparison: canonical_src_ip will be the \"smaller\" IP\n",
        "    if src_ip_obj < dst_ip_obj:\n",
        "        normalized_src_ip = src_ip_str\n",
        "        normalized_dst_ip = dst_ip_str\n",
        "        normalized_src_port = src_port\n",
        "        normalized_dst_port = dst_port\n",
        "    elif dst_ip_obj < src_ip_obj:\n",
        "        # Swap IPs and their corresponding ports for normalization\n",
        "        normalized_src_ip = dst_ip_str\n",
        "        normalized_dst_ip = src_ip_str\n",
        "        normalized_src_port = dst_port\n",
        "        normalized_dst_port = src_port\n",
        "    else: # IPs are equal (e.g., multicast or broadcast)\n",
        "        # If IPs are the same, Java's logic does NOT swap ports based on IP.\n",
        "        # It keeps original src/dst IPs and ports as they are.\n",
        "        normalized_src_ip = src_ip_str\n",
        "        normalized_dst_ip = dst_ip_str\n",
        "        normalized_src_port = src_port\n",
        "        normalized_dst_port = dst_port\n",
        "\n",
        "    # The canonical 5-tuple key for the hash map\n",
        "    return (normalized_src_ip, normalized_dst_ip, normalized_src_port, normalized_dst_port, protocol_int)\n",
        "\n",
        "def process_packets_into_flows(packets, flow_timeout_us=120000000, idle_timeout_us=5000000):\n",
        "    \"\"\"\n",
        "    Processes a list of packets and groups them into flows, simulating FlowGenerator.java.\n",
        "    Args:\n",
        "        packets (list): A list of Packet namedtuples, derived from PCAP.\n",
        "        flow_timeout_us (int): Max flow duration in microseconds (120 seconds).\n",
        "        idle_timeout_us (int): Max idle time within a flow in microseconds (5 seconds).\n",
        "    Returns:\n",
        "        dict: A dictionary where keys are unique flow identifiers (combining 5-tuple and a counter)\n",
        "              and values are Flow objects.\n",
        "    \"\"\"\n",
        "    active_flows = {} # {flow_key_5_tuple: Flow_object}\n",
        "    completed_flows = {} # {unique_completed_flow_id: Flow_object}\n",
        "\n",
        "    # Packets are assumed to be already sorted by timestamp when passed from PCAP reader\n",
        "\n",
        "    completed_flow_counter = 0\n",
        "\n",
        "    for packet in packets:\n",
        "        flow_key = generate_flow_key(packet)\n",
        "        current_timestamp_us = int(packet.timestamp * 1_000_000) # Convert seconds to microseconds\n",
        "\n",
        "        # Check if this packet belongs to an existing active flow\n",
        "        if flow_key in active_flows:\n",
        "            flow = active_flows[flow_key]\n",
        "\n",
        "            # Check for IDLE timeout first (packet arrival AFTER idle period)\n",
        "            if (current_timestamp_us - flow.last_packet_time) > idle_timeout_us:\n",
        "                # Flow idle timed out, finish current flow and start new one\n",
        "                completed_flows[f\"{flow_key}_{completed_flow_counter}\"] = flow\n",
        "                completed_flow_counter += 1\n",
        "                active_flows.pop(flow_key) # Remove old flow from active\n",
        "\n",
        "                new_flow = Flow(flow_key, packet)\n",
        "                active_flows[flow_key] = new_flow\n",
        "\n",
        "            # Check for TOTAL flow timeout (flow duration)\n",
        "            elif (current_timestamp_us - flow.start_time) > flow_timeout_us:\n",
        "                # Flow timed out based on total duration, finish current flow and start new one\n",
        "                completed_flows[f\"{flow_key}_{completed_flow_counter}\"] = flow\n",
        "                completed_flow_counter += 1\n",
        "                active_flows.pop(flow_key) # Remove old flow from active\n",
        "\n",
        "                new_flow = Flow(flow_key, packet)\n",
        "                active_flows[flow_key] = new_flow\n",
        "\n",
        "            # Simulate TCP FIN flag termination\n",
        "            # Only apply if the protocol is TCP (6) and FIN flag is set.\n",
        "            # Add the FIN packet to the flow before deciding if it's finished.\n",
        "            elif packet.protocol == 6 and packet.has_fin_flag:\n",
        "                flow.add_packet(packet) # Add the FIN packet\n",
        "                completed_flows[f\"{flow_key}_{completed_flow_counter}\"] = flow\n",
        "                completed_flow_counter += 1\n",
        "                active_flows.pop(flow_key) # Remove from active flows as it's finished\n",
        "\n",
        "            # Otherwise, add packet to existing active flow\n",
        "            else:\n",
        "                flow.add_packet(packet)\n",
        "                # No explicit idle time update needed in Flow object here,\n",
        "                # as it's checked upon next packet arrival.\n",
        "\n",
        "        else:\n",
        "            # New flow, or a flow that previously completed and was removed from active_flows\n",
        "            new_flow = Flow(flow_key, packet)\n",
        "            active_flows[flow_key] = new_flow\n",
        "\n",
        "    # After processing all packets, move any remaining active flows to completed flows\n",
        "    for flow_key, flow in list(active_flows.items()): # Iterate over a copy to allow modification\n",
        "        completed_flows[f\"{flow_key}_{completed_flow_counter}\"] = flow\n",
        "        completed_flow_counter += 1\n",
        "        # No need to pop from active_flows here, as loop is over.\n",
        "\n",
        "    return completed_flows\n",
        "\n",
        "def extract_packet_info_from_pcap(pcap_file_path):\n",
        "    \"\"\"\n",
        "    Reads a PCAP file using Scapy and extracts relevant information into Packet namedtuples.\n",
        "    Assigns a sequential index to each packet as it's read.\n",
        "    Broadened to include all IP packets, not just TCP/UDP.\n",
        "    \"\"\"\n",
        "    print(f\"Reading packets from {pcap_file_path}...\")\n",
        "    extracted_packets = []\n",
        "\n",
        "    try:\n",
        "        packets_scapy = rdpcap(pcap_file_path)\n",
        "        total_packets = len(packets_scapy)\n",
        "        print(f\"Successfully read {total_packets} packets from {pcap_file_path}.\")\n",
        "    except FileNotFoundError:\n",
        "        print(f\"Error: PCAP file not found at {pcap_file_path}.\")\n",
        "        return [] # Return empty list if file not found\n",
        "    except Exception as e:\n",
        "        print(f\"An error occurred while reading PCAP file {pcap_file_path}: {e}\")\n",
        "        return [] # Return empty list on other errors\n",
        "\n",
        "\n",
        "    for i, pkt in enumerate(packets_scapy):\n",
        "        src_ip = None\n",
        "        dst_ip = None\n",
        "        src_port = 0 # Default to 0 for non-TCP/UDP protocols or if ports are missing\n",
        "        dst_port = 0 # Default to 0 for non-TCP/UDP protocols or if ports are missing\n",
        "        protocol = None\n",
        "        has_fin = False\n",
        "\n",
        "        # Ensure IP layer exists\n",
        "        if IP in pkt:\n",
        "            src_ip = pkt[IP].src\n",
        "            dst_ip = pkt[IP].dst\n",
        "            protocol = pkt[IP].proto # e.g., 6 for TCP, 17 for UDP, 1 for ICMP, 2 for IGMP, etc.\n",
        "\n",
        "            # Check for transport layer (TCP or UDP) to get ports and flags\n",
        "            if TCP in pkt:\n",
        "                src_port = pkt[TCP].sport\n",
        "                dst_port = pkt[TCP].dport\n",
        "                has_fin = bool(pkt[TCP].flags & 0x01) # FIN is bit 0 in TCP flags\n",
        "            elif UDP in pkt:\n",
        "                src_port = pkt[UDP].sport\n",
        "                dst_port = pkt[UDP].dport\n",
        "            # For other IP protocols (like ICMP, IGMP, etc.), src_port and dst_port remain 0.\n",
        "\n",
        "            # Only process packets with valid IP information\n",
        "            # This condition is now implicitly true for any packet with an IP layer,\n",
        "            # as src_ip, dst_ip, and protocol will be extracted.\n",
        "            extracted_packets.append(Packet(\n",
        "                index=i,\n",
        "                timestamp=pkt.time, # Scapy's pkt.time is already in seconds (float)\n",
        "                src_ip=src_ip,\n",
        "                dst_ip=dst_ip,\n",
        "                src_port=src_port,\n",
        "                dst_port=dst_port,\n",
        "                protocol=protocol,\n",
        "                length=len(pkt), # Total packet length\n",
        "                has_fin_flag=has_fin\n",
        "            ))\n",
        "\n",
        "    # Scapy's rdpcap usually returns packets in capture order (by timestamp),\n",
        "    # but explicit sorting ensures strict chronological processing as in CICFlowMeter.\n",
        "    extracted_packets.sort(key=lambda p: p.timestamp)\n",
        "    print(f\"Extracted {len(extracted_packets)} valid packets from PCAP.\")\n",
        "    return extracted_packets,total_packets\n",
        "\n",
        "def extract_flows_from_pcap(pcap_file_path: str) -> pd.DataFrame:\n",
        "    \"\"\"\n",
        "    Orchestrates the entire process of extracting network flows from a PCAP file,\n",
        "    mimicking CICFlowMeter's logic, and returns the flows as a Pandas DataFrame.\n",
        "\n",
        "    Args:\n",
        "        pcap_file_path (str): The path to the input PCAP file.\n",
        "\n",
        "    Returns:\n",
        "        pd.DataFrame: A DataFrame where each row represents a discovered flow,\n",
        "                      including 'Packet Indices' and 'Packet Timestamps'.\n",
        "                      Returns an empty DataFrame if no valid packets are found or\n",
        "                      if PCAP file cannot be read.\n",
        "    \"\"\"\n",
        "    # Step 1: Extract packet information from the PCAP file\n",
        "    packets_from_pcap,total_packets = extract_packet_info_from_pcap(pcap_file_path)\n",
        "\n",
        "    if not packets_from_pcap:\n",
        "        print(\"No valid packets found or PCAP file could not be read. Returning empty DataFrame.\")\n",
        "        return pd.DataFrame() # Return empty DataFrame\n",
        "\n",
        "    print(\"\\nProcessing packets into flows (simulating CICFlowMeter logic)...\")\n",
        "    # Step 2: Process the extracted packets into flows\n",
        "    # Default timeouts are 120 seconds (flow) and 5 seconds (idle) for CICFlowMeter\n",
        "    flows_data = process_packets_into_flows(packets_from_pcap,\n",
        "                                            flow_timeout_us=120_000_000,\n",
        "                                            idle_timeout_us=5_000_000)\n",
        "\n",
        "    print(f\"\\nDiscovered {len(flows_data)} flows.\")\n",
        "\n",
        "    # Step 3: Convert discovered flows to a list of dictionaries for DataFrame creation\n",
        "    flows_list_of_dicts = []\n",
        "    for flow_unique_id, flow_obj in flows_data.items():\n",
        "        flows_list_of_dicts.append(flow_obj.to_csv_row())\n",
        "\n",
        "    # Create DataFrame from the list of flow dictionaries\n",
        "    flows_df = pd.DataFrame(flows_list_of_dicts)\n",
        "\n",
        "    # Step 4: Display a summary of generated flows (for console output)\n",
        "    if not flows_df.empty:\n",
        "        print(\"\\nHead of the generated Flows DataFrame:\")\n",
        "        print(flows_df.head())\n",
        "        print(\"\\nColumns in the generated Flows DataFrame:\")\n",
        "        print(flows_df.columns.tolist())\n",
        "    else:\n",
        "        print(\"\\nNo flows generated to display.\")\n",
        "\n",
        "    return flows_df,total_packets"
      ],
      "metadata": {
        "id": "7GkfYqDGRV1-"
      },
      "execution_count": 21,
      "outputs": []
    },
    {
      "cell_type": "code",
      "source": [
        "# simulate cicflowmeter for each pcap file\n",
        "\n",
        "for attack in attacks:\n",
        "  pcap_files = os.listdir(f'/content/{attack}')\n",
        "  for pcap_file in pcap_files:\n",
        "    file_name = pcap_file.split('.')[0]\n",
        "    pcap_file_name = f'{file_name}.pcap'\n",
        "    pcap_file_dir = f'/content/{attack}/'\n",
        "\n",
        "    csv_file_name = f'{file_name}.csv'\n",
        "    csv_file_dir = f'/content/{attack}_csv/'\n",
        "\n",
        "    index_file_name = f'{file_name}_index.csv'\n",
        "    index_file_dir = f'/content/{attack}_index/'\n",
        "\n",
        "    simulated_flows_df,total_packets = extract_flows_from_pcap(pcap_file_dir+pcap_file_name)\n",
        "    simulated_flows_df['Total_Packets'] = total_packets\n",
        "    simulated_flows_df.to_csv(index_file_dir+index_file_name, index=False)"
      ],
      "metadata": {
        "id": "HCx91HegRlrc",
        "colab": {
          "base_uri": "https://localhost:8080/"
        },
        "outputId": "1608a820-31b0-4023-a436-1574ff352d0b"
      },
      "execution_count": 22,
      "outputs": [
        {
          "output_type": "stream",
          "name": "stdout",
          "text": [
            "Reading packets from /content/DoS-Slow-Rate/slowread_1.pcap...\n",
            "Successfully read 189494 packets from /content/DoS-Slow-Rate/slowread_1.pcap.\n",
            "Extracted 188767 valid packets from PCAP.\n",
            "\n",
            "Processing packets into flows (simulating CICFlowMeter logic)...\n",
            "\n",
            "Discovered 38956 flows.\n",
            "\n",
            "Head of the generated Flows DataFrame:\n",
            "                         Flow ID    Src IP  Src Port    Dst IP  Dst Port  \\\n",
            "0  10.0.0.1-10.0.1.2-8001-5050-6  10.0.0.1      8001  10.0.1.2      5050   \n",
            "1  10.0.0.1-10.0.1.2-8001-5050-6  10.0.0.1      8001  10.0.1.2      5050   \n",
            "2  10.0.0.1-10.0.1.2-8002-5050-6  10.0.0.1      8002  10.0.1.2      5050   \n",
            "3  10.0.0.1-10.0.1.2-8002-5050-6  10.0.0.1      8002  10.0.1.2      5050   \n",
            "4  10.0.0.1-10.0.1.2-8003-5050-6  10.0.0.1      8003  10.0.1.2      5050   \n",
            "\n",
            "   Protocol  Flow Duration (us)  Total Packets  Total Bytes  Fwd Packets  \\\n",
            "0         6                9546             12         2935            6   \n",
            "1         6                 155              2          132            2   \n",
            "2         6              188449             12         2935            6   \n",
            "3         6                  47              2          132            2   \n",
            "4         6              525933             11         2869            5   \n",
            "\n",
            "   Bwd Packets                                     Packet Indices  \\\n",
            "0            6  [167, 168, 169, 170, 171, 172, 173, 174, 175, ...   \n",
            "1            0                                         [179, 180]   \n",
            "2            6  [195, 196, 197, 198, 199, 200, 201, 202, 203, ...   \n",
            "3            0                                         [207, 208]   \n",
            "4            6  [219, 220, 221, 222, 223, 234, 235, 236, 237, ...   \n",
            "\n",
            "                                   Packet Timestamps  \n",
            "0  [1610289354120148, 1610289354120313, 161028935...  \n",
            "1               [1610289354129749, 1610289354129904]  \n",
            "2  [1610289355140718, 1610289355140893, 161028935...  \n",
            "3               [1610289355329222, 1610289355329269]  \n",
            "4  [1610289356160961, 1610289356161156, 161028935...  \n",
            "\n",
            "Columns in the generated Flows DataFrame:\n",
            "['Flow ID', 'Src IP', 'Src Port', 'Dst IP', 'Dst Port', 'Protocol', 'Flow Duration (us)', 'Total Packets', 'Total Bytes', 'Fwd Packets', 'Bwd Packets', 'Packet Indices', 'Packet Timestamps']\n",
            "Reading packets from /content/DoS-Slow-Rate/http_slowloris.pcap...\n",
            "Successfully read 8000 packets from /content/DoS-Slow-Rate/http_slowloris.pcap.\n",
            "Extracted 8000 valid packets from PCAP.\n",
            "\n",
            "Processing packets into flows (simulating CICFlowMeter logic)...\n",
            "\n",
            "Discovered 3000 flows.\n",
            "\n",
            "Head of the generated Flows DataFrame:\n",
            "                                   Flow ID           Src IP  Src Port  \\\n",
            "0  119.162.193.187-154.49.2.126-80-52074-6  119.162.193.187        80   \n",
            "1  119.162.193.187-154.49.2.126-80-52075-6  119.162.193.187        80   \n",
            "2  119.162.193.187-154.49.2.126-80-52077-6  119.162.193.187        80   \n",
            "3  119.162.193.187-154.49.2.126-80-52079-6  119.162.193.187        80   \n",
            "4  119.162.193.187-154.49.2.126-80-52081-6  119.162.193.187        80   \n",
            "\n",
            "         Dst IP  Dst Port  Protocol  Flow Duration (us)  Total Packets  \\\n",
            "0  154.49.2.126     52074         6              341096              7   \n",
            "1  154.49.2.126     52075         6              318479              7   \n",
            "2  154.49.2.126     52077         6              311747              7   \n",
            "3  154.49.2.126     52079         6              305319              7   \n",
            "4  154.49.2.126     52081         6              298693              7   \n",
            "\n",
            "   Total Bytes  Fwd Packets  Bwd Packets                    Packet Indices  \\\n",
            "0          725            4            3       [0, 1, 2, 3, 6, 1537, 1625]   \n",
            "1          725            4            3      [4, 7, 8, 9, 15, 1538, 1626]   \n",
            "2          725            4            3  [10, 16, 17, 18, 25, 1539, 1621]   \n",
            "3          725            4            3  [20, 26, 27, 28, 35, 1540, 1635]   \n",
            "4          725            4            3  [30, 36, 37, 38, 45, 1541, 1646]   \n",
            "\n",
            "                                   Packet Timestamps  \n",
            "0  [1534266867159013, 1534266867165687, 153426686...  \n",
            "1  [1534266867181631, 1534266867187484, 153426686...  \n",
            "2  [1534266867188146, 1534266867193939, 153426686...  \n",
            "3  [1534266867194832, 1534266867200827, 153426686...  \n",
            "4  [1534266867201630, 1534266867207530, 153426686...  \n",
            "\n",
            "Columns in the generated Flows DataFrame:\n",
            "['Flow ID', 'Src IP', 'Src Port', 'Dst IP', 'Dst Port', 'Protocol', 'Flow Duration (us)', 'Total Packets', 'Total Bytes', 'Fwd Packets', 'Bwd Packets', 'Packet Indices', 'Packet Timestamps']\n",
            "Reading packets from /content/DoS-Slow-Rate/slowread_2.pcap...\n",
            "Successfully read 191284 packets from /content/DoS-Slow-Rate/slowread_2.pcap.\n",
            "Extracted 189816 valid packets from PCAP.\n",
            "\n",
            "Processing packets into flows (simulating CICFlowMeter logic)...\n",
            "\n",
            "Discovered 39116 flows.\n",
            "\n",
            "Head of the generated Flows DataFrame:\n",
            "                            Flow ID   Src IP  Src Port           Dst IP  \\\n",
            "0  0.0.0.0-255.255.255.255-68-67-17  0.0.0.0        68  255.255.255.255   \n",
            "1  0.0.0.0-255.255.255.255-68-67-17  0.0.0.0        68  255.255.255.255   \n",
            "2  0.0.0.0-255.255.255.255-68-67-17  0.0.0.0        68  255.255.255.255   \n",
            "3  0.0.0.0-255.255.255.255-68-67-17  0.0.0.0        68  255.255.255.255   \n",
            "4  0.0.0.0-255.255.255.255-68-67-17  0.0.0.0        68  255.255.255.255   \n",
            "\n",
            "   Dst Port  Protocol  Flow Duration (us)  Total Packets  Total Bytes  \\\n",
            "0        67        17             3730886              3         1026   \n",
            "1        67        17                   0              1          342   \n",
            "2        67        17                   0              1          342   \n",
            "3        67        17                   0              1          342   \n",
            "4        67        17                   0              1          342   \n",
            "\n",
            "   Fwd Packets  Bwd Packets Packet Indices  \\\n",
            "0            3            0     [1, 4, 19]   \n",
            "1            1            0           [25]   \n",
            "2            1            0           [27]   \n",
            "3            1            0           [29]   \n",
            "4            1            0           [30]   \n",
            "\n",
            "                                   Packet Timestamps  \n",
            "0  [1610292471907417, 1610292472553773, 161029247...  \n",
            "1                                 [1610292480814255]  \n",
            "2                                 [1610292486657855]  \n",
            "3                                 [1610292493337695]  \n",
            "4                                 [1610292503425677]  \n",
            "\n",
            "Columns in the generated Flows DataFrame:\n",
            "['Flow ID', 'Src IP', 'Src Port', 'Dst IP', 'Dst Port', 'Protocol', 'Flow Duration (us)', 'Total Packets', 'Total Bytes', 'Fwd Packets', 'Bwd Packets', 'Packet Indices', 'Packet Timestamps']\n"
          ]
        }
      ]
    },
    {
      "cell_type": "code",
      "source": [
        "# list all index.csv files\n",
        "\n",
        "for attack in attacks:\n",
        "  print('--------------------------------')\n",
        "  print(f\"CSV in {attack}_index\")\n",
        "  print('--------------------------------')\n",
        "  attack_indexs = os.listdir(f'/content/{attack}_index')\n",
        "  for attack_index in attack_indexs:\n",
        "    print(attack_index)"
      ],
      "metadata": {
        "id": "IsXX-DxpSOpf",
        "colab": {
          "base_uri": "https://localhost:8080/"
        },
        "outputId": "6e382ccc-233d-4579-e2e0-74744841ab3e"
      },
      "execution_count": 23,
      "outputs": [
        {
          "output_type": "stream",
          "name": "stdout",
          "text": [
            "--------------------------------\n",
            "CSV in DoS-Slow-Rate_index\n",
            "--------------------------------\n",
            "slowread_1_index.csv\n",
            "http_slowloris_index.csv\n",
            "slowread_2_index.csv\n"
          ]
        }
      ]
    },
    {
      "cell_type": "code",
      "source": [
        "# define function for combining simulated and original flow\n",
        "\n",
        "import pandas as pd\n",
        "import ipaddress # For robust IP address comparison\n",
        "\n",
        "# --- Start: Helper Functions (from previous scripts, for self-contained use) ---\n",
        "\n",
        "def generate_flow_key(packet_components):\n",
        "    \"\"\"\n",
        "    Generates a unique key for a flow based on the 5-tuple,\n",
        "    mimicking CICFlowMeter's Java BasicPacketInfo.generateFlowId() logic\n",
        "    for canonicalizing IP addresses and ports.\n",
        "\n",
        "    This function uses the raw protocol number, matching BasicPacketInfo.java.\n",
        "    Any mapping of non-TCP/UDP/ICMP protocols to '0' happens *after* Flow ID generation\n",
        "    in CICFlowMeter's pipeline (e.g., for display in FlowFeature.featureValue2String),\n",
        "    and is NOT part of the Flow ID itself.\n",
        "\n",
        "    Args:\n",
        "        packet_components (tuple): A tuple containing (src_ip_str, dst_ip_str, src_port, dst_port, protocol_int)\n",
        "    Returns:\n",
        "        tuple: Canonical 5-tuple (normalized_src_ip, normalized_dst_ip, normalized_src_port, normalized_dst_port, normalized_protocol_int)\n",
        "    \"\"\"\n",
        "    src_ip_str, dst_ip_str, src_port, dst_port, protocol_int = packet_components\n",
        "\n",
        "    # Use ipaddress for robust IP comparison, mirroring Java's byte-by-byte comparison\n",
        "    try:\n",
        "        src_ip_obj = ipaddress.ip_address(src_ip_str)\n",
        "        dst_ip_obj = ipaddress.ip_address(dst_ip_str)\n",
        "    except ValueError:\n",
        "        # Fallback for invalid IPs if any, should not happen with valid PCAP data\n",
        "        return (src_ip_str, dst_ip_str, src_port, dst_port, protocol_int)\n",
        "\n",
        "\n",
        "    # Determine 'forward' based on IP comparison: canonical_src_ip will be the \"smaller\" IP\n",
        "    if src_ip_obj < dst_ip_obj:\n",
        "        normalized_src_ip = src_ip_str\n",
        "        normalized_dst_ip = dst_ip_str\n",
        "        normalized_src_port = src_port\n",
        "        normalized_dst_port = dst_port\n",
        "    elif dst_ip_obj < src_ip_obj:\n",
        "        # Swap IPs and their corresponding ports for normalization\n",
        "        normalized_src_ip = dst_ip_str\n",
        "        normalized_dst_ip = src_ip_str\n",
        "        normalized_src_port = dst_port\n",
        "        normalized_dst_port = src_port\n",
        "    else: # IPs are equal (e.g., multicast or broadcast)\n",
        "        # If IPs are the same, Java's logic does NOT swap ports based on IP.\n",
        "        # It keeps original src/dst IPs and ports as they are.\n",
        "        normalized_src_ip = src_ip_str\n",
        "        normalized_dst_ip = dst_ip_str\n",
        "        normalized_src_port = src_port\n",
        "        normalized_dst_port = dst_port\n",
        "\n",
        "    # The canonical 5-tuple key for the hash map\n",
        "    return (normalized_src_ip, normalized_dst_ip, normalized_src_port, normalized_dst_port, protocol_int)\n",
        "\n",
        "def parse_flow_id_string(flow_id_str):\n",
        "    \"\"\"\n",
        "    Parses a Flow ID string (e.g., 'IP1-IP2-Port1-Port2-Protocol') into its components.\n",
        "    Returns a tuple (src_ip, dst_ip, src_port, dst_port, protocol_int) or None if parsing fails.\n",
        "    \"\"\"\n",
        "    parts = flow_id_str.split('-')\n",
        "    if len(parts) == 5:\n",
        "        try:\n",
        "            return (parts[0], parts[1], int(parts[2]), int(parts[3]), int(parts[4]))\n",
        "        except ValueError:\n",
        "            return None\n",
        "    return None\n",
        "\n",
        "def read_flows_to_dataframe(filepath: str, is_simulated_output: bool = False) -> pd.DataFrame:\n",
        "    \"\"\"\n",
        "    Reads flow data from a CSV file into a Pandas DataFrame.\n",
        "    Adds a 'Canonical_Flow_ID' column for merging.\n",
        "    Parses 'Packet Indices' and 'Packet Timestamps' for simulated output.\n",
        "    This function keeps all original rows and does not deduplicate based on Canonical Flow ID.\n",
        "\n",
        "    Args:\n",
        "        filepath (str): Path to the CSV file.\n",
        "        is_simulated_output (bool): True if reading our simulated output (with 'Packet Indices' column),\n",
        "                                    False if reading original CICFlowMeter output.\n",
        "\n",
        "    Returns:\n",
        "        pd.DataFrame: The loaded DataFrame with an added 'Canonical_Flow_ID' column.\n",
        "                      Returns an empty DataFrame if the file is not found or an error occurs.\n",
        "    \"\"\"\n",
        "    try:\n",
        "        df = pd.read_csv(filepath)\n",
        "\n",
        "        # Create a new column with parsed components for canonicalization\n",
        "        df['Parsed_Flow_Components'] = df['Flow ID'].apply(parse_flow_id_string)\n",
        "\n",
        "        # Filter out rows where parsing failed\n",
        "        df = df.dropna(subset=['Parsed_Flow_Components'])\n",
        "\n",
        "        # Apply canonicalization to create 'Canonical_Flow_ID'\n",
        "        df['Canonical_Flow_ID'] = df['Parsed_Flow_Components'].apply(generate_flow_key).apply(lambda x: \"-\".join(map(str, x)))\n",
        "\n",
        "        # Clean up temporary column\n",
        "        df = df.drop(columns=['Parsed_Flow_Components'])\n",
        "\n",
        "        total_packets = 0\n",
        "        # Special handling for our simulated output's 'Packet Indices' and 'Packet Timestamps'\n",
        "        if is_simulated_output:\n",
        "            if 'Total_Packets' in df.columns:\n",
        "                total_packets = df['Total_Packets'].iloc[0]\n",
        "            if 'Packet Indices' in df.columns:\n",
        "                try:\n",
        "                    df['Packet Indices'] = df['Packet Indices'].apply(eval)\n",
        "                except Exception as e:\n",
        "                    print(f\"Warning: Could not parse 'Packet Indices' in {filepath}: {e}\")\n",
        "                    df['Packet Indices'] = [[]] * len(df) # Assign empty list on error\n",
        "            if 'Packet Timestamps' in df.columns:\n",
        "                try:\n",
        "                    df['Packet Timestamps'] = df['Packet Timestamps'].apply(eval)\n",
        "                except Exception as e:\n",
        "                    print(f\"Warning: Could not parse 'Packet Timestamps' in {filepath}: {e}\")\n",
        "                    df['Packet Timestamps'] = [[]] * len(df) # Assign empty list on error\n",
        "\n",
        "        print(f\"Successfully loaded {len(df)} flows from '{filepath}'.\")\n",
        "        return df,total_packets\n",
        "    except FileNotFoundError:\n",
        "        print(f\"Error: File not found at '{filepath}'\")\n",
        "        return pd.DataFrame() # Return empty DataFrame on error\n",
        "    except Exception as e:\n",
        "        print(f\"Error reading or processing CSV file '{filepath}': {e}\")\n",
        "        return pd.DataFrame() # Return empty DataFrame on error\n",
        "\n",
        "# --- End: Helper Functions ---\n",
        "\n",
        "def merge_flows_and_return_dataframe(simulated_df: pd.DataFrame, original_df: pd.DataFrame) -> pd.DataFrame:\n",
        "    \"\"\"\n",
        "    Merges a DataFrame of simulated flows with a DataFrame of original CICFlowMeter flows\n",
        "    based on a canonical flow ID. It adds the 'Simulated Packet Indices' column to the\n",
        "    original flow data where a match is found.\n",
        "\n",
        "    Args:\n",
        "        simulated_df (pd.DataFrame): DataFrame containing flows generated by the simulation.\n",
        "                                     Expected to have 'Canonical_Flow_ID' and 'Packet Indices'.\n",
        "        original_df (pd.DataFrame): DataFrame containing flows from the original CICFlowMeter.\n",
        "                                    Expected to have 'Canonical_Flow_ID' and original flow features.\n",
        "\n",
        "    Returns:\n",
        "        pd.DataFrame: A merged DataFrame containing original CICFlowMeter features\n",
        "                      and 'Simulated Packet Indices' for matching flows.\n",
        "                      Returns an empty DataFrame if inputs are invalid.\n",
        "    \"\"\"\n",
        "    if simulated_df.empty or original_df.empty:\n",
        "        print(\"Cannot merge flows due to empty input DataFrames.\")\n",
        "        return pd.DataFrame()\n",
        "\n",
        "    # Perform a left merge on the 'Canonical_Flow_ID'\n",
        "    # Keep all rows from original_df, and add matching data from simulated_df.\n",
        "    # Select only 'Canonical_Flow_ID' and 'Packet Indices' from the simulated_df.\n",
        "    merged_df = pd.merge(\n",
        "        original_df,\n",
        "        simulated_df[['Canonical_Flow_ID', 'Packet Indices']],\n",
        "        on='Canonical_Flow_ID',\n",
        "        how='left',\n",
        "        suffixes=('_original', '_simulated')\n",
        "    )\n",
        "\n",
        "    # Rename the new column for clarity\n",
        "    merged_df = merged_df.rename(columns={\n",
        "        'Packet Indices': 'Simulated Packet Indices'\n",
        "    })\n",
        "\n",
        "    # Drop the 'Canonical_Flow_ID' column, as it's only for merging\n",
        "    merged_df = merged_df.drop(columns=['Canonical_Flow_ID'])\n",
        "\n",
        "    print(\"\\n--- Merged Flow Data (Original CICFlowMeter with Simulated Packet Indices) ---\")\n",
        "    print(f\"Total rows in merged DataFrame: {len(merged_df)}\")\n",
        "    print(\"Head of the merged DataFrame:\")\n",
        "    print(merged_df.head())\n",
        "\n",
        "    print(\"\\nColumns in the merged DataFrame:\")\n",
        "    print(merged_df.columns.tolist())\n",
        "\n",
        "    return merged_df"
      ],
      "metadata": {
        "id": "dXbxMCsERvrN"
      },
      "execution_count": 24,
      "outputs": []
    },
    {
      "cell_type": "code",
      "source": [
        "# combine simulate and original flow , for each flow\n",
        "\n",
        "for attack in attacks:\n",
        "  pcap_files = os.listdir(f'/content/{attack}')\n",
        "  for pcap_file in pcap_files:\n",
        "    file_name = pcap_file.split('.')[0]\n",
        "    pcap_file_name = f'{file_name}.pcap'\n",
        "    pcap_file_dir = f'/content/{attack}/'\n",
        "\n",
        "    csv_file_name = f'{file_name}_ISCX.csv'\n",
        "    csv_file_dir = f'/content/{attack}_csv/'\n",
        "\n",
        "    index_file_name = f'{file_name}_index.csv'\n",
        "    index_file_dir = f'/content/{attack}_index/'\n",
        "\n",
        "    simulated_csv_path = f'{index_file_dir}/{index_file_name}'\n",
        "    original_cic_csv_path = f'{csv_file_dir}/{csv_file_name}'\n",
        "\n",
        "    # Read the data from both CSVs into DataFrames using the helper function\n",
        "    simulated_df,total_packets = read_flows_to_dataframe(simulated_csv_path, is_simulated_output=True)\n",
        "    original_df,placeholder = read_flows_to_dataframe(original_cic_csv_path, is_simulated_output=False)\n",
        "\n",
        "    # Merge the flows and get the resulting DataFrame\n",
        "    final_merged_df = merge_flows_and_return_dataframe(simulated_df, original_df)\n",
        "    final_merged_df['Total_Packets'] = total_packets\n",
        "    final_merged_df.to_csv(f'{index_file_dir}/{index_file_name}', index=False)"
      ],
      "metadata": {
        "id": "nWWktpjBVgnn",
        "colab": {
          "base_uri": "https://localhost:8080/"
        },
        "outputId": "20b04164-0545-436a-cc08-4a019393b261"
      },
      "execution_count": 25,
      "outputs": [
        {
          "output_type": "stream",
          "name": "stdout",
          "text": [
            "Successfully loaded 38956 flows from '/content/DoS-Slow-Rate_index//slowread_1_index.csv'.\n",
            "Successfully loaded 25030 flows from '/content/DoS-Slow-Rate_csv//slowread_1_ISCX.csv'.\n",
            "\n",
            "--- Merged Flow Data (Original CICFlowMeter with Simulated Packet Indices) ---\n",
            "Total rows in merged DataFrame: 77676\n",
            "Head of the merged DataFrame:\n",
            "                         Flow ID    Src IP  Src Port    Dst IP  Dst Port  \\\n",
            "0  10.0.0.1-10.0.1.2-8001-5050-6  10.0.0.1      8001  10.0.1.2      5050   \n",
            "1  10.0.0.1-10.0.1.2-8001-5050-6  10.0.0.1      8001  10.0.1.2      5050   \n",
            "2  10.0.0.1-10.0.1.2-8001-5050-6  10.0.0.1      8001  10.0.1.2      5050   \n",
            "3  10.0.0.1-10.0.1.2-8001-5050-6  10.0.0.1      8001  10.0.1.2      5050   \n",
            "4  10.0.0.1-10.0.1.2-8001-5050-6  10.0.0.1      8001  10.0.1.2      5050   \n",
            "\n",
            "   Protocol            Timestamp  Flow Duration  Tot Fwd Pkts  Tot Bwd Pkts  \\\n",
            "0         6  10/01/2021 02:35:54           9546             6             6   \n",
            "1         6  10/01/2021 02:35:54           9546             6             6   \n",
            "2         6  10/01/2021 02:35:54           9546             6             6   \n",
            "3         6  10/01/2021 02:35:54            155             2             0   \n",
            "4         6  10/01/2021 02:35:54            155             2             0   \n",
            "\n",
            "   ...  Active Mean  Active Std  Active Max  Active Min  Idle Mean  Idle Std  \\\n",
            "0  ...          0.0         0.0         0.0         0.0        0.0       0.0   \n",
            "1  ...          0.0         0.0         0.0         0.0        0.0       0.0   \n",
            "2  ...          0.0         0.0         0.0         0.0        0.0       0.0   \n",
            "3  ...          0.0         0.0         0.0         0.0        0.0       0.0   \n",
            "4  ...          0.0         0.0         0.0         0.0        0.0       0.0   \n",
            "\n",
            "   Idle Max  Idle Min     Label  \\\n",
            "0       0.0       0.0  No Label   \n",
            "1       0.0       0.0  No Label   \n",
            "2       0.0       0.0  No Label   \n",
            "3       0.0       0.0  No Label   \n",
            "4       0.0       0.0  No Label   \n",
            "\n",
            "                            Simulated Packet Indices  \n",
            "0  [167, 168, 169, 170, 171, 172, 173, 174, 175, ...  \n",
            "1                                         [179, 180]  \n",
            "2                                              [181]  \n",
            "3  [167, 168, 169, 170, 171, 172, 173, 174, 175, ...  \n",
            "4                                         [179, 180]  \n",
            "\n",
            "[5 rows x 85 columns]\n",
            "\n",
            "Columns in the merged DataFrame:\n",
            "['Flow ID', 'Src IP', 'Src Port', 'Dst IP', 'Dst Port', 'Protocol', 'Timestamp', 'Flow Duration', 'Tot Fwd Pkts', 'Tot Bwd Pkts', 'TotLen Fwd Pkts', 'TotLen Bwd Pkts', 'Fwd Pkt Len Max', 'Fwd Pkt Len Min', 'Fwd Pkt Len Mean', 'Fwd Pkt Len Std', 'Bwd Pkt Len Max', 'Bwd Pkt Len Min', 'Bwd Pkt Len Mean', 'Bwd Pkt Len Std', 'Flow Byts/s', 'Flow Pkts/s', 'Flow IAT Mean', 'Flow IAT Std', 'Flow IAT Max', 'Flow IAT Min', 'Fwd IAT Tot', 'Fwd IAT Mean', 'Fwd IAT Std', 'Fwd IAT Max', 'Fwd IAT Min', 'Bwd IAT Tot', 'Bwd IAT Mean', 'Bwd IAT Std', 'Bwd IAT Max', 'Bwd IAT Min', 'Fwd PSH Flags', 'Bwd PSH Flags', 'Fwd URG Flags', 'Bwd URG Flags', 'Fwd Header Len', 'Bwd Header Len', 'Fwd Pkts/s', 'Bwd Pkts/s', 'Pkt Len Min', 'Pkt Len Max', 'Pkt Len Mean', 'Pkt Len Std', 'Pkt Len Var', 'FIN Flag Cnt', 'SYN Flag Cnt', 'RST Flag Cnt', 'PSH Flag Cnt', 'ACK Flag Cnt', 'URG Flag Cnt', 'CWE Flag Count', 'ECE Flag Cnt', 'Down/Up Ratio', 'Pkt Size Avg', 'Fwd Seg Size Avg', 'Bwd Seg Size Avg', 'Fwd Byts/b Avg', 'Fwd Pkts/b Avg', 'Fwd Blk Rate Avg', 'Bwd Byts/b Avg', 'Bwd Pkts/b Avg', 'Bwd Blk Rate Avg', 'Subflow Fwd Pkts', 'Subflow Fwd Byts', 'Subflow Bwd Pkts', 'Subflow Bwd Byts', 'Init Fwd Win Byts', 'Init Bwd Win Byts', 'Fwd Act Data Pkts', 'Fwd Seg Size Min', 'Active Mean', 'Active Std', 'Active Max', 'Active Min', 'Idle Mean', 'Idle Std', 'Idle Max', 'Idle Min', 'Label', 'Simulated Packet Indices']\n",
            "Successfully loaded 3000 flows from '/content/DoS-Slow-Rate_index//http_slowloris_index.csv'.\n",
            "Successfully loaded 1500 flows from '/content/DoS-Slow-Rate_csv//http_slowloris_ISCX.csv'.\n",
            "\n",
            "--- Merged Flow Data (Original CICFlowMeter with Simulated Packet Indices) ---\n",
            "Total rows in merged DataFrame: 9000\n",
            "Head of the merged DataFrame:\n",
            "                                   Flow ID        Src IP  Src Port  \\\n",
            "0  154.49.2.126-119.162.193.187-52074-80-6  154.49.2.126     52074   \n",
            "1  154.49.2.126-119.162.193.187-52074-80-6  154.49.2.126     52074   \n",
            "2  154.49.2.126-119.162.193.187-52074-80-6  154.49.2.126     52074   \n",
            "3  154.49.2.126-119.162.193.187-52074-80-6  154.49.2.126     52074   \n",
            "4  154.49.2.126-119.162.193.187-52074-80-6  154.49.2.126     52074   \n",
            "\n",
            "            Dst IP  Dst Port  Protocol            Timestamp  Flow Duration  \\\n",
            "0  119.162.193.187        80         6  14/08/2018 05:14:27      100343301   \n",
            "1  119.162.193.187        80         6  14/08/2018 05:14:27      100343301   \n",
            "2  119.162.193.187        80         6  14/08/2018 05:14:27      100343301   \n",
            "3  119.162.193.187        80         6  14/08/2018 05:14:27      100343301   \n",
            "4  119.162.193.187        80         6  14/08/2018 05:14:27      100343301   \n",
            "\n",
            "   Tot Fwd Pkts  Tot Bwd Pkts  ...  Active Mean  Active Std  Active Max  \\\n",
            "0             5             4  ...     341096.0         0.0    341096.0   \n",
            "1             5             4  ...     341096.0         0.0    341096.0   \n",
            "2             5             4  ...     341096.0         0.0    341096.0   \n",
            "3             5             4  ...     341096.0         0.0    341096.0   \n",
            "4             5             4  ...     341096.0         0.0    341096.0   \n",
            "\n",
            "   Active Min   Idle Mean  Idle Std    Idle Max    Idle Min     Label  \\\n",
            "0    341096.0  99995561.0       0.0  99995561.0  99995561.0  No Label   \n",
            "1    341096.0  99995561.0       0.0  99995561.0  99995561.0  No Label   \n",
            "2    341096.0  99995561.0       0.0  99995561.0  99995561.0  No Label   \n",
            "3    341096.0  99995561.0       0.0  99995561.0  99995561.0  No Label   \n",
            "4    341096.0  99995561.0       0.0  99995561.0  99995561.0  No Label   \n",
            "\n",
            "      Simulated Packet Indices  \n",
            "0  [0, 1, 2, 3, 6, 1537, 1625]  \n",
            "1                 [3500, 3566]  \n",
            "2                 [4500, 4559]  \n",
            "3                 [5500, 5558]  \n",
            "4                 [6999, 7968]  \n",
            "\n",
            "[5 rows x 85 columns]\n",
            "\n",
            "Columns in the merged DataFrame:\n",
            "['Flow ID', 'Src IP', 'Src Port', 'Dst IP', 'Dst Port', 'Protocol', 'Timestamp', 'Flow Duration', 'Tot Fwd Pkts', 'Tot Bwd Pkts', 'TotLen Fwd Pkts', 'TotLen Bwd Pkts', 'Fwd Pkt Len Max', 'Fwd Pkt Len Min', 'Fwd Pkt Len Mean', 'Fwd Pkt Len Std', 'Bwd Pkt Len Max', 'Bwd Pkt Len Min', 'Bwd Pkt Len Mean', 'Bwd Pkt Len Std', 'Flow Byts/s', 'Flow Pkts/s', 'Flow IAT Mean', 'Flow IAT Std', 'Flow IAT Max', 'Flow IAT Min', 'Fwd IAT Tot', 'Fwd IAT Mean', 'Fwd IAT Std', 'Fwd IAT Max', 'Fwd IAT Min', 'Bwd IAT Tot', 'Bwd IAT Mean', 'Bwd IAT Std', 'Bwd IAT Max', 'Bwd IAT Min', 'Fwd PSH Flags', 'Bwd PSH Flags', 'Fwd URG Flags', 'Bwd URG Flags', 'Fwd Header Len', 'Bwd Header Len', 'Fwd Pkts/s', 'Bwd Pkts/s', 'Pkt Len Min', 'Pkt Len Max', 'Pkt Len Mean', 'Pkt Len Std', 'Pkt Len Var', 'FIN Flag Cnt', 'SYN Flag Cnt', 'RST Flag Cnt', 'PSH Flag Cnt', 'ACK Flag Cnt', 'URG Flag Cnt', 'CWE Flag Count', 'ECE Flag Cnt', 'Down/Up Ratio', 'Pkt Size Avg', 'Fwd Seg Size Avg', 'Bwd Seg Size Avg', 'Fwd Byts/b Avg', 'Fwd Pkts/b Avg', 'Fwd Blk Rate Avg', 'Bwd Byts/b Avg', 'Bwd Pkts/b Avg', 'Bwd Blk Rate Avg', 'Subflow Fwd Pkts', 'Subflow Fwd Byts', 'Subflow Bwd Pkts', 'Subflow Bwd Byts', 'Init Fwd Win Byts', 'Init Bwd Win Byts', 'Fwd Act Data Pkts', 'Fwd Seg Size Min', 'Active Mean', 'Active Std', 'Active Max', 'Active Min', 'Idle Mean', 'Idle Std', 'Idle Max', 'Idle Min', 'Label', 'Simulated Packet Indices']\n",
            "Successfully loaded 39116 flows from '/content/DoS-Slow-Rate_index//slowread_2_index.csv'.\n",
            "Successfully loaded 25117 flows from '/content/DoS-Slow-Rate_csv//slowread_2_ISCX.csv'.\n",
            "\n",
            "--- Merged Flow Data (Original CICFlowMeter with Simulated Packet Indices) ---\n",
            "Total rows in merged DataFrame: 82219\n",
            "Head of the merged DataFrame:\n",
            "                            Flow ID   Src IP  Src Port           Dst IP  \\\n",
            "0  255.255.255.255-0.0.0.0-67-68-17  0.0.0.0        68  255.255.255.255   \n",
            "1  255.255.255.255-0.0.0.0-67-68-17  0.0.0.0        68  255.255.255.255   \n",
            "2  255.255.255.255-0.0.0.0-67-68-17  0.0.0.0        68  255.255.255.255   \n",
            "3  255.255.255.255-0.0.0.0-67-68-17  0.0.0.0        68  255.255.255.255   \n",
            "4  255.255.255.255-0.0.0.0-67-68-17  0.0.0.0        68  255.255.255.255   \n",
            "\n",
            "   Dst Port  Protocol            Timestamp  Flow Duration  Tot Fwd Pkts  \\\n",
            "0        67        17  10/01/2021 03:27:51       89162185            12   \n",
            "1        67        17  10/01/2021 03:27:51       89162185            12   \n",
            "2        67        17  10/01/2021 03:27:51       89162185            12   \n",
            "3        67        17  10/01/2021 03:27:51       89162185            12   \n",
            "4        67        17  10/01/2021 03:27:51       89162185            12   \n",
            "\n",
            "   Tot Bwd Pkts  ...  Active Mean     Active Std  Active Max  Active Min  \\\n",
            "0             0  ...    3371320.5  508502.406661   3730886.0   3011755.0   \n",
            "1             0  ...    3371320.5  508502.406661   3730886.0   3011755.0   \n",
            "2             0  ...    3371320.5  508502.406661   3730886.0   3011755.0   \n",
            "3             0  ...    3371320.5  508502.406661   3730886.0   3011755.0   \n",
            "4             0  ...    3371320.5  508502.406661   3730886.0   3011755.0   \n",
            "\n",
            "    Idle Mean      Idle Std    Idle Max   Idle Min     Label  \\\n",
            "0  10302443.0  5.009356e+06  18650708.0  5175952.0  No Label   \n",
            "1  10302443.0  5.009356e+06  18650708.0  5175952.0  No Label   \n",
            "2  10302443.0  5.009356e+06  18650708.0  5175952.0  No Label   \n",
            "3  10302443.0  5.009356e+06  18650708.0  5175952.0  No Label   \n",
            "4  10302443.0  5.009356e+06  18650708.0  5175952.0  No Label   \n",
            "\n",
            "   Simulated Packet Indices  \n",
            "0                [1, 4, 19]  \n",
            "1                      [25]  \n",
            "2                      [27]  \n",
            "3                      [29]  \n",
            "4                      [30]  \n",
            "\n",
            "[5 rows x 85 columns]\n",
            "\n",
            "Columns in the merged DataFrame:\n",
            "['Flow ID', 'Src IP', 'Src Port', 'Dst IP', 'Dst Port', 'Protocol', 'Timestamp', 'Flow Duration', 'Tot Fwd Pkts', 'Tot Bwd Pkts', 'TotLen Fwd Pkts', 'TotLen Bwd Pkts', 'Fwd Pkt Len Max', 'Fwd Pkt Len Min', 'Fwd Pkt Len Mean', 'Fwd Pkt Len Std', 'Bwd Pkt Len Max', 'Bwd Pkt Len Min', 'Bwd Pkt Len Mean', 'Bwd Pkt Len Std', 'Flow Byts/s', 'Flow Pkts/s', 'Flow IAT Mean', 'Flow IAT Std', 'Flow IAT Max', 'Flow IAT Min', 'Fwd IAT Tot', 'Fwd IAT Mean', 'Fwd IAT Std', 'Fwd IAT Max', 'Fwd IAT Min', 'Bwd IAT Tot', 'Bwd IAT Mean', 'Bwd IAT Std', 'Bwd IAT Max', 'Bwd IAT Min', 'Fwd PSH Flags', 'Bwd PSH Flags', 'Fwd URG Flags', 'Bwd URG Flags', 'Fwd Header Len', 'Bwd Header Len', 'Fwd Pkts/s', 'Bwd Pkts/s', 'Pkt Len Min', 'Pkt Len Max', 'Pkt Len Mean', 'Pkt Len Std', 'Pkt Len Var', 'FIN Flag Cnt', 'SYN Flag Cnt', 'RST Flag Cnt', 'PSH Flag Cnt', 'ACK Flag Cnt', 'URG Flag Cnt', 'CWE Flag Count', 'ECE Flag Cnt', 'Down/Up Ratio', 'Pkt Size Avg', 'Fwd Seg Size Avg', 'Bwd Seg Size Avg', 'Fwd Byts/b Avg', 'Fwd Pkts/b Avg', 'Fwd Blk Rate Avg', 'Bwd Byts/b Avg', 'Bwd Pkts/b Avg', 'Bwd Blk Rate Avg', 'Subflow Fwd Pkts', 'Subflow Fwd Byts', 'Subflow Bwd Pkts', 'Subflow Bwd Byts', 'Init Fwd Win Byts', 'Init Bwd Win Byts', 'Fwd Act Data Pkts', 'Fwd Seg Size Min', 'Active Mean', 'Active Std', 'Active Max', 'Active Min', 'Idle Mean', 'Idle Std', 'Idle Max', 'Idle Min', 'Label', 'Simulated Packet Indices']\n"
          ]
        }
      ]
    },
    {
      "cell_type": "markdown",
      "source": [
        "# Prediction"
      ],
      "metadata": {
        "id": "eUsuVyYqX6Ei"
      }
    },
    {
      "cell_type": "code",
      "source": [
        "# define function for dataframe preprocessing\n",
        "\n",
        "import pandas as pd\n",
        "import numpy as np\n",
        "import ast\n",
        "\n",
        "def map_port(port):\n",
        "    if port == 21:\n",
        "        return 1  # FTP\n",
        "    elif port == 22:\n",
        "        return 2  # SSH\n",
        "    elif port == 53:\n",
        "        return 3  # DNS\n",
        "    elif port == 80:\n",
        "        return 4  # HTTP\n",
        "    elif port == 443:\n",
        "        return 5  # HTTPS\n",
        "    else:\n",
        "        return 6  # Other\n",
        "\n",
        "def preprocess_dataframe(df):\n",
        "    original_indices = set(df.index)\n",
        "\n",
        "    # replace space in columns name with underscore\n",
        "    df.columns = df.columns.str.strip().str.replace(' ', '_')\n",
        "\n",
        "    # drop objects type columns\n",
        "    columns_to_drop = [\n",
        "        'Flow_ID','Src_IP','Dst_IP','Src_Port','Protocol','Timestamp','Label'\n",
        "    ]\n",
        "\n",
        "    df = df.drop(columns=columns_to_drop)\n",
        "\n",
        "    # remove rows with missing and infinite values\n",
        "    df.replace([np.inf, -np.inf], np.nan, inplace=True)\n",
        "    df = df.dropna()\n",
        "\n",
        "    # map destination port to 1-6 numbers\n",
        "    df['Dst_Port'] = df['Dst_Port'].apply(map_port)\n",
        "\n",
        "    return df\n",
        "\n",
        "# preprocess_dataframe(df)"
      ],
      "metadata": {
        "id": "STzSwfrBX8Y1"
      },
      "execution_count": 26,
      "outputs": []
    },
    {
      "cell_type": "code",
      "source": [
        "# get prediction for each packet\n",
        "\n",
        "from collections import Counter\n",
        "\n",
        "def choose_label(labels):\n",
        "    if all(label == 'Benign' for label in labels):\n",
        "        return 'Benign'\n",
        "\n",
        "    # Count non-Benign labels\n",
        "    non_benign_labels = [label for label in labels if label != 'Benign']\n",
        "    label_counts = Counter(non_benign_labels)\n",
        "\n",
        "    # Return the most common non-Benign label\n",
        "    most_common_label, _ = label_counts.most_common(1)[0]\n",
        "    return most_common_label\n",
        "\n",
        "for attack in attacks:\n",
        "  pcap_files = os.listdir(f'/content/{attack}')\n",
        "  for pcap_file in pcap_files:\n",
        "    file_name = pcap_file.split('.')[0]\n",
        "    pcap_file_name = f'{file_name}.pcap'\n",
        "    pcap_file_dir = f'/content/{attack}/'\n",
        "\n",
        "    csv_file_name = f'{file_name}_ISCX.csv'\n",
        "    csv_file_dir = f'/content/{attack}_csv/'\n",
        "\n",
        "    index_file_name = f'{file_name}_index.csv'\n",
        "    index_file_dir = f'/content/{attack}_index/'\n",
        "\n",
        "    prediction_file_name = f'{file_name}_prediction.csv'\n",
        "    prediction_file_dir = f'/content/{attack}_prediction/'\n",
        "\n",
        "    df = pd.read_csv(f'{index_file_dir}/{index_file_name}')\n",
        "    df = preprocess_dataframe(df)\n",
        "\n",
        "    total_packets = df['Total_Packets'].iloc[0]\n",
        "    df = df.drop(columns=['Total_Packets'])\n",
        "    # print(f\"{pcap_file_name} : {total_packets}\")\n",
        "\n",
        "    df_packet_index = df['Simulated_Packet_Indices']\n",
        "    df_packet_index = df_packet_index.apply(ast.literal_eval)\n",
        "\n",
        "    df = df.drop(columns=['Simulated_Packet_Indices'])\n",
        "    df_prediction = model.predict(df)\n",
        "\n",
        "    df_prediction = pd.DataFrame({\n",
        "    'Packet_Indices': df_packet_index,\n",
        "    'Label': df_prediction\n",
        "    })\n",
        "\n",
        "    df_prediction = df_prediction.explode('Packet_Indices').reset_index(drop=True)\n",
        "\n",
        "    # after edit\n",
        "    df_prediction = df_prediction.groupby('Packet_Indices')['Label'].apply(list).reset_index()\n",
        "    df_prediction['Chosen_Label'] = df_prediction['Label'].apply(choose_label)\n",
        "\n",
        "    full_indices = set(range(1, total_packets + 1))\n",
        "    existing_indices = set(df_prediction['Packet_Indices'])\n",
        "    missing_indices = sorted(full_indices - existing_indices)\n",
        "\n",
        "    df_missing = pd.DataFrame({\n",
        "    'Packet_Indices': missing_indices,\n",
        "    'Label': [['Benign']] * len(missing_indices),\n",
        "    'Chosen_Label': ['Benign'] * len(missing_indices),\n",
        "    })\n",
        "\n",
        "    df_prediction = pd.concat([df_prediction, df_missing], ignore_index=True)\n",
        "\n",
        "    df_prediction.sort_values(by='Packet_Indices', inplace=True)\n",
        "    df_prediction.reset_index(drop=True, inplace=True)\n",
        "\n",
        "    os.makedirs(prediction_file_dir, exist_ok=True)\n",
        "    df_prediction.to_csv(f'{prediction_file_dir}/{prediction_file_name}', index=False)"
      ],
      "metadata": {
        "id": "35mrjNeMYBCn"
      },
      "execution_count": 27,
      "outputs": []
    },
    {
      "cell_type": "code",
      "source": [
        "# just seeing choosen_label value counts\n",
        "\n",
        "for attack in attacks:\n",
        "  pcap_files = os.listdir(f'/content/{attack}')\n",
        "  for pcap_file in pcap_files:\n",
        "    file_name = pcap_file.split('.')[0]\n",
        "    pcap_file_name = f'{file_name}.pcap'\n",
        "    pcap_file_dir = f'/content/{attack}/'\n",
        "\n",
        "    csv_file_name = f'{file_name}_ISCX.csv'\n",
        "    csv_file_dir = f'/content/{attack}_csv/'\n",
        "\n",
        "    index_file_name = f'{file_name}_index.csv'\n",
        "    index_file_dir = f'/content/{attack}_index/'\n",
        "\n",
        "    prediction_file_name = f'{file_name}_prediction.csv'\n",
        "    prediction_file_dir = f'/content/{attack}_prediction/'\n",
        "\n",
        "    df = pd.read_csv(f'{prediction_file_dir}/{prediction_file_name}')\n",
        "    print(f\"{pcap_file_name} = {df['Chosen_Label'].value_counts()}\")"
      ],
      "metadata": {
        "id": "vdVopIgJsgyF",
        "colab": {
          "base_uri": "https://localhost:8080/"
        },
        "outputId": "fd836298-9c50-49f5-e289-ce5d2162d6f4"
      },
      "execution_count": 28,
      "outputs": [
        {
          "output_type": "stream",
          "name": "stdout",
          "text": [
            "slowread_1.pcap = Chosen_Label\n",
            "Benign    189494\n",
            "Name: count, dtype: int64\n",
            "http_slowloris.pcap = Chosen_Label\n",
            "DoS-Slow-Rate    8000\n",
            "Benign              1\n",
            "Name: count, dtype: int64\n",
            "slowread_2.pcap = Chosen_Label\n",
            "Benign    191284\n",
            "Name: count, dtype: int64\n"
          ]
        }
      ]
    },
    {
      "cell_type": "code",
      "source": [
        "os.makedirs('/content/Result', exist_ok=True)"
      ],
      "metadata": {
        "id": "NoIDleSovPmF"
      },
      "execution_count": 29,
      "outputs": []
    },
    {
      "cell_type": "code",
      "source": [
        "# get the pcap label with most label packets and save to result\n",
        "\n",
        "import os\n",
        "import pandas as pd\n",
        "\n",
        "def get_dominant_label(label_series):\n",
        "    counts = label_series.value_counts()\n",
        "    if len(counts) == 1 and 'Benign' in counts:\n",
        "        return 'Benign'\n",
        "    counts = counts.drop('Benign', errors='ignore')\n",
        "    return counts.idxmax() if not counts.empty else 'Benign'\n",
        "\n",
        "\n",
        "\n",
        "for attack in attacks:\n",
        "    results = []\n",
        "    pcap_files = os.listdir(f'/content/{attack}')\n",
        "    for pcap_file in pcap_files:\n",
        "        file_name = pcap_file.split('.')[0]\n",
        "        pcap_file_name = f'{file_name}.pcap'\n",
        "\n",
        "        prediction_file_name = f'{file_name}_prediction.csv'\n",
        "        prediction_file_dir = f'/content/{attack}_prediction'\n",
        "        prediction_csv_path = os.path.join(prediction_file_dir, prediction_file_name)\n",
        "\n",
        "        if not os.path.isfile(prediction_csv_path):\n",
        "            continue  # Skip missing prediction files\n",
        "\n",
        "        df = pd.read_csv(prediction_csv_path)\n",
        "        final_pcap_label = get_dominant_label(df['Chosen_Label'])\n",
        "\n",
        "        results.append({\n",
        "            'File_Name': pcap_file_name,\n",
        "            'Result': final_pcap_label,\n",
        "            'Attack': attack\n",
        "        })\n",
        "\n",
        "    df_all_results = pd.DataFrame(results)\n",
        "    df_all_results.to_csv(f'/content/Result/{attack}_result.csv', index=False)"
      ],
      "metadata": {
        "id": "DaZzbHqktyYx"
      },
      "execution_count": 30,
      "outputs": []
    },
    {
      "cell_type": "code",
      "source": [
        "# prompt: generated sklearn classification result of each attack_result with y_test being Attack column and y_pred being Result column\n",
        "\n",
        "from sklearn.metrics import classification_report\n",
        "\n",
        "for attack in attacks:\n",
        "  result_csv_path = f'/content/Result/{attack}_result.csv'\n",
        "  if os.path.exists(result_csv_path):\n",
        "    df_result = pd.read_csv(result_csv_path)\n",
        "\n",
        "    y_true = df_result['Attack']\n",
        "    y_pred = df_result['Result']\n",
        "\n",
        "    print(f\"Classification Report for {attack}:\")\n",
        "    print(classification_report(y_true, y_pred, zero_division=0)) # Use zero_division=0 to handle cases where a class has no predicted samples\n",
        "\n",
        "  else:\n",
        "    print(f\"No result file found for {attack}.\")\n",
        "  print(\"-\" * 40)"
      ],
      "metadata": {
        "id": "qRqtIpYEwImD",
        "colab": {
          "base_uri": "https://localhost:8080/"
        },
        "outputId": "3fb6af32-b23d-4eb7-dfa0-f055a323acd5"
      },
      "execution_count": 31,
      "outputs": [
        {
          "output_type": "stream",
          "name": "stdout",
          "text": [
            "Classification Report for DoS-Slow-Rate:\n",
            "               precision    recall  f1-score   support\n",
            "\n",
            "       Benign       0.00      0.00      0.00         0\n",
            "DoS-Slow-Rate       1.00      0.33      0.50         3\n",
            "\n",
            "     accuracy                           0.33         3\n",
            "    macro avg       0.50      0.17      0.25         3\n",
            " weighted avg       1.00      0.33      0.50         3\n",
            "\n",
            "----------------------------------------\n"
          ]
        }
      ]
    },
    {
      "cell_type": "code",
      "source": [
        "from sklearn.metrics import classification_report\n",
        "\n",
        "all_true_labels = []\n",
        "all_predicted_labels = []\n",
        "\n",
        "for attack in attacks:\n",
        "    pcap_files = os.listdir(f'/content/{attack}')\n",
        "    for pcap_file in pcap_files:\n",
        "        file_name = pcap_file.split('.')[0]\n",
        "        prediction_file_name = f'{file_name}_prediction.csv'\n",
        "        prediction_file_dir = f'/content/{attack}_prediction/'\n",
        "        prediction_csv_path = f'{prediction_file_dir}/{prediction_file_name}'\n",
        "\n",
        "        try:\n",
        "            df_prediction = pd.read_csv(prediction_csv_path)\n",
        "            # The true label for all packets in this file is the 'attack' name\n",
        "            if attack != 'DoS-SlowRate':\n",
        "                true_label = attack\n",
        "            else:\n",
        "                true_label = 'DoS-Slow-Rate'\n",
        "\n",
        "            # Collect the predicted label for each packet from 'Chosen_Label'\n",
        "            predicted_labels = df_prediction['Chosen_Label'].tolist()\n",
        "\n",
        "            # Extend our master lists\n",
        "            all_true_labels.extend([true_label] * len(predicted_labels))\n",
        "            all_predicted_labels.extend(predicted_labels)\n",
        "\n",
        "        except FileNotFoundError:\n",
        "            print(f\"Prediction file not found for {pcap_file}: {prediction_csv_path}\")\n",
        "        except Exception as e:\n",
        "            print(f\"Error processing prediction file {prediction_csv_path}: {e}\")\n",
        "\n",
        "# Now, print the classification report using the collected true and predicted labels\n",
        "if all_true_labels and all_predicted_labels:\n",
        "    print(\"\\n--- Classification Report ---\")\n",
        "    # Ensure both lists are of the same length\n",
        "    if len(all_true_labels) == len(all_predicted_labels):\n",
        "        print(classification_report(all_true_labels, all_predicted_labels, zero_division=0))\n",
        "    else:\n",
        "        print(\"Error: Mismatch in the number of true labels and predicted labels.\")\n",
        "else:\n",
        "    print(\"\\nNo data collected to generate a classification report.\")"
      ],
      "metadata": {
        "id": "cCVJt-YJtA3s",
        "colab": {
          "base_uri": "https://localhost:8080/"
        },
        "outputId": "2da03feb-83b8-445f-8dc7-30c071399c64"
      },
      "execution_count": 32,
      "outputs": [
        {
          "output_type": "stream",
          "name": "stdout",
          "text": [
            "\n",
            "--- Classification Report ---\n",
            "               precision    recall  f1-score   support\n",
            "\n",
            "       Benign       0.00      0.00      0.00         0\n",
            "DoS-Slow-Rate       1.00      0.02      0.04    388779\n",
            "\n",
            "     accuracy                           0.02    388779\n",
            "    macro avg       0.50      0.01      0.02    388779\n",
            " weighted avg       1.00      0.02      0.04    388779\n",
            "\n"
          ]
        }
      ]
    },
    {
      "cell_type": "code",
      "source": [
        "# prompt: do confusion matrix of the from sklearn.metrics import classification_report\n",
        "# all_true_labels = []\n",
        "# all_predicted_labels = []\n",
        "# for attack in attacks:\n",
        "#     pcap_files = os.listdir(f'/content/{attack}')\n",
        "#     for pcap_file in pcap_files:\n",
        "#         file_name = pcap_file.split('.')[0]\n",
        "#         prediction_file_name = f'{file_name}_prediction.csv'\n",
        "#         prediction_file_dir = f'/content/{attack}_prediction/'\n",
        "#         prediction_csv_path = f'{prediction_file_dir}/{prediction_file_name}'\n",
        "#         try:\n",
        "#             df_prediction = pd.read_csv(prediction_csv_path)\n",
        "#             # The true label for all packets in this file is the 'attack' name\n",
        "#             if attack != 'DoS-SlowRate':\n",
        "#                 true_label = attack\n",
        "#             else:\n",
        "#                 true_label = 'DoS-Slow-Rate'\n",
        "#             # Collect the predicted label for each packet from 'Chosen_Label'\n",
        "#             predicted_labels = df_prediction['Chosen_Label'].tolist()\n",
        "#             # Extend our master lists\n",
        "#             all_true_labels.extend([true_label] * len(predicted_labels))\n",
        "#             all_predicted_labels.extend(predicted_labels)\n",
        "#         except FileNotFoundError:\n",
        "#             print(f\"Prediction file not found for {pcap_file}: {prediction_csv_path}\")\n",
        "#         except Exception as e:\n",
        "#             print(f\"Error processing prediction file {prediction_csv_path}: {e}\")\n",
        "# # Now, print the classification report using the collected true and predicted labels\n",
        "# if all_true_labels and all_predicted_labels:\n",
        "#     print(\"\\n--- Classification Report ---\")\n",
        "#     # Ensure both lists are of the same length\n",
        "#     if len(all_true_labels) == len(all_predicted_labels):\n",
        "#         print(classification_report(all_true_labels, all_predicted_labels, zero_division=0))\n",
        "#     else:\n",
        "#         print(\"Error: Mismatch in the number of true labels and predicted labels.\")\n",
        "# else:\n",
        "#     print(\"\\nNo data collected to generate a classification report.\") too\n",
        "\n",
        "from sklearn.metrics import confusion_matrix\n",
        "import seaborn as sns\n",
        "import matplotlib.pyplot as plt\n",
        "\n",
        "# Generate the confusion matrix\n",
        "# Ensure the unique labels are consistent across true and predicted lists\n",
        "unique_labels = sorted(list(set(all_true_labels + all_predicted_labels)))\n",
        "\n",
        "if all_true_labels and all_predicted_labels and len(all_true_labels) == len(all_predicted_labels):\n",
        "    cm = confusion_matrix(all_true_labels, all_predicted_labels, labels=unique_labels)\n",
        "\n",
        "    print(\"\\n--- Confusion Matrix ---\")\n",
        "    print(cm)\n",
        "\n",
        "    # Optional: Visualize the confusion matrix using seaborn and matplotlib\n",
        "    plt.figure(figsize=(10, 8))\n",
        "    sns.heatmap(cm, annot=True, fmt='d', cmap='Blues', xticklabels=unique_labels, yticklabels=unique_labels)\n",
        "    plt.xlabel('Predicted Label')\n",
        "    plt.ylabel('True Label')\n",
        "    plt.title('Confusion Matrix')\n",
        "    plt.show()\n",
        "else:\n",
        "    print(\"\\nCannot generate Confusion Matrix: Mismatch in the number of true labels and predicted labels or no data collected.\")\n"
      ],
      "metadata": {
        "id": "7M3gBxr13s1W",
        "colab": {
          "base_uri": "https://localhost:8080/",
          "height": 787
        },
        "outputId": "4e4ebdef-ee84-4a9a-c2cc-d10d1dbfc8fc"
      },
      "execution_count": 33,
      "outputs": [
        {
          "output_type": "stream",
          "name": "stdout",
          "text": [
            "\n",
            "--- Confusion Matrix ---\n",
            "[[     0      0]\n",
            " [380779   8000]]\n"
          ]
        },
        {
          "output_type": "display_data",
          "data": {
            "text/plain": [
              "<Figure size 1000x800 with 2 Axes>"
            ],
            "image/png": "[encoded data removed]"
          },
          "metadata": {}
        }
      ]
    },
    {
      "cell_type": "markdown",
      "source": [
        "# Additional"
      ],
      "metadata": {
        "id": "thSpiNCNb0tR"
      }
    },
    {
      "cell_type": "code",
      "source": [
        "# prompt: print confsion matrix of each pcap file instead possible?\n",
        "# # prompt: do confusion matrix of the from sklearn.metrics import classification_report\n",
        "# # all_true_labels = []\n",
        "# # all_predicted_labels = []\n",
        "# # for attack in attacks:\n",
        "# #     pcap_files = os.listdir(f'/content/{attack}')\n",
        "# #     for pcap_file in pcap_files:\n",
        "# #         file_name = pcap_file.split('.')[0]\n",
        "# #         prediction_file_name = f'{file_name}_prediction.csv'\n",
        "# #         prediction_file_dir = f'/content/{attack}_prediction/'\n",
        "# #         prediction_csv_path = f'{prediction_file_dir}/{prediction_file_name}'\n",
        "# #         try:\n",
        "# #             df_prediction = pd.read_csv(prediction_csv_path)\n",
        "# #             # The true label for all packets in this file is the 'attack' name\n",
        "# #             if attack != 'DoS-SlowRate':\n",
        "# #                 true_label = attack\n",
        "# #             else:\n",
        "# #                 true_label = 'DoS-Slow-Rate'\n",
        "# #             # Collect the predicted label for each packet from 'Chosen_Label'\n",
        "# #             predicted_labels = df_prediction['Chosen_Label'].tolist()\n",
        "# #             # Extend our master lists\n",
        "# #             all_true_labels.extend([true_label] * len(predicted_labels))\n",
        "# #             all_predicted_labels.extend(predicted_labels)\n",
        "# #         except FileNotFoundError:\n",
        "# #             print(f\"Prediction file not found for {pcap_file}: {prediction_csv_path}\")\n",
        "# #         except Exception as e:\n",
        "# #             print(f\"Error processing prediction file {prediction_csv_path}: {e}\")\n",
        "# # # Now, print the classification report using the collected true and predicted labels\n",
        "# # if all_true_labels and all_predicted_labels:\n",
        "# #     print(\"\\n--- Classification Report ---\")\n",
        "# #     # Ensure both lists are of the same length\n",
        "# #     if len(all_true_labels) == len(all_predicted_labels):\n",
        "# #         print(classification_report(all_true_labels, all_predicted_labels, zero_division=0))\n",
        "# #     else:\n",
        "# #         print(\"Error: Mismatch in the number of true labels and predicted labels.\")\n",
        "# # else:\n",
        "# #     print(\"\\nNo data collected to generate a classification report.\")\n",
        "\n",
        "# Print confusion matrix for each pcap file\n",
        "for attack in attacks:\n",
        "    pcap_files = os.listdir(f'/content/{attack}')\n",
        "    for pcap_file in pcap_files:\n",
        "        file_name = pcap_file.split('.')[0]\n",
        "        prediction_file_name = f'{file_name}_prediction.csv'\n",
        "        prediction_file_dir = f'/content/{attack}_prediction/'\n",
        "        prediction_csv_path = f'{prediction_file_dir}/{prediction_file_name}'\n",
        "\n",
        "        try:\n",
        "            df_prediction = pd.read_csv(prediction_csv_path)\n",
        "\n",
        "            # Determine the true label for this file\n",
        "            if attack != 'DoS-SlowRate':\n",
        "                true_label = attack\n",
        "            else:\n",
        "                true_label = 'DoS-Slow-Rate'\n",
        "\n",
        "            # Extract true and predicted labels for this specific file\n",
        "            true_labels_file = [true_label] * len(df_prediction)\n",
        "            predicted_labels_file = df_prediction['Chosen_Label'].tolist()\n",
        "\n",
        "            print(f\"\\n--- Confusion Matrix for {pcap_file} ---\")\n",
        "\n",
        "            if true_labels_file and predicted_labels_file and len(true_labels_file) == len(predicted_labels_file):\n",
        "                # Get all unique labels present in both true and predicted lists for this file\n",
        "                unique_labels_file = sorted(list(set(true_labels_file + predicted_labels_file)))\n",
        "\n",
        "                # Generate confusion matrix for this file\n",
        "                cm_file = confusion_matrix(true_labels_file, predicted_labels_file, labels=unique_labels_file)\n",
        "                print(cm_file)\n",
        "\n",
        "                # Optional: Visualize the confusion matrix for this file\n",
        "                plt.figure(figsize=(6, 5))\n",
        "                sns.heatmap(cm_file, annot=True, fmt='d', cmap='Blues', xticklabels=unique_labels_file, yticklabels=unique_labels_file)\n",
        "                plt.xlabel('Predicted Label')\n",
        "                plt.ylabel('True Label')\n",
        "                plt.title(f'Confusion Matrix for {pcap_file}')\n",
        "                plt.show()\n",
        "            else:\n",
        "                print(f\"No valid data to generate confusion matrix for {pcap_file}.\")\n",
        "\n",
        "        except FileNotFoundError:\n",
        "            print(f\"\\nPrediction file not found for {pcap_file}: {prediction_csv_path}\")\n",
        "        except Exception as e:\n",
        "            print(f\"\\nError processing prediction file {prediction_csv_path}: {e}\")\n",
        "\n"
      ],
      "metadata": {
        "colab": {
          "base_uri": "https://localhost:8080/",
          "height": 1000
        },
        "id": "1XWcQAeEbSiW",
        "outputId": "927f593d-0d7f-4dc0-fa61-a73139efaffa"
      },
      "execution_count": 34,
      "outputs": [
        {
          "output_type": "stream",
          "name": "stdout",
          "text": [
            "\n",
            "--- Confusion Matrix for slowread_1.pcap ---\n",
            "[[     0      0]\n",
            " [189494      0]]\n"
          ]
        },
        {
          "output_type": "display_data",
          "data": {
            "text/plain": [
              "<Figure size 600x500 with 2 Axes>"
            ],
            "image/png": "[encoded data removed]"
          },
          "metadata": {}
        },
        {
          "output_type": "stream",
          "name": "stdout",
          "text": [
            "\n",
            "--- Confusion Matrix for http_slowloris.pcap ---\n",
            "[[   0    0]\n",
            " [   1 8000]]\n"
          ]
        },
        {
          "output_type": "display_data",
          "data": {
            "text/plain": [
              "<Figure size 600x500 with 2 Axes>"
            ],
            "image/png": "[encoded data removed]"
          },
          "metadata": {}
        },
        {
          "output_type": "stream",
          "name": "stdout",
          "text": [
            "\n",
            "--- Confusion Matrix for slowread_2.pcap ---\n",
            "[[     0      0]\n",
            " [191284      0]]\n"
          ]
        },
        {
          "output_type": "display_data",
          "data": {
            "text/plain": [
              "<Figure size 600x500 with 2 Axes>"
            ],
            "image/png": "[encoded data removed]"
          },
          "metadata": {}
        }
      ]
    },
    {
      "cell_type": "code",
      "source": [
        "# prompt: print every result as dataframe display\n",
        "\n",
        "from IPython.display import display\n",
        "\n",
        "for attack in attacks:\n",
        "    result_csv_path = f'/content/Result/{attack}_result.csv'\n",
        "    if os.path.exists(result_csv_path):\n",
        "        df_result = pd.read_csv(result_csv_path)\n",
        "        print(f\"\\n--- Results for {attack} ---\")\n",
        "        print(df_result)\n",
        "    else:\n",
        "        print(f\"\\nNo result file found for {attack}.\")\n",
        "    print(\"-\" * 40)"
      ],
      "metadata": {
        "colab": {
          "base_uri": "https://localhost:8080/"
        },
        "id": "uK35vH66bBTe",
        "outputId": "7adf50c9-c019-4da0-fd6d-6a33ab70d797"
      },
      "execution_count": 35,
      "outputs": [
        {
          "output_type": "stream",
          "name": "stdout",
          "text": [
            "\n",
            "--- Results for DoS-Slow-Rate ---\n",
            "             File_Name         Result         Attack\n",
            "0      slowread_1.pcap         Benign  DoS-Slow-Rate\n",
            "1  http_slowloris.pcap  DoS-Slow-Rate  DoS-Slow-Rate\n",
            "2      slowread_2.pcap         Benign  DoS-Slow-Rate\n",
            "----------------------------------------\n"
          ]
        }
      ]
    }
  ]
}