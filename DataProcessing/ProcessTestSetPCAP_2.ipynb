{
  "nbformat": 4,
  "nbformat_minor": 0,
  "metadata": {
    "colab": {
      "provenance": [],
      "authorship_tag": "ABX9TyMuBvkvNdVWUtG9dTUqz9pM",
      "include_colab_link": true
    },
    "kernelspec": {
      "name": "python3",
      "display_name": "Python 3"
    },
    "language_info": {
      "name": "python"
    }
  },
  "cells": [
    {
      "cell_type": "markdown",
      "metadata": {
        "id": "view-in-github",
        "colab_type": "text"
      },
      "source": [
        "<a href=\"https://colab.research.google.com/github/Mc4minta/AIB5-PcapAttackClassifier/blob/main/DataProcessing/ProcessTestSetPCAP-2.ipynb\" target=\"_parent\"><img src=\"https://colab.research.google.com/assets/colab-badge.svg\" alt=\"Open In Colab\"/></a>"
      ]
    },
    {
      "cell_type": "code",
      "execution_count": 1,
      "metadata": {
        "colab": {
          "base_uri": "https://localhost:8080/"
        },
        "id": "9MUsincNHQcl",
        "outputId": "db16b477-c857-4ed8-9a92-b89de93d0f65"
      },
      "outputs": [
        {
          "output_type": "stream",
          "name": "stdout",
          "text": [
            "Mounted at /content/drive\n"
          ]
        }
      ],
      "source": [
        "from google.colab import drive\n",
        "drive.mount('/content/drive')"
      ]
    },
    {
      "cell_type": "markdown",
      "source": [
        "all dos2, benign2 >> .csv"
      ],
      "metadata": {
        "id": "xS2K7o-O1c1u"
      }
    },
    {
      "cell_type": "markdown",
      "source": [
        "# ⏲ CICFLOWMETER v.3"
      ],
      "metadata": {
        "id": "nW0RhNABnolD"
      }
    },
    {
      "cell_type": "code",
      "source": [
        "!sudo apt-get install libpcap-dev # install libpcap-dev\n",
        "!wget https://codeberg.org/iortega/TCPDUMP_and_CICFlowMeter/archive/master:CICFlowMeters/CICFlowMeter-3.0.zip # download CICFlowMeter3.0.zip\n",
        "!unzip CICFlowMeter-3.0.zip -d CICFlowMeter-3.0 # Extract CICFlowMeter3.0.zip"
      ],
      "metadata": {
        "colab": {
          "base_uri": "https://localhost:8080/"
        },
        "collapsed": true,
        "id": "yr_nV0XEnTDq",
        "outputId": "223273e4-a48b-46d0-e42d-3cb1a7cfa782"
      },
      "execution_count": 2,
      "outputs": [
        {
          "output_type": "stream",
          "name": "stdout",
          "text": [
            "Reading package lists... Done\n",
            "Building dependency tree... Done\n",
            "Reading state information... Done\n",
            "The following additional packages will be installed:\n",
            "  libdbus-1-dev libpcap0.8 libpcap0.8-dev\n",
            "The following NEW packages will be installed:\n",
            "  libdbus-1-dev libpcap-dev libpcap0.8 libpcap0.8-dev\n",
            "0 upgraded, 4 newly installed, 0 to remove and 35 not upgraded.\n",
            "Need to get 607 kB of archives.\n",
            "After this operation, 2,238 kB of additional disk space will be used.\n",
            "Get:1 http://archive.ubuntu.com/ubuntu jammy-updates/main amd64 libpcap0.8 amd64 1.10.1-4ubuntu1.22.04.1 [145 kB]\n",
            "Get:2 http://archive.ubuntu.com/ubuntu jammy-updates/main amd64 libdbus-1-dev amd64 1.12.20-2ubuntu4.1 [188 kB]\n",
            "Get:3 http://archive.ubuntu.com/ubuntu jammy-updates/main amd64 libpcap0.8-dev amd64 1.10.1-4ubuntu1.22.04.1 [270 kB]\n",
            "Get:4 http://archive.ubuntu.com/ubuntu jammy-updates/main amd64 libpcap-dev amd64 1.10.1-4ubuntu1.22.04.1 [3,326 B]\n",
            "Fetched 607 kB in 2s (322 kB/s)\n",
            "debconf: unable to initialize frontend: Dialog\n",
            "debconf: (No usable dialog-like program is installed, so the dialog based frontend cannot be used. at /usr/share/perl5/Debconf/FrontEnd/Dialog.pm line 78, <> line 4.)\n",
            "debconf: falling back to frontend: Readline\n",
            "debconf: unable to initialize frontend: Readline\n",
            "debconf: (This frontend requires a controlling tty.)\n",
            "debconf: falling back to frontend: Teletype\n",
            "dpkg-preconfigure: unable to re-open stdin: \n",
            "Selecting previously unselected package libpcap0.8:amd64.\n",
            "(Reading database ... 126109 files and directories currently installed.)\n",
            "Preparing to unpack .../libpcap0.8_1.10.1-4ubuntu1.22.04.1_amd64.deb ...\n",
            "Unpacking libpcap0.8:amd64 (1.10.1-4ubuntu1.22.04.1) ...\n",
            "Selecting previously unselected package libdbus-1-dev:amd64.\n",
            "Preparing to unpack .../libdbus-1-dev_1.12.20-2ubuntu4.1_amd64.deb ...\n",
            "Unpacking libdbus-1-dev:amd64 (1.12.20-2ubuntu4.1) ...\n",
            "Selecting previously unselected package libpcap0.8-dev:amd64.\n",
            "Preparing to unpack .../libpcap0.8-dev_1.10.1-4ubuntu1.22.04.1_amd64.deb ...\n",
            "Unpacking libpcap0.8-dev:amd64 (1.10.1-4ubuntu1.22.04.1) ...\n",
            "Selecting previously unselected package libpcap-dev:amd64.\n",
            "Preparing to unpack .../libpcap-dev_1.10.1-4ubuntu1.22.04.1_amd64.deb ...\n",
            "Unpacking libpcap-dev:amd64 (1.10.1-4ubuntu1.22.04.1) ...\n",
            "Setting up libpcap0.8:amd64 (1.10.1-4ubuntu1.22.04.1) ...\n",
            "Setting up libdbus-1-dev:amd64 (1.12.20-2ubuntu4.1) ...\n",
            "Setting up libpcap0.8-dev:amd64 (1.10.1-4ubuntu1.22.04.1) ...\n",
            "Setting up libpcap-dev:amd64 (1.10.1-4ubuntu1.22.04.1) ...\n",
            "Processing triggers for man-db (2.10.2-1) ...\n",
            "Processing triggers for libc-bin (2.35-0ubuntu3.8) ...\n",
            "/sbin/ldconfig.real: /usr/local/lib/libtbbmalloc_proxy.so.2 is not a symbolic link\n",
            "\n",
            "/sbin/ldconfig.real: /usr/local/lib/libtcm.so.1 is not a symbolic link\n",
            "\n",
            "/sbin/ldconfig.real: /usr/local/lib/libtbbmalloc.so.2 is not a symbolic link\n",
            "\n",
            "/sbin/ldconfig.real: /usr/local/lib/libtbbbind.so.3 is not a symbolic link\n",
            "\n",
            "/sbin/ldconfig.real: /usr/local/lib/libtcm_debug.so.1 is not a symbolic link\n",
            "\n",
            "/sbin/ldconfig.real: /usr/local/lib/libumf.so.0 is not a symbolic link\n",
            "\n",
            "/sbin/ldconfig.real: /usr/local/lib/libur_adapter_level_zero.so.0 is not a symbolic link\n",
            "\n",
            "/sbin/ldconfig.real: /usr/local/lib/libhwloc.so.15 is not a symbolic link\n",
            "\n",
            "/sbin/ldconfig.real: /usr/local/lib/libur_loader.so.0 is not a symbolic link\n",
            "\n",
            "/sbin/ldconfig.real: /usr/local/lib/libur_adapter_opencl.so.0 is not a symbolic link\n",
            "\n",
            "/sbin/ldconfig.real: /usr/local/lib/libtbbbind_2_0.so.3 is not a symbolic link\n",
            "\n",
            "/sbin/ldconfig.real: /usr/local/lib/libtbbbind_2_5.so.3 is not a symbolic link\n",
            "\n",
            "/sbin/ldconfig.real: /usr/local/lib/libtbb.so.12 is not a symbolic link\n",
            "\n",
            "--2025-06-03 07:13:49--  https://codeberg.org/iortega/TCPDUMP_and_CICFlowMeter/archive/master:CICFlowMeters/CICFlowMeter-3.0.zip\n",
            "Resolving codeberg.org (codeberg.org)... 217.197.84.140, 2a0a:4580:103f:c0de::1\n",
            "Connecting to codeberg.org (codeberg.org)|217.197.84.140|:443... connected.\n",
            "HTTP request sent, awaiting response... 200 OK\n",
            "Length: 15039922 (14M) [application/octet-stream]\n",
            "Saving to: ‘CICFlowMeter-3.0.zip’\n",
            "\n",
            "CICFlowMeter-3.0.zi 100%[===================>]  14.34M  5.68MB/s    in 2.5s    \n",
            "\n",
            "2025-06-03 07:13:53 (5.68 MB/s) - ‘CICFlowMeter-3.0.zip’ saved [15039922/15039922]\n",
            "\n",
            "Archive:  CICFlowMeter-3.0.zip\n",
            "   creating: CICFlowMeter-3.0/tcpdump_and_cicflowmeter/\n",
            "  inflating: CICFlowMeter-3.0/tcpdump_and_cicflowmeter/LICENSE.txt  \n",
            "  inflating: CICFlowMeter-3.0/tcpdump_and_cicflowmeter/README.md  \n",
            "   creating: CICFlowMeter-3.0/tcpdump_and_cicflowmeter/bin/\n",
            "  inflating: CICFlowMeter-3.0/tcpdump_and_cicflowmeter/bin/CICFlowMeter  \n",
            "  inflating: CICFlowMeter-3.0/tcpdump_and_cicflowmeter/bin/CICFlowMeter.bat  \n",
            "   creating: CICFlowMeter-3.0/tcpdump_and_cicflowmeter/lib/\n",
            "  inflating: CICFlowMeter-3.0/tcpdump_and_cicflowmeter/lib/CICFlowMeter-3.0.jar  \n",
            "  inflating: CICFlowMeter-3.0/tcpdump_and_cicflowmeter/lib/animal-sniffer-annotations-1.14.jar  \n",
            "  inflating: CICFlowMeter-3.0/tcpdump_and_cicflowmeter/lib/checker-compat-qual-2.0.0.jar  \n",
            "  inflating: CICFlowMeter-3.0/tcpdump_and_cicflowmeter/lib/commons-io-2.5.jar  \n",
            "  inflating: CICFlowMeter-3.0/tcpdump_and_cicflowmeter/lib/commons-lang3-3.6.jar  \n",
            "  inflating: CICFlowMeter-3.0/tcpdump_and_cicflowmeter/lib/commons-math3-3.5.jar  \n",
            "  inflating: CICFlowMeter-3.0/tcpdump_and_cicflowmeter/lib/error_prone_annotations-2.1.3.jar  \n",
            "  inflating: CICFlowMeter-3.0/tcpdump_and_cicflowmeter/lib/guava-23.6-jre.jar  \n",
            "  inflating: CICFlowMeter-3.0/tcpdump_and_cicflowmeter/lib/hamcrest-core-1.3.jar  \n",
            "  inflating: CICFlowMeter-3.0/tcpdump_and_cicflowmeter/lib/j2objc-annotations-1.1.jar  \n",
            "  inflating: CICFlowMeter-3.0/tcpdump_and_cicflowmeter/lib/java-cup-0.11a.jar  \n",
            "  inflating: CICFlowMeter-3.0/tcpdump_and_cicflowmeter/lib/jfreechart-1.5.0.jar  \n",
            "  inflating: CICFlowMeter-3.0/tcpdump_and_cicflowmeter/lib/jnetpcap-1.4.r1425-1g.jar  \n",
            "  inflating: CICFlowMeter-3.0/tcpdump_and_cicflowmeter/lib/jsr305-1.3.9.jar  \n",
            "  inflating: CICFlowMeter-3.0/tcpdump_and_cicflowmeter/lib/junit-4.12.jar  \n",
            "  inflating: CICFlowMeter-3.0/tcpdump_and_cicflowmeter/lib/log4j-1.2.17.jar  \n",
            "   creating: CICFlowMeter-3.0/tcpdump_and_cicflowmeter/lib/native/\n",
            "  inflating: CICFlowMeter-3.0/tcpdump_and_cicflowmeter/lib/native/jnetpcap-pcap100.dll  \n",
            "  inflating: CICFlowMeter-3.0/tcpdump_and_cicflowmeter/lib/native/jnetpcap.dll  \n",
            "  inflating: CICFlowMeter-3.0/tcpdump_and_cicflowmeter/lib/native/libjnetpcap-pcap100.so  \n",
            "  inflating: CICFlowMeter-3.0/tcpdump_and_cicflowmeter/lib/native/libjnetpcap.so  \n",
            "  inflating: CICFlowMeter-3.0/tcpdump_and_cicflowmeter/lib/slf4j-api-1.7.25.jar  \n",
            "  inflating: CICFlowMeter-3.0/tcpdump_and_cicflowmeter/lib/slf4j-log4j12-1.7.25.jar  \n",
            "  inflating: CICFlowMeter-3.0/tcpdump_and_cicflowmeter/lib/tika-core-1.17.jar  \n",
            "  inflating: CICFlowMeter-3.0/tcpdump_and_cicflowmeter/lib/weka-stable-3.6.14.jar  \n"
          ]
        }
      ]
    },
    {
      "cell_type": "code",
      "metadata": {
        "colab": {
          "base_uri": "https://localhost:8080/"
        },
        "id": "af5a557d",
        "outputId": "43807a38-ebe6-4c9a-9d69-e65a55f7f321"
      },
      "source": [
        "import os\n",
        "\n",
        "# Define the directory paths\n",
        "in_directory = 'data/in'\n",
        "out_directory = 'data/out'\n",
        "\n",
        "# Create the directories if they don't exist\n",
        "os.makedirs(in_directory, exist_ok=True)\n",
        "os.makedirs(out_directory, exist_ok=True)\n",
        "\n",
        "print(f\"Directories '{in_directory}' and '{out_directory}' created (if they didn't exist).\")"
      ],
      "execution_count": 3,
      "outputs": [
        {
          "output_type": "stream",
          "name": "stdout",
          "text": [
            "Directories 'data/in' and 'data/out' created (if they didn't exist).\n"
          ]
        }
      ]
    },
    {
      "cell_type": "markdown",
      "source": [
        "# ✅ Benign2 - GET PCAP FILES"
      ],
      "metadata": {
        "id": "CmV1c39QnUV4"
      }
    },
    {
      "cell_type": "code",
      "metadata": {
        "colab": {
          "base_uri": "https://localhost:8080/"
        },
        "id": "96b5d445",
        "outputId": "e0c2e364-1e8e-4b21-e837-5431c7aaa6e8"
      },
      "source": [
        "import os\n",
        "directory_path = '/content/drive/MyDrive/Share to Mc4/AIBuilders5-MiN/TestsetForBaseline'\n",
        "\n",
        "# Check if the directory exists before listing its contents\n",
        "if os.path.exists(directory_path):\n",
        "  # List the contents of the directory\n",
        "  contents = os.listdir(directory_path)\n",
        "\n",
        "  # Print the contents\n",
        "  for item in contents:\n",
        "    print(item)\n",
        "else:\n",
        "  print(f\"Directory not found: {directory_path}\")"
      ],
      "execution_count": null,
      "outputs": [
        {
          "output_type": "stream",
          "name": "stdout",
          "text": [
            "DoS.zip\n",
            "DDoS.zip\n",
            "PortScan.zip\n",
            "Benign.zip\n",
            "FTPBruteforce.zip\n",
            "SSHBruteforce.zip\n",
            "DoS-HTTP-Flood.zip\n",
            "DoS-SlowRate.zip\n",
            "Benign2.zip\n",
            "DoS-overall.zip\n",
            "DoS-Layer3and4.zip\n"
          ]
        }
      ]
    },
    {
      "cell_type": "code",
      "metadata": {
        "colab": {
          "base_uri": "https://localhost:8080/"
        },
        "id": "d7b1dacb",
        "outputId": "bb81b2aa-bfb4-4a09-c176-1bca13ab1533"
      },
      "source": [
        "import zipfile\n",
        "import os\n",
        "\n",
        "zip_file_path = '/content/drive/MyDrive/Share to Mc4/AIBuilders5-MiN/TestsetForBaseline/Benign2.zip'\n",
        "destination_directory = '/content/'\n",
        "\n",
        "# Unzip the file\n",
        "try:\n",
        "    with zipfile.ZipFile(zip_file_path, 'r') as zip_ref:\n",
        "        zip_ref.extractall(destination_directory)\n",
        "    print(f\"'{zip_file_path}' unzipped to '{destination_directory}'.\")\n",
        "except FileNotFoundError:\n",
        "    print(f\"Error: Zip file not found at '{zip_file_path}'\")\n",
        "except zipfile.BadZipFile:\n",
        "    print(f\"Error: '{zip_file_path}' is not a valid zip file.\")\n",
        "except Exception as e:\n",
        "    print(f\"An error occurred: {e}\")"
      ],
      "execution_count": null,
      "outputs": [
        {
          "output_type": "stream",
          "name": "stdout",
          "text": [
            "'/content/drive/MyDrive/Share to Mc4/AIBuilders5-MiN/TestsetForBaseline/Benign2.zip' unzipped to '/content/'.\n"
          ]
        }
      ]
    },
    {
      "cell_type": "markdown",
      "source": [
        "# ✅ Benign2 - Convert to .csv"
      ],
      "metadata": {
        "id": "0vJDU29IvE2y"
      }
    },
    {
      "cell_type": "code",
      "metadata": {
        "colab": {
          "base_uri": "https://localhost:8080/"
        },
        "id": "2a2e7d3b",
        "outputId": "68a0204f-1c10-4046-9e48-411d9f748dac"
      },
      "source": [
        "import os\n",
        "\n",
        "dos_directory = 'Benign2'\n",
        "pcap_files = [f for f in os.listdir(dos_directory) if f.endswith('.pcap')]\n",
        "\n",
        "if pcap_files:\n",
        "    print(f\"Found {len(pcap_files)} .pcap files in '{dos_directory}':\")\n",
        "    for pcap_file in pcap_files:\n",
        "        print(pcap_file)\n",
        "else:\n",
        "    print(f\"No .pcap files found in '{dos_directory}'.\")"
      ],
      "execution_count": null,
      "outputs": [
        {
          "output_type": "stream",
          "name": "stdout",
          "text": [
            "Found 8 .pcap files in 'Benign2':\n",
            "client_normal_3_210111.pcap\n",
            "client_normal_1_210110.pcap\n",
            "IPinterface_112020_pyCliSer_300.pcap\n",
            "IPinterface_112020_pyCliSer_50.pcap\n",
            "IPinterface_112020_pyCliSer_100.pcap\n",
            "IPinterface_112020_pyCliSer_200.pcap\n",
            "client_normal_2_210111.pcap\n",
            "IPinterface_112020_pyCliSer_25.pcap\n"
          ]
        }
      ]
    },
    {
      "cell_type": "code",
      "metadata": {
        "colab": {
          "base_uri": "https://localhost:8080/"
        },
        "id": "2df2800f",
        "outputId": "983e17da-31fc-4bee-df8f-01f85de75ec6"
      },
      "source": [
        "import os\n",
        "import shutil\n",
        "import subprocess\n",
        "\n",
        "# Define the attack type directory (change this variable for different attack types)\n",
        "attack_type = 'Benign2' # You can change this to 'DDoS', 'PortScan', etc.\n",
        "\n",
        "attack_directory = attack_type\n",
        "data_in_directory = 'data/in'\n",
        "data_out_directory = 'data/out'\n",
        "csv_destination_directory = f'{attack_type}_csv'  # Directory for CSV files based on attack type\n",
        "cicflowmeter_command = './CICFlowMeter-3.0/tcpdump_and_cicflowmeter/bin/CICFlowMeter'\n",
        "\n",
        "# Create the CSV destination directory if it doesn't exist\n",
        "os.makedirs(csv_destination_directory, exist_ok=True)\n",
        "print(f\"Directory '{csv_destination_directory}' created (if it didn't exist).\")\n",
        "\n",
        "# Ensure the attack directory exists\n",
        "if not os.path.exists(attack_directory):\n",
        "    print(f\"Error: Attack directory '{attack_directory}' not found.\")\n",
        "else:\n",
        "    # Get the list of pcap files in the attack directory\n",
        "    pcap_files = [f for f in os.listdir(attack_directory) if f.endswith('.pcap')]\n",
        "\n",
        "    if pcap_files:\n",
        "        print(f\"Processing {len(pcap_files)} .pcap files in '{attack_directory}'...\")\n",
        "        for pcap_file in pcap_files:\n",
        "            source_path = os.path.join(attack_directory, pcap_file)\n",
        "            dest_in_path = os.path.join(data_in_directory, pcap_file)\n",
        "\n",
        "            print(f\"\\nProcessing: {pcap_file}\")\n",
        "\n",
        "            # Step 2a: Move to data/in\n",
        "            print(f\"Moving '{pcap_file}' to '{data_in_directory}'...\")\n",
        "            shutil.move(source_path, data_in_directory)\n",
        "\n",
        "            # Step 2b: Run CICFlowMeter\n",
        "            print(\"Running CICFlowMeter...\")\n",
        "            try:\n",
        "                # The CICFlowMeter command expects the input directory to be 'data/in' and outputs to 'data/out'\n",
        "                subprocess.run([cicflowmeter_command], check=True, capture_output=True, text=True)\n",
        "                print(\"CICFlowMeter finished successfully.\")\n",
        "            except subprocess.CalledProcessError as e:\n",
        "                print(f\"Error running CICFlowMeter: {e}\")\n",
        "                print(f\"Stdout: {e.stdout}\")\n",
        "                print(f\"Stderr: {e.stderr}\")\n",
        "                # Move the file back even if there was an error\n",
        "                print(f\"Moving '{pcap_file}' back to '{attack_directory}' due to error.\")\n",
        "                shutil.move(dest_in_path, attack_directory)\n",
        "                continue # Move to the next file\n",
        "\n",
        "            # Step 2c: Move results - Move CSV to DoS_csv and original pcap back to DoS\n",
        "            print(f\"Moving results from '{data_out_directory}' to '{csv_destination_directory}' and original pcap back to '{attack_directory}'...\")\n",
        "            output_files = os.listdir(data_out_directory)\n",
        "            for output_file in output_files:\n",
        "                # Check if the file is a CSV file generated by CICFlowMeter\n",
        "                if output_file.endswith('_ISCX.csv'):\n",
        "                    source_out_path = os.path.join(data_out_directory, output_file)\n",
        "                    dest_csv_path = os.path.join(csv_destination_directory, output_file)\n",
        "                    shutil.move(source_out_path, dest_csv_path)\n",
        "                    print(f\"Moved '{output_file}' to '{csv_destination_directory}'.\")\n",
        "\n",
        "            # Move the original pcap file back to the attack directory\n",
        "            # We need to find the file in data/in after processing.\n",
        "            # Assuming only one pcap file is in data/in at a time during the loop.\n",
        "            processed_pcap_files_in_in = os.listdir(data_in_directory)\n",
        "            for processed_pcap_file in processed_pcap_files_in_in:\n",
        "                 if processed_pcap_file.endswith('.pcap'):\n",
        "                    processed_in_path = os.path.join(data_in_directory, processed_pcap_file)\n",
        "                    original_source_path = os.path.join(attack_directory, processed_pcap_file) # Construct original path\n",
        "                    shutil.move(processed_in_path, original_source_path) # Move from data/in back to original location\n",
        "                    print(f\"Moved '{processed_pcap_file}' back to '{attack_directory}'.\")\n",
        "\n",
        "\n",
        "            # Step 2d: Clean up data/in and data/out\n",
        "            print(\"Cleaning up temporary directories...\")\n",
        "            # Clean up any remaining files in data/out (should have been moved, but just in case)\n",
        "            remaining_out_files = os.listdir(data_out_directory)\n",
        "            for file in remaining_out_files:\n",
        "                 os.remove(os.path.join(data_out_directory, file))\n",
        "\n",
        "            print(\"Cleanup complete.\")\n",
        "\n",
        "\n",
        "        print(f\"\\nFinished processing all .pcap files in the '{attack_directory}' folder.\")\n",
        "\n",
        "    else:\n",
        "        print(f\"No .pcap files found in '{attack_directory}' to process.\")"
      ],
      "execution_count": null,
      "outputs": [
        {
          "output_type": "stream",
          "name": "stdout",
          "text": [
            "Directory 'Benign2_csv' created (if it didn't exist).\n",
            "Processing 8 .pcap files in 'Benign2'...\n",
            "\n",
            "Processing: client_normal_3_210111.pcap\n",
            "Moving 'client_normal_3_210111.pcap' to 'data/in'...\n",
            "Running CICFlowMeter...\n",
            "CICFlowMeter finished successfully.\n",
            "Moving results from 'data/out' to 'Benign2_csv' and original pcap back to 'Benign2'...\n",
            "Moved 'client_normal_3_210111_ISCX.csv' to 'Benign2_csv'.\n",
            "Moved 'client_normal_3_210111.pcap' back to 'Benign2'.\n",
            "Cleaning up temporary directories...\n",
            "Cleanup complete.\n",
            "\n",
            "Processing: client_normal_1_210110.pcap\n",
            "Moving 'client_normal_1_210110.pcap' to 'data/in'...\n",
            "Running CICFlowMeter...\n",
            "CICFlowMeter finished successfully.\n",
            "Moving results from 'data/out' to 'Benign2_csv' and original pcap back to 'Benign2'...\n",
            "Moved 'client_normal_1_210110_ISCX.csv' to 'Benign2_csv'.\n",
            "Moved 'client_normal_1_210110.pcap' back to 'Benign2'.\n",
            "Cleaning up temporary directories...\n",
            "Cleanup complete.\n",
            "\n",
            "Processing: IPinterface_112020_pyCliSer_300.pcap\n",
            "Moving 'IPinterface_112020_pyCliSer_300.pcap' to 'data/in'...\n",
            "Running CICFlowMeter...\n",
            "CICFlowMeter finished successfully.\n",
            "Moving results from 'data/out' to 'Benign2_csv' and original pcap back to 'Benign2'...\n",
            "Moved 'IPinterface_112020_pyCliSer_300_ISCX.csv' to 'Benign2_csv'.\n",
            "Moved 'IPinterface_112020_pyCliSer_300.pcap' back to 'Benign2'.\n",
            "Cleaning up temporary directories...\n",
            "Cleanup complete.\n",
            "\n",
            "Processing: IPinterface_112020_pyCliSer_50.pcap\n",
            "Moving 'IPinterface_112020_pyCliSer_50.pcap' to 'data/in'...\n",
            "Running CICFlowMeter...\n",
            "CICFlowMeter finished successfully.\n",
            "Moving results from 'data/out' to 'Benign2_csv' and original pcap back to 'Benign2'...\n",
            "Moved 'IPinterface_112020_pyCliSer_50_ISCX.csv' to 'Benign2_csv'.\n",
            "Moved 'IPinterface_112020_pyCliSer_50.pcap' back to 'Benign2'.\n",
            "Cleaning up temporary directories...\n",
            "Cleanup complete.\n",
            "\n",
            "Processing: IPinterface_112020_pyCliSer_100.pcap\n",
            "Moving 'IPinterface_112020_pyCliSer_100.pcap' to 'data/in'...\n",
            "Running CICFlowMeter...\n",
            "CICFlowMeter finished successfully.\n",
            "Moving results from 'data/out' to 'Benign2_csv' and original pcap back to 'Benign2'...\n",
            "Moved 'IPinterface_112020_pyCliSer_100_ISCX.csv' to 'Benign2_csv'.\n",
            "Moved 'IPinterface_112020_pyCliSer_100.pcap' back to 'Benign2'.\n",
            "Cleaning up temporary directories...\n",
            "Cleanup complete.\n",
            "\n",
            "Processing: IPinterface_112020_pyCliSer_200.pcap\n",
            "Moving 'IPinterface_112020_pyCliSer_200.pcap' to 'data/in'...\n",
            "Running CICFlowMeter...\n",
            "CICFlowMeter finished successfully.\n",
            "Moving results from 'data/out' to 'Benign2_csv' and original pcap back to 'Benign2'...\n",
            "Moved 'IPinterface_112020_pyCliSer_200_ISCX.csv' to 'Benign2_csv'.\n",
            "Moved 'IPinterface_112020_pyCliSer_200.pcap' back to 'Benign2'.\n",
            "Cleaning up temporary directories...\n",
            "Cleanup complete.\n",
            "\n",
            "Processing: client_normal_2_210111.pcap\n",
            "Moving 'client_normal_2_210111.pcap' to 'data/in'...\n",
            "Running CICFlowMeter...\n",
            "CICFlowMeter finished successfully.\n",
            "Moving results from 'data/out' to 'Benign2_csv' and original pcap back to 'Benign2'...\n",
            "Moved 'client_normal_2_210111_ISCX.csv' to 'Benign2_csv'.\n",
            "Moved 'client_normal_2_210111.pcap' back to 'Benign2'.\n",
            "Cleaning up temporary directories...\n",
            "Cleanup complete.\n",
            "\n",
            "Processing: IPinterface_112020_pyCliSer_25.pcap\n",
            "Moving 'IPinterface_112020_pyCliSer_25.pcap' to 'data/in'...\n",
            "Running CICFlowMeter...\n",
            "CICFlowMeter finished successfully.\n",
            "Moving results from 'data/out' to 'Benign2_csv' and original pcap back to 'Benign2'...\n",
            "Moved 'IPinterface_112020_pyCliSer_25_ISCX.csv' to 'Benign2_csv'.\n",
            "Moved 'IPinterface_112020_pyCliSer_25.pcap' back to 'Benign2'.\n",
            "Cleaning up temporary directories...\n",
            "Cleanup complete.\n",
            "\n",
            "Finished processing all .pcap files in the 'Benign2' folder.\n"
          ]
        }
      ]
    },
    {
      "cell_type": "code",
      "metadata": {
        "colab": {
          "base_uri": "https://localhost:8080/"
        },
        "id": "9ac1a5b0",
        "outputId": "f3e1365e-5cf8-4439-e6c6-f095e3eb9126"
      },
      "source": [
        "! zip -r Benign2_csv.zip Benign2_csv"
      ],
      "execution_count": null,
      "outputs": [
        {
          "output_type": "stream",
          "name": "stdout",
          "text": [
            "  adding: Benign2_csv/ (stored 0%)\n",
            "  adding: Benign2_csv/IPinterface_112020_pyCliSer_100_ISCX.csv (deflated 78%)\n",
            "  adding: Benign2_csv/client_normal_1_210110_ISCX.csv (deflated 84%)\n",
            "  adding: Benign2_csv/IPinterface_112020_pyCliSer_300_ISCX.csv (deflated 79%)\n",
            "  adding: Benign2_csv/IPinterface_112020_pyCliSer_200_ISCX.csv (deflated 79%)\n",
            "  adding: Benign2_csv/IPinterface_112020_pyCliSer_50_ISCX.csv (deflated 78%)\n",
            "  adding: Benign2_csv/client_normal_3_210111_ISCX.csv (deflated 84%)\n",
            "  adding: Benign2_csv/client_normal_2_210111_ISCX.csv (deflated 84%)\n",
            "  adding: Benign2_csv/IPinterface_112020_pyCliSer_25_ISCX.csv (deflated 78%)\n"
          ]
        }
      ]
    },
    {
      "cell_type": "markdown",
      "source": [
        "# ✅ DoS-HTTP-Flood - GET PCAP FILES"
      ],
      "metadata": {
        "id": "VWg7fWD5U4sM"
      }
    },
    {
      "cell_type": "code",
      "metadata": {
        "colab": {
          "base_uri": "https://localhost:8080/"
        },
        "outputId": "cef4fd80-d7e3-41ee-9815-ff8e96921e6d",
        "id": "lRaNQaxbU4sN"
      },
      "source": [
        "import os\n",
        "directory_path = '/content/drive/MyDrive/Share to Mc4/AIBuilders5-MiN/TestsetForBaseline'\n",
        "\n",
        "# Check if the directory exists before listing its contents\n",
        "if os.path.exists(directory_path):\n",
        "  # List the contents of the directory\n",
        "  contents = os.listdir(directory_path)\n",
        "\n",
        "  # Print the contents\n",
        "  for item in contents:\n",
        "    print(item)\n",
        "else:\n",
        "  print(f\"Directory not found: {directory_path}\")"
      ],
      "execution_count": null,
      "outputs": [
        {
          "output_type": "stream",
          "name": "stdout",
          "text": [
            "DoS.zip\n",
            "DDoS.zip\n",
            "PortScan.zip\n",
            "Benign.zip\n",
            "FTPBruteforce.zip\n",
            "SSHBruteforce.zip\n",
            "DoS-HTTP-Flood.zip\n",
            "DoS-SlowRate.zip\n",
            "Benign2.zip\n",
            "DoS-overall.zip\n",
            "DoS-Layer3and4.zip\n"
          ]
        }
      ]
    },
    {
      "cell_type": "code",
      "metadata": {
        "colab": {
          "base_uri": "https://localhost:8080/"
        },
        "outputId": "7f6d5417-91e3-4d4e-e714-dfb4a300c527",
        "id": "GtOgrYqyU4sN"
      },
      "source": [
        "import zipfile\n",
        "import os\n",
        "\n",
        "zip_file_path = '/content/drive/MyDrive/Share to Mc4/AIBuilders5-MiN/TestsetForBaseline/DoS-HTTP-Flood.zip'\n",
        "destination_directory = '/content/'\n",
        "\n",
        "# Unzip the file\n",
        "try:\n",
        "    with zipfile.ZipFile(zip_file_path, 'r') as zip_ref:\n",
        "        zip_ref.extractall(destination_directory)\n",
        "    print(f\"'{zip_file_path}' unzipped to '{destination_directory}'.\")\n",
        "except FileNotFoundError:\n",
        "    print(f\"Error: Zip file not found at '{zip_file_path}'\")\n",
        "except zipfile.BadZipFile:\n",
        "    print(f\"Error: '{zip_file_path}' is not a valid zip file.\")\n",
        "except Exception as e:\n",
        "    print(f\"An error occurred: {e}\")"
      ],
      "execution_count": null,
      "outputs": [
        {
          "output_type": "stream",
          "name": "stdout",
          "text": [
            "'/content/drive/MyDrive/Share to Mc4/AIBuilders5-MiN/TestsetForBaseline/DoS-HTTP-Flood.zip' unzipped to '/content/'.\n"
          ]
        }
      ]
    },
    {
      "cell_type": "markdown",
      "source": [
        "# ✅ DoS-HTTP-Flood - Convert to .csv"
      ],
      "metadata": {
        "id": "T-sh0O2lVEQl"
      }
    },
    {
      "cell_type": "code",
      "metadata": {
        "colab": {
          "base_uri": "https://localhost:8080/"
        },
        "outputId": "293dc4da-5a0d-44ff-9098-75d516cbcfb5",
        "id": "6XfJeiJKVEQl"
      },
      "source": [
        "import os\n",
        "\n",
        "dos_directory = 'DoS-HTTP-Flood'\n",
        "pcap_files = [f for f in os.listdir(dos_directory) if f.endswith('.pcap')]\n",
        "\n",
        "if pcap_files:\n",
        "    print(f\"Found {len(pcap_files)} .pcap files in '{dos_directory}':\")\n",
        "    for pcap_file in pcap_files:\n",
        "        print(pcap_file)\n",
        "else:\n",
        "    print(f\"No .pcap files found in '{dos_directory}'.\")"
      ],
      "execution_count": null,
      "outputs": [
        {
          "output_type": "stream",
          "name": "stdout",
          "text": [
            "Found 6 .pcap files in 'DoS-HTTP-Flood':\n",
            "hulk.pcap\n",
            "DoS-Hulk_attack.pcap\n",
            "DoS-GoldenEye_attack.pcap\n",
            "GoldenEye.pcap\n",
            "DDoS HTTP Flood Attacks.pcap\n",
            "http_dos.pcap\n"
          ]
        }
      ]
    },
    {
      "cell_type": "code",
      "metadata": {
        "colab": {
          "base_uri": "https://localhost:8080/"
        },
        "outputId": "b217e7aa-5eec-4708-f539-18ef0b77452b",
        "collapsed": true,
        "id": "DBo5m2vpVEQm"
      },
      "source": [
        "import os\n",
        "import shutil\n",
        "import subprocess\n",
        "\n",
        "# Define the attack type directory (change this variable for different attack types)\n",
        "attack_type = 'DoS-HTTP-Flood' # You can change this to 'DDoS', 'PortScan', etc.\n",
        "\n",
        "attack_directory = attack_type\n",
        "data_in_directory = 'data/in'\n",
        "data_out_directory = 'data/out'\n",
        "csv_destination_directory = f'{attack_type}_csv'  # Directory for CSV files based on attack type\n",
        "cicflowmeter_command = './CICFlowMeter-3.0/tcpdump_and_cicflowmeter/bin/CICFlowMeter'\n",
        "\n",
        "# Create the CSV destination directory if it doesn't exist\n",
        "os.makedirs(csv_destination_directory, exist_ok=True)\n",
        "print(f\"Directory '{csv_destination_directory}' created (if it didn't exist).\")\n",
        "\n",
        "# Ensure the attack directory exists\n",
        "if not os.path.exists(attack_directory):\n",
        "    print(f\"Error: Attack directory '{attack_directory}' not found.\")\n",
        "else:\n",
        "    # Get the list of pcap files in the attack directory\n",
        "    pcap_files = [f for f in os.listdir(attack_directory) if f.endswith('.pcap')]\n",
        "\n",
        "    if pcap_files:\n",
        "        print(f\"Processing {len(pcap_files)} .pcap files in '{attack_directory}'...\")\n",
        "        for pcap_file in pcap_files:\n",
        "            source_path = os.path.join(attack_directory, pcap_file)\n",
        "            dest_in_path = os.path.join(data_in_directory, pcap_file)\n",
        "\n",
        "            print(f\"\\nProcessing: {pcap_file}\")\n",
        "\n",
        "            # Step 2a: Move to data/in\n",
        "            print(f\"Moving '{pcap_file}' to '{data_in_directory}'...\")\n",
        "            shutil.move(source_path, data_in_directory)\n",
        "\n",
        "            # Step 2b: Run CICFlowMeter\n",
        "            print(\"Running CICFlowMeter...\")\n",
        "            try:\n",
        "                # The CICFlowMeter command expects the input directory to be 'data/in' and outputs to 'data/out'\n",
        "                subprocess.run([cicflowmeter_command], check=True, capture_output=True, text=True)\n",
        "                print(\"CICFlowMeter finished successfully.\")\n",
        "            except subprocess.CalledProcessError as e:\n",
        "                print(f\"Error running CICFlowMeter: {e}\")\n",
        "                print(f\"Stdout: {e.stdout}\")\n",
        "                print(f\"Stderr: {e.stderr}\")\n",
        "                # Move the file back even if there was an error\n",
        "                print(f\"Moving '{pcap_file}' back to '{attack_directory}' due to error.\")\n",
        "                shutil.move(dest_in_path, attack_directory)\n",
        "                continue # Move to the next file\n",
        "\n",
        "            # Step 2c: Move results - Move CSV to DoS_csv and original pcap back to DoS\n",
        "            print(f\"Moving results from '{data_out_directory}' to '{csv_destination_directory}' and original pcap back to '{attack_directory}'...\")\n",
        "            output_files = os.listdir(data_out_directory)\n",
        "            for output_file in output_files:\n",
        "                # Check if the file is a CSV file generated by CICFlowMeter\n",
        "                if output_file.endswith('_ISCX.csv'):\n",
        "                    source_out_path = os.path.join(data_out_directory, output_file)\n",
        "                    dest_csv_path = os.path.join(csv_destination_directory, output_file)\n",
        "                    shutil.move(source_out_path, dest_csv_path)\n",
        "                    print(f\"Moved '{output_file}' to '{csv_destination_directory}'.\")\n",
        "\n",
        "            # Move the original pcap file back to the attack directory\n",
        "            # We need to find the file in data/in after processing.\n",
        "            # Assuming only one pcap file is in data/in at a time during the loop.\n",
        "            processed_pcap_files_in_in = os.listdir(data_in_directory)\n",
        "            for processed_pcap_file in processed_pcap_files_in_in:\n",
        "                 if processed_pcap_file.endswith('.pcap'):\n",
        "                    processed_in_path = os.path.join(data_in_directory, processed_pcap_file)\n",
        "                    original_source_path = os.path.join(attack_directory, processed_pcap_file) # Construct original path\n",
        "                    shutil.move(processed_in_path, original_source_path) # Move from data/in back to original location\n",
        "                    print(f\"Moved '{processed_pcap_file}' back to '{attack_directory}'.\")\n",
        "\n",
        "\n",
        "            # Step 2d: Clean up data/in and data/out\n",
        "            print(\"Cleaning up temporary directories...\")\n",
        "            # Clean up any remaining files in data/out (should have been moved, but just in case)\n",
        "            remaining_out_files = os.listdir(data_out_directory)\n",
        "            for file in remaining_out_files:\n",
        "                 os.remove(os.path.join(data_out_directory, file))\n",
        "\n",
        "            print(\"Cleanup complete.\")\n",
        "\n",
        "\n",
        "        print(f\"\\nFinished processing all .pcap files in the '{attack_directory}' folder.\")\n",
        "\n",
        "    else:\n",
        "        print(f\"No .pcap files found in '{attack_directory}' to process.\")"
      ],
      "execution_count": null,
      "outputs": [
        {
          "output_type": "stream",
          "name": "stdout",
          "text": [
            "Directory 'DoS-HTTP-Flood_csv' created (if it didn't exist).\n",
            "Processing 6 .pcap files in 'DoS-HTTP-Flood'...\n",
            "\n",
            "Processing: hulk.pcap\n",
            "Moving 'hulk.pcap' to 'data/in'...\n",
            "Running CICFlowMeter...\n",
            "CICFlowMeter finished successfully.\n",
            "Moving results from 'data/out' to 'DoS-HTTP-Flood_csv' and original pcap back to 'DoS-HTTP-Flood'...\n",
            "Moved 'hulk_ISCX.csv' to 'DoS-HTTP-Flood_csv'.\n",
            "Moved 'hulk.pcap' back to 'DoS-HTTP-Flood'.\n",
            "Cleaning up temporary directories...\n",
            "Cleanup complete.\n",
            "\n",
            "Processing: DoS-Hulk_attack.pcap\n",
            "Moving 'DoS-Hulk_attack.pcap' to 'data/in'...\n",
            "Running CICFlowMeter...\n",
            "CICFlowMeter finished successfully.\n",
            "Moving results from 'data/out' to 'DoS-HTTP-Flood_csv' and original pcap back to 'DoS-HTTP-Flood'...\n",
            "Moved 'DoS-Hulk_attack_ISCX.csv' to 'DoS-HTTP-Flood_csv'.\n",
            "Moved 'DoS-Hulk_attack.pcap' back to 'DoS-HTTP-Flood'.\n",
            "Cleaning up temporary directories...\n",
            "Cleanup complete.\n",
            "\n",
            "Processing: DoS-GoldenEye_attack.pcap\n",
            "Moving 'DoS-GoldenEye_attack.pcap' to 'data/in'...\n",
            "Running CICFlowMeter...\n",
            "CICFlowMeter finished successfully.\n",
            "Moving results from 'data/out' to 'DoS-HTTP-Flood_csv' and original pcap back to 'DoS-HTTP-Flood'...\n",
            "Moved 'DoS-GoldenEye_attack_ISCX.csv' to 'DoS-HTTP-Flood_csv'.\n",
            "Moved 'DoS-GoldenEye_attack.pcap' back to 'DoS-HTTP-Flood'.\n",
            "Cleaning up temporary directories...\n",
            "Cleanup complete.\n",
            "\n",
            "Processing: GoldenEye.pcap\n",
            "Moving 'GoldenEye.pcap' to 'data/in'...\n",
            "Running CICFlowMeter...\n",
            "CICFlowMeter finished successfully.\n",
            "Moving results from 'data/out' to 'DoS-HTTP-Flood_csv' and original pcap back to 'DoS-HTTP-Flood'...\n",
            "Moved 'GoldenEye_ISCX.csv' to 'DoS-HTTP-Flood_csv'.\n",
            "Moved 'GoldenEye.pcap' back to 'DoS-HTTP-Flood'.\n",
            "Cleaning up temporary directories...\n",
            "Cleanup complete.\n",
            "\n",
            "Processing: DDoS HTTP Flood Attacks.pcap\n",
            "Moving 'DDoS HTTP Flood Attacks.pcap' to 'data/in'...\n",
            "Running CICFlowMeter...\n",
            "CICFlowMeter finished successfully.\n",
            "Moving results from 'data/out' to 'DoS-HTTP-Flood_csv' and original pcap back to 'DoS-HTTP-Flood'...\n",
            "Moved 'DDoS HTTP Flood Attacks_ISCX.csv' to 'DoS-HTTP-Flood_csv'.\n",
            "Moved 'DDoS HTTP Flood Attacks.pcap' back to 'DoS-HTTP-Flood'.\n",
            "Cleaning up temporary directories...\n",
            "Cleanup complete.\n",
            "\n",
            "Processing: http_dos.pcap\n",
            "Moving 'http_dos.pcap' to 'data/in'...\n",
            "Running CICFlowMeter...\n",
            "CICFlowMeter finished successfully.\n",
            "Moving results from 'data/out' to 'DoS-HTTP-Flood_csv' and original pcap back to 'DoS-HTTP-Flood'...\n",
            "Moved 'http_dos_ISCX.csv' to 'DoS-HTTP-Flood_csv'.\n",
            "Moved 'http_dos.pcap' back to 'DoS-HTTP-Flood'.\n",
            "Cleaning up temporary directories...\n",
            "Cleanup complete.\n",
            "\n",
            "Finished processing all .pcap files in the 'DoS-HTTP-Flood' folder.\n"
          ]
        }
      ]
    },
    {
      "cell_type": "code",
      "metadata": {
        "colab": {
          "base_uri": "https://localhost:8080/"
        },
        "outputId": "4a00ac2d-75f1-437f-b3e0-ac009bb2180e",
        "id": "lJ2TMMAbVEQn"
      },
      "source": [
        "! zip -r DoS-HTTP-Flood_csv.zip DoS-HTTP-Flood_csv"
      ],
      "execution_count": null,
      "outputs": [
        {
          "output_type": "stream",
          "name": "stdout",
          "text": [
            "  adding: DoS-HTTP-Flood_csv/ (stored 0%)\n",
            "  adding: DoS-HTTP-Flood_csv/http_dos_ISCX.csv (deflated 75%)\n",
            "  adding: DoS-HTTP-Flood_csv/DDoS HTTP Flood Attacks_ISCX.csv (deflated 78%)\n",
            "  adding: DoS-HTTP-Flood_csv/DoS-GoldenEye_attack_ISCX.csv (deflated 76%)\n",
            "  adding: DoS-HTTP-Flood_csv/DoS-Hulk_attack_ISCX.csv (deflated 75%)\n",
            "  adding: DoS-HTTP-Flood_csv/GoldenEye_ISCX.csv (deflated 75%)\n",
            "  adding: DoS-HTTP-Flood_csv/hulk_ISCX.csv (deflated 72%)\n"
          ]
        }
      ]
    },
    {
      "cell_type": "markdown",
      "source": [
        "# ✅ DoS-Layer3and4 - GET PCAP FILES"
      ],
      "metadata": {
        "id": "qvehJKYKV1i8"
      }
    },
    {
      "cell_type": "code",
      "metadata": {
        "colab": {
          "base_uri": "https://localhost:8080/"
        },
        "outputId": "1de36188-5b01-451f-def0-5960cb4b83ef",
        "id": "x0Jc8EsAV1i9"
      },
      "source": [
        "import os\n",
        "directory_path = '/content/drive/MyDrive/Share to Mc4/AIBuilders5-MiN/TestsetForBaseline'\n",
        "\n",
        "# Check if the directory exists before listing its contents\n",
        "if os.path.exists(directory_path):\n",
        "  # List the contents of the directory\n",
        "  contents = os.listdir(directory_path)\n",
        "\n",
        "  # Print the contents\n",
        "  for item in contents:\n",
        "    print(item)\n",
        "else:\n",
        "  print(f\"Directory not found: {directory_path}\")"
      ],
      "execution_count": null,
      "outputs": [
        {
          "output_type": "stream",
          "name": "stdout",
          "text": [
            "DoS.zip\n",
            "DDoS.zip\n",
            "PortScan.zip\n",
            "Benign.zip\n",
            "FTPBruteforce.zip\n",
            "SSHBruteforce.zip\n",
            "DoS-HTTP-Flood.zip\n",
            "DoS-SlowRate.zip\n",
            "Benign2.zip\n",
            "DoS-overall.zip\n",
            "DoS-Layer3and4.zip\n"
          ]
        }
      ]
    },
    {
      "cell_type": "code",
      "metadata": {
        "colab": {
          "base_uri": "https://localhost:8080/"
        },
        "id": "Hz_O1wCbV1i-",
        "outputId": "ff731460-fc33-45e6-ba3e-5e71978856f4"
      },
      "source": [
        "import zipfile\n",
        "import os\n",
        "\n",
        "zip_file_path = '/content/drive/MyDrive/Share to Mc4/AIBuilders5-MiN/TestsetForBaseline/DoS-Layer3and4.zip'\n",
        "destination_directory = '/content/'\n",
        "\n",
        "# Unzip the file\n",
        "try:\n",
        "    with zipfile.ZipFile(zip_file_path, 'r') as zip_ref:\n",
        "        zip_ref.extractall(destination_directory)\n",
        "    print(f\"'{zip_file_path}' unzipped to '{destination_directory}'.\")\n",
        "except FileNotFoundError:\n",
        "    print(f\"Error: Zip file not found at '{zip_file_path}'\")\n",
        "except zipfile.BadZipFile:\n",
        "    print(f\"Error: '{zip_file_path}' is not a valid zip file.\")\n",
        "except Exception as e:\n",
        "    print(f\"An error occurred: {e}\")"
      ],
      "execution_count": null,
      "outputs": [
        {
          "output_type": "stream",
          "name": "stdout",
          "text": [
            "'/content/drive/MyDrive/Share to Mc4/AIBuilders5-MiN/TestsetForBaseline/DoS-Layer3and4.zip' unzipped to '/content/'.\n"
          ]
        }
      ]
    },
    {
      "cell_type": "markdown",
      "source": [
        "# ✅ DoS-Layer3and4 - Convert to .csv"
      ],
      "metadata": {
        "id": "HsP4GF_DV_QN"
      }
    },
    {
      "cell_type": "code",
      "metadata": {
        "colab": {
          "base_uri": "https://localhost:8080/"
        },
        "outputId": "c2b913ba-a3b4-40ba-dc61-cfcfff72f187",
        "id": "XcEKLgBvV_QN"
      },
      "source": [
        "import os\n",
        "\n",
        "dos_directory = 'DoS-Layer3and4'\n",
        "pcap_files = [f for f in os.listdir(dos_directory) if f.endswith('.pcap')]\n",
        "\n",
        "if pcap_files:\n",
        "    print(f\"Found {len(pcap_files)} .pcap files in '{dos_directory}':\")\n",
        "    for pcap_file in pcap_files:\n",
        "        print(pcap_file)\n",
        "else:\n",
        "    print(f\"No .pcap files found in '{dos_directory}'.\")"
      ],
      "execution_count": null,
      "outputs": [
        {
          "output_type": "stream",
          "name": "stdout",
          "text": [
            "Found 17 .pcap files in 'DoS-Layer3and4':\n",
            "syn25_2.pcap\n",
            "syn_tcp_dos.pcap\n",
            "syn50_2.pcap\n",
            "udp_dos.pcap\n",
            "DDoS UDP Flood Attacks.pcap\n",
            "DDoS ICMP Flood Attacks.pcap\n",
            "syn10_2.pcap\n",
            "syn25_1.pcap\n",
            "h4-DDoS-SYN.pcap\n",
            "DDoS TCP SYN Flood Attacks.pcap\n",
            "h4-DDoS-ICMP.pcap\n",
            "syn75_1.pcap\n",
            "syn75_2.pcap\n",
            "syn50_1.pcap\n",
            "syn10_1.pcap\n",
            "h4-DDoS-UDP.pcap\n",
            "SYN_DoS_pcap.pcap\n"
          ]
        }
      ]
    },
    {
      "cell_type": "code",
      "metadata": {
        "colab": {
          "base_uri": "https://localhost:8080/"
        },
        "outputId": "4548bf18-2bc7-4f1a-b720-2097d27dd5c9",
        "collapsed": true,
        "id": "Y-3-MZJTV_QN"
      },
      "source": [
        "import os\n",
        "import shutil\n",
        "import subprocess\n",
        "\n",
        "# Define the attack type directory (change this variable for different attack types)\n",
        "attack_type = 'DoS-Layer3and4' # You can change this to 'DDoS', 'PortScan', etc.\n",
        "\n",
        "attack_directory = attack_type\n",
        "data_in_directory = 'data/in'\n",
        "data_out_directory = 'data/out'\n",
        "csv_destination_directory = f'{attack_type}_csv'  # Directory for CSV files based on attack type\n",
        "cicflowmeter_command = './CICFlowMeter-3.0/tcpdump_and_cicflowmeter/bin/CICFlowMeter'\n",
        "\n",
        "# Create the CSV destination directory if it doesn't exist\n",
        "os.makedirs(csv_destination_directory, exist_ok=True)\n",
        "print(f\"Directory '{csv_destination_directory}' created (if it didn't exist).\")\n",
        "\n",
        "# Ensure the attack directory exists\n",
        "if not os.path.exists(attack_directory):\n",
        "    print(f\"Error: Attack directory '{attack_directory}' not found.\")\n",
        "else:\n",
        "    # Get the list of pcap files in the attack directory\n",
        "    pcap_files = [f for f in os.listdir(attack_directory) if f.endswith('.pcap')]\n",
        "\n",
        "    if pcap_files:\n",
        "        print(f\"Processing {len(pcap_files)} .pcap files in '{attack_directory}'...\")\n",
        "        for pcap_file in pcap_files:\n",
        "            source_path = os.path.join(attack_directory, pcap_file)\n",
        "            dest_in_path = os.path.join(data_in_directory, pcap_file)\n",
        "\n",
        "            print(f\"\\nProcessing: {pcap_file}\")\n",
        "\n",
        "            # Step 2a: Move to data/in\n",
        "            print(f\"Moving '{pcap_file}' to '{data_in_directory}'...\")\n",
        "            shutil.move(source_path, data_in_directory)\n",
        "\n",
        "            # Step 2b: Run CICFlowMeter\n",
        "            print(\"Running CICFlowMeter...\")\n",
        "            try:\n",
        "                # The CICFlowMeter command expects the input directory to be 'data/in' and outputs to 'data/out'\n",
        "                subprocess.run([cicflowmeter_command], check=True, capture_output=True, text=True)\n",
        "                print(\"CICFlowMeter finished successfully.\")\n",
        "            except subprocess.CalledProcessError as e:\n",
        "                print(f\"Error running CICFlowMeter: {e}\")\n",
        "                print(f\"Stdout: {e.stdout}\")\n",
        "                print(f\"Stderr: {e.stderr}\")\n",
        "                # Move the file back even if there was an error\n",
        "                print(f\"Moving '{pcap_file}' back to '{attack_directory}' due to error.\")\n",
        "                shutil.move(dest_in_path, attack_directory)\n",
        "                continue # Move to the next file\n",
        "\n",
        "            # Step 2c: Move results - Move CSV to DoS_csv and original pcap back to DoS\n",
        "            print(f\"Moving results from '{data_out_directory}' to '{csv_destination_directory}' and original pcap back to '{attack_directory}'...\")\n",
        "            output_files = os.listdir(data_out_directory)\n",
        "            for output_file in output_files:\n",
        "                # Check if the file is a CSV file generated by CICFlowMeter\n",
        "                if output_file.endswith('_ISCX.csv'):\n",
        "                    source_out_path = os.path.join(data_out_directory, output_file)\n",
        "                    dest_csv_path = os.path.join(csv_destination_directory, output_file)\n",
        "                    shutil.move(source_out_path, dest_csv_path)\n",
        "                    print(f\"Moved '{output_file}' to '{csv_destination_directory}'.\")\n",
        "\n",
        "            # Move the original pcap file back to the attack directory\n",
        "            # We need to find the file in data/in after processing.\n",
        "            # Assuming only one pcap file is in data/in at a time during the loop.\n",
        "            processed_pcap_files_in_in = os.listdir(data_in_directory)\n",
        "            for processed_pcap_file in processed_pcap_files_in_in:\n",
        "                 if processed_pcap_file.endswith('.pcap'):\n",
        "                    processed_in_path = os.path.join(data_in_directory, processed_pcap_file)\n",
        "                    original_source_path = os.path.join(attack_directory, processed_pcap_file) # Construct original path\n",
        "                    shutil.move(processed_in_path, original_source_path) # Move from data/in back to original location\n",
        "                    print(f\"Moved '{processed_pcap_file}' back to '{attack_directory}'.\")\n",
        "\n",
        "\n",
        "            # Step 2d: Clean up data/in and data/out\n",
        "            print(\"Cleaning up temporary directories...\")\n",
        "            # Clean up any remaining files in data/out (should have been moved, but just in case)\n",
        "            remaining_out_files = os.listdir(data_out_directory)\n",
        "            for file in remaining_out_files:\n",
        "                 os.remove(os.path.join(data_out_directory, file))\n",
        "\n",
        "            print(\"Cleanup complete.\")\n",
        "\n",
        "\n",
        "        print(f\"\\nFinished processing all .pcap files in the '{attack_directory}' folder.\")\n",
        "\n",
        "    else:\n",
        "        print(f\"No .pcap files found in '{attack_directory}' to process.\")"
      ],
      "execution_count": null,
      "outputs": [
        {
          "output_type": "stream",
          "name": "stdout",
          "text": [
            "Directory 'DoS-Layer3and4_csv' created (if it didn't exist).\n",
            "Processing 17 .pcap files in 'DoS-Layer3and4'...\n",
            "\n",
            "Processing: syn25_2.pcap\n",
            "Moving 'syn25_2.pcap' to 'data/in'...\n",
            "Running CICFlowMeter...\n",
            "CICFlowMeter finished successfully.\n",
            "Moving results from 'data/out' to 'DoS-Layer3and4_csv' and original pcap back to 'DoS-Layer3and4'...\n",
            "Moved 'syn25_2_ISCX.csv' to 'DoS-Layer3and4_csv'.\n",
            "Moved 'syn25_2.pcap' back to 'DoS-Layer3and4'.\n",
            "Cleaning up temporary directories...\n",
            "Cleanup complete.\n",
            "\n",
            "Processing: syn_tcp_dos.pcap\n",
            "Moving 'syn_tcp_dos.pcap' to 'data/in'...\n",
            "Running CICFlowMeter...\n",
            "CICFlowMeter finished successfully.\n",
            "Moving results from 'data/out' to 'DoS-Layer3and4_csv' and original pcap back to 'DoS-Layer3and4'...\n",
            "Moved 'syn_tcp_dos_ISCX.csv' to 'DoS-Layer3and4_csv'.\n",
            "Moved 'syn_tcp_dos.pcap' back to 'DoS-Layer3and4'.\n",
            "Cleaning up temporary directories...\n",
            "Cleanup complete.\n",
            "\n",
            "Processing: syn50_2.pcap\n",
            "Moving 'syn50_2.pcap' to 'data/in'...\n",
            "Running CICFlowMeter...\n",
            "CICFlowMeter finished successfully.\n",
            "Moving results from 'data/out' to 'DoS-Layer3and4_csv' and original pcap back to 'DoS-Layer3and4'...\n",
            "Moved 'syn50_2_ISCX.csv' to 'DoS-Layer3and4_csv'.\n",
            "Moved 'syn50_2.pcap' back to 'DoS-Layer3and4'.\n",
            "Cleaning up temporary directories...\n",
            "Cleanup complete.\n",
            "\n",
            "Processing: udp_dos.pcap\n",
            "Moving 'udp_dos.pcap' to 'data/in'...\n",
            "Running CICFlowMeter...\n",
            "CICFlowMeter finished successfully.\n",
            "Moving results from 'data/out' to 'DoS-Layer3and4_csv' and original pcap back to 'DoS-Layer3and4'...\n",
            "Moved 'udp_dos_ISCX.csv' to 'DoS-Layer3and4_csv'.\n",
            "Moved 'udp_dos.pcap' back to 'DoS-Layer3and4'.\n",
            "Cleaning up temporary directories...\n",
            "Cleanup complete.\n",
            "\n",
            "Processing: DDoS UDP Flood Attacks.pcap\n",
            "Moving 'DDoS UDP Flood Attacks.pcap' to 'data/in'...\n",
            "Running CICFlowMeter...\n",
            "Error running CICFlowMeter: Command '['./CICFlowMeter-3.0/tcpdump_and_cicflowmeter/bin/CICFlowMeter']' returned non-zero exit status 1.\n",
            "Stdout: run at:   /content\n",
            "app at:   /content/CICFlowMeter-3.0/tcpdump_and_cicflowmeter\n",
            "SAVED:    /content\n",
            "APP_HOME: /content/CICFlowMeter-3.0/tcpdump_and_cicflowmeter\n",
            "CLASSPATH: /content/CICFlowMeter-3.0/tcpdump_and_cicflowmeter/lib/animal-sniffer-annotations-1.14.jar:/content/CICFlowMeter-3.0/tcpdump_and_cicflowmeter/lib/checker-compat-qual-2.0.0.jar:/content/CICFlowMeter-3.0/tcpdump_and_cicflowmeter/lib/CICFlowMeter-3.0.jar:/content/CICFlowMeter-3.0/tcpdump_and_cicflowmeter/lib/commons-io-2.5.jar:/content/CICFlowMeter-3.0/tcpdump_and_cicflowmeter/lib/commons-lang3-3.6.jar:/content/CICFlowMeter-3.0/tcpdump_and_cicflowmeter/lib/commons-math3-3.5.jar:/content/CICFlowMeter-3.0/tcpdump_and_cicflowmeter/lib/error_prone_annotations-2.1.3.jar:/content/CICFlowMeter-3.0/tcpdump_and_cicflowmeter/lib/guava-23.6-jre.jar:/content/CICFlowMeter-3.0/tcpdump_and_cicflowmeter/lib/hamcrest-core-1.3.jar:/content/CICFlowMeter-3.0/tcpdump_and_cicflowmeter/lib/j2objc-annotations-1.1.jar:/content/CICFlowMeter-3.0/tcpdump_and_cicflowmeter/lib/java-cup-0.11a.jar:/content/CICFlowMeter-3.0/tcpdump_and_cicflowmeter/lib/jfreechart-1.5.0.jar:/content/CICFlowMeter-3.0/tcpdump_and_cicflowmeter/lib/jnetpcap-1.4.r1425-1g.jar:/content/CICFlowMeter-3.0/tcpdump_and_cicflowmeter/lib/jsr305-1.3.9.jar:/content/CICFlowMeter-3.0/tcpdump_and_cicflowmeter/lib/junit-4.12.jar:/content/CICFlowMeter-3.0/tcpdump_and_cicflowmeter/lib/log4j-1.2.17.jar:/content/CICFlowMeter-3.0/tcpdump_and_cicflowmeter/lib/slf4j-api-1.7.25.jar:/content/CICFlowMeter-3.0/tcpdump_and_cicflowmeter/lib/slf4j-log4j12-1.7.25.jar:/content/CICFlowMeter-3.0/tcpdump_and_cicflowmeter/lib/tika-core-1.17.jar:/content/CICFlowMeter-3.0/tcpdump_and_cicflowmeter/lib/weka-stable-3.6.14.jar\n",
            "cic.cs.unb.ca.ifm.CICFlowMeter \n",
            "cic.cs.unb.ca.ifm.CICFlowMeter CICFlowMeter-V3 found: 1 Files.\n",
            "cic.cs.unb.ca.ifm.CICFlowMeter \n",
            "cic.cs.unb.ca.ifm.CICFlowMeter Working on... /content/data/in/DDoS UDP Flood Attacks.pcap \n",
            "\n",
            "Stderr: Exception in thread \"main\" java.lang.OutOfMemoryError: Java heap space\n",
            "\tat cic.cs.unb.ca.jnetpcap.BasicFlow.initParameters(BasicFlow.java:88)\n",
            "\tat cic.cs.unb.ca.jnetpcap.BasicFlow.<init>(BasicFlow.java:73)\n",
            "\tat cic.cs.unb.ca.jnetpcap.FlowGenerator.addPacket(FlowGenerator.java:117)\n",
            "\tat cic.cs.unb.ca.ifm.CICFlowMeter.main(CICFlowMeter.java:106)\n",
            "\n",
            "Moving 'DDoS UDP Flood Attacks.pcap' back to 'DoS-Layer3and4' due to error.\n",
            "\n",
            "Processing: DDoS ICMP Flood Attacks.pcap\n",
            "Moving 'DDoS ICMP Flood Attacks.pcap' to 'data/in'...\n",
            "Running CICFlowMeter...\n",
            "Error running CICFlowMeter: Command '['./CICFlowMeter-3.0/tcpdump_and_cicflowmeter/bin/CICFlowMeter']' returned non-zero exit status 1.\n",
            "Stdout: run at:   /content\n",
            "app at:   /content/CICFlowMeter-3.0/tcpdump_and_cicflowmeter\n",
            "SAVED:    /content\n",
            "APP_HOME: /content/CICFlowMeter-3.0/tcpdump_and_cicflowmeter\n",
            "CLASSPATH: /content/CICFlowMeter-3.0/tcpdump_and_cicflowmeter/lib/animal-sniffer-annotations-1.14.jar:/content/CICFlowMeter-3.0/tcpdump_and_cicflowmeter/lib/checker-compat-qual-2.0.0.jar:/content/CICFlowMeter-3.0/tcpdump_and_cicflowmeter/lib/CICFlowMeter-3.0.jar:/content/CICFlowMeter-3.0/tcpdump_and_cicflowmeter/lib/commons-io-2.5.jar:/content/CICFlowMeter-3.0/tcpdump_and_cicflowmeter/lib/commons-lang3-3.6.jar:/content/CICFlowMeter-3.0/tcpdump_and_cicflowmeter/lib/commons-math3-3.5.jar:/content/CICFlowMeter-3.0/tcpdump_and_cicflowmeter/lib/error_prone_annotations-2.1.3.jar:/content/CICFlowMeter-3.0/tcpdump_and_cicflowmeter/lib/guava-23.6-jre.jar:/content/CICFlowMeter-3.0/tcpdump_and_cicflowmeter/lib/hamcrest-core-1.3.jar:/content/CICFlowMeter-3.0/tcpdump_and_cicflowmeter/lib/j2objc-annotations-1.1.jar:/content/CICFlowMeter-3.0/tcpdump_and_cicflowmeter/lib/java-cup-0.11a.jar:/content/CICFlowMeter-3.0/tcpdump_and_cicflowmeter/lib/jfreechart-1.5.0.jar:/content/CICFlowMeter-3.0/tcpdump_and_cicflowmeter/lib/jnetpcap-1.4.r1425-1g.jar:/content/CICFlowMeter-3.0/tcpdump_and_cicflowmeter/lib/jsr305-1.3.9.jar:/content/CICFlowMeter-3.0/tcpdump_and_cicflowmeter/lib/junit-4.12.jar:/content/CICFlowMeter-3.0/tcpdump_and_cicflowmeter/lib/log4j-1.2.17.jar:/content/CICFlowMeter-3.0/tcpdump_and_cicflowmeter/lib/slf4j-api-1.7.25.jar:/content/CICFlowMeter-3.0/tcpdump_and_cicflowmeter/lib/slf4j-log4j12-1.7.25.jar:/content/CICFlowMeter-3.0/tcpdump_and_cicflowmeter/lib/tika-core-1.17.jar:/content/CICFlowMeter-3.0/tcpdump_and_cicflowmeter/lib/weka-stable-3.6.14.jar\n",
            "cic.cs.unb.ca.ifm.CICFlowMeter \n",
            "cic.cs.unb.ca.ifm.CICFlowMeter CICFlowMeter-V3 found: 1 Files.\n",
            "cic.cs.unb.ca.ifm.CICFlowMeter \n",
            "cic.cs.unb.ca.ifm.CICFlowMeter Working on... /content/data/in/DDoS ICMP Flood Attacks.pcap \n",
            "\n",
            "Stderr: Exception in thread \"DisposableGC\" Exception in thread \"main\" java.lang.OutOfMemoryError: Java heap space\n",
            "\tat java.base/java.lang.Integer.toString(Integer.java:442)\n",
            "\tat java.base/java.lang.Integer.toString(Integer.java:143)\n",
            "\tat org.jnetpcap.packet.format.FormatUtils.asString(Unknown Source)\n",
            "\tat org.jnetpcap.packet.format.FormatUtils.asString(Unknown Source)\n",
            "\tat org.jnetpcap.packet.format.FormatUtils.ip(Unknown Source)\n",
            "\tat cic.cs.unb.ca.jnetpcap.BasicPacketInfo.getSourceIP(BasicPacketInfo.java:78)\n",
            "\tat cic.cs.unb.ca.jnetpcap.BasicPacketInfo.generateFlowId(BasicPacketInfo.java:67)\n",
            "\tat cic.cs.unb.ca.jnetpcap.BasicPacketInfo.getFlowId(BasicPacketInfo.java:143)\n",
            "\tat cic.cs.unb.ca.jnetpcap.FlowGenerator.addPacket(FlowGenerator.java:75)\n",
            "\tat cic.cs.unb.ca.ifm.CICFlowMeter.main(CICFlowMeter.java:106)\n",
            "java.lang.OutOfMemoryError: Java heap space\n",
            "\tat org.jnetpcap.nio.LinkSequence.iterator(Unknown Source)\n",
            "\tat org.jnetpcap.nio.DisposableGC.sortGenerations(Unknown Source)\n",
            "\tat org.jnetpcap.nio.DisposableGC.drainRefQueueLoop(Unknown Source)\n",
            "\tat org.jnetpcap.nio.DisposableGC$2.run(Unknown Source)\n",
            "\tat java.base/java.lang.Thread.run(Thread.java:829)\n",
            "\n",
            "Moving 'DDoS ICMP Flood Attacks.pcap' back to 'DoS-Layer3and4' due to error.\n",
            "\n",
            "Processing: syn10_2.pcap\n",
            "Moving 'syn10_2.pcap' to 'data/in'...\n",
            "Running CICFlowMeter...\n",
            "CICFlowMeter finished successfully.\n",
            "Moving results from 'data/out' to 'DoS-Layer3and4_csv' and original pcap back to 'DoS-Layer3and4'...\n",
            "Moved 'syn10_2_ISCX.csv' to 'DoS-Layer3and4_csv'.\n",
            "Moved 'syn10_2.pcap' back to 'DoS-Layer3and4'.\n",
            "Cleaning up temporary directories...\n",
            "Cleanup complete.\n",
            "\n",
            "Processing: syn25_1.pcap\n",
            "Moving 'syn25_1.pcap' to 'data/in'...\n",
            "Running CICFlowMeter...\n",
            "CICFlowMeter finished successfully.\n",
            "Moving results from 'data/out' to 'DoS-Layer3and4_csv' and original pcap back to 'DoS-Layer3and4'...\n",
            "Moved 'syn25_1_ISCX.csv' to 'DoS-Layer3and4_csv'.\n",
            "Moved 'syn25_1.pcap' back to 'DoS-Layer3and4'.\n",
            "Cleaning up temporary directories...\n",
            "Cleanup complete.\n",
            "\n",
            "Processing: h4-DDoS-SYN.pcap\n",
            "Moving 'h4-DDoS-SYN.pcap' to 'data/in'...\n",
            "Running CICFlowMeter...\n",
            "CICFlowMeter finished successfully.\n",
            "Moving results from 'data/out' to 'DoS-Layer3and4_csv' and original pcap back to 'DoS-Layer3and4'...\n",
            "Moved 'h4-DDoS-SYN_ISCX.csv' to 'DoS-Layer3and4_csv'.\n",
            "Moved 'h4-DDoS-SYN.pcap' back to 'DoS-Layer3and4'.\n",
            "Cleaning up temporary directories...\n",
            "Cleanup complete.\n",
            "\n",
            "Processing: DDoS TCP SYN Flood Attacks.pcap\n",
            "Moving 'DDoS TCP SYN Flood Attacks.pcap' to 'data/in'...\n",
            "Running CICFlowMeter...\n",
            "Error running CICFlowMeter: Command '['./CICFlowMeter-3.0/tcpdump_and_cicflowmeter/bin/CICFlowMeter']' returned non-zero exit status 1.\n",
            "Stdout: run at:   /content\n",
            "app at:   /content/CICFlowMeter-3.0/tcpdump_and_cicflowmeter\n",
            "SAVED:    /content\n",
            "APP_HOME: /content/CICFlowMeter-3.0/tcpdump_and_cicflowmeter\n",
            "CLASSPATH: /content/CICFlowMeter-3.0/tcpdump_and_cicflowmeter/lib/animal-sniffer-annotations-1.14.jar:/content/CICFlowMeter-3.0/tcpdump_and_cicflowmeter/lib/checker-compat-qual-2.0.0.jar:/content/CICFlowMeter-3.0/tcpdump_and_cicflowmeter/lib/CICFlowMeter-3.0.jar:/content/CICFlowMeter-3.0/tcpdump_and_cicflowmeter/lib/commons-io-2.5.jar:/content/CICFlowMeter-3.0/tcpdump_and_cicflowmeter/lib/commons-lang3-3.6.jar:/content/CICFlowMeter-3.0/tcpdump_and_cicflowmeter/lib/commons-math3-3.5.jar:/content/CICFlowMeter-3.0/tcpdump_and_cicflowmeter/lib/error_prone_annotations-2.1.3.jar:/content/CICFlowMeter-3.0/tcpdump_and_cicflowmeter/lib/guava-23.6-jre.jar:/content/CICFlowMeter-3.0/tcpdump_and_cicflowmeter/lib/hamcrest-core-1.3.jar:/content/CICFlowMeter-3.0/tcpdump_and_cicflowmeter/lib/j2objc-annotations-1.1.jar:/content/CICFlowMeter-3.0/tcpdump_and_cicflowmeter/lib/java-cup-0.11a.jar:/content/CICFlowMeter-3.0/tcpdump_and_cicflowmeter/lib/jfreechart-1.5.0.jar:/content/CICFlowMeter-3.0/tcpdump_and_cicflowmeter/lib/jnetpcap-1.4.r1425-1g.jar:/content/CICFlowMeter-3.0/tcpdump_and_cicflowmeter/lib/jsr305-1.3.9.jar:/content/CICFlowMeter-3.0/tcpdump_and_cicflowmeter/lib/junit-4.12.jar:/content/CICFlowMeter-3.0/tcpdump_and_cicflowmeter/lib/log4j-1.2.17.jar:/content/CICFlowMeter-3.0/tcpdump_and_cicflowmeter/lib/slf4j-api-1.7.25.jar:/content/CICFlowMeter-3.0/tcpdump_and_cicflowmeter/lib/slf4j-log4j12-1.7.25.jar:/content/CICFlowMeter-3.0/tcpdump_and_cicflowmeter/lib/tika-core-1.17.jar:/content/CICFlowMeter-3.0/tcpdump_and_cicflowmeter/lib/weka-stable-3.6.14.jar\n",
            "cic.cs.unb.ca.ifm.CICFlowMeter \n",
            "cic.cs.unb.ca.ifm.CICFlowMeter CICFlowMeter-V3 found: 1 Files.\n",
            "cic.cs.unb.ca.ifm.CICFlowMeter \n",
            "cic.cs.unb.ca.ifm.CICFlowMeter Working on... /content/data/in/DDoS TCP SYN Flood Attacks.pcap \n",
            "\n",
            "Stderr: Exception in thread \"main\" java.lang.OutOfMemoryError: Java heap space\n",
            "\tat cic.cs.unb.ca.jnetpcap.FlowGenerator.addPacket(FlowGenerator.java:117)\n",
            "\tat cic.cs.unb.ca.ifm.CICFlowMeter.main(CICFlowMeter.java:106)\n",
            "\n",
            "Moving 'DDoS TCP SYN Flood Attacks.pcap' back to 'DoS-Layer3and4' due to error.\n",
            "\n",
            "Processing: h4-DDoS-ICMP.pcap\n",
            "Moving 'h4-DDoS-ICMP.pcap' to 'data/in'...\n",
            "Running CICFlowMeter...\n",
            "Error running CICFlowMeter: Command '['./CICFlowMeter-3.0/tcpdump_and_cicflowmeter/bin/CICFlowMeter']' returned non-zero exit status 1.\n",
            "Stdout: run at:   /content\n",
            "app at:   /content/CICFlowMeter-3.0/tcpdump_and_cicflowmeter\n",
            "SAVED:    /content\n",
            "APP_HOME: /content/CICFlowMeter-3.0/tcpdump_and_cicflowmeter\n",
            "CLASSPATH: /content/CICFlowMeter-3.0/tcpdump_and_cicflowmeter/lib/animal-sniffer-annotations-1.14.jar:/content/CICFlowMeter-3.0/tcpdump_and_cicflowmeter/lib/checker-compat-qual-2.0.0.jar:/content/CICFlowMeter-3.0/tcpdump_and_cicflowmeter/lib/CICFlowMeter-3.0.jar:/content/CICFlowMeter-3.0/tcpdump_and_cicflowmeter/lib/commons-io-2.5.jar:/content/CICFlowMeter-3.0/tcpdump_and_cicflowmeter/lib/commons-lang3-3.6.jar:/content/CICFlowMeter-3.0/tcpdump_and_cicflowmeter/lib/commons-math3-3.5.jar:/content/CICFlowMeter-3.0/tcpdump_and_cicflowmeter/lib/error_prone_annotations-2.1.3.jar:/content/CICFlowMeter-3.0/tcpdump_and_cicflowmeter/lib/guava-23.6-jre.jar:/content/CICFlowMeter-3.0/tcpdump_and_cicflowmeter/lib/hamcrest-core-1.3.jar:/content/CICFlowMeter-3.0/tcpdump_and_cicflowmeter/lib/j2objc-annotations-1.1.jar:/content/CICFlowMeter-3.0/tcpdump_and_cicflowmeter/lib/java-cup-0.11a.jar:/content/CICFlowMeter-3.0/tcpdump_and_cicflowmeter/lib/jfreechart-1.5.0.jar:/content/CICFlowMeter-3.0/tcpdump_and_cicflowmeter/lib/jnetpcap-1.4.r1425-1g.jar:/content/CICFlowMeter-3.0/tcpdump_and_cicflowmeter/lib/jsr305-1.3.9.jar:/content/CICFlowMeter-3.0/tcpdump_and_cicflowmeter/lib/junit-4.12.jar:/content/CICFlowMeter-3.0/tcpdump_and_cicflowmeter/lib/log4j-1.2.17.jar:/content/CICFlowMeter-3.0/tcpdump_and_cicflowmeter/lib/slf4j-api-1.7.25.jar:/content/CICFlowMeter-3.0/tcpdump_and_cicflowmeter/lib/slf4j-log4j12-1.7.25.jar:/content/CICFlowMeter-3.0/tcpdump_and_cicflowmeter/lib/tika-core-1.17.jar:/content/CICFlowMeter-3.0/tcpdump_and_cicflowmeter/lib/weka-stable-3.6.14.jar\n",
            "cic.cs.unb.ca.ifm.CICFlowMeter \n",
            "cic.cs.unb.ca.ifm.CICFlowMeter CICFlowMeter-V3 found: 1 Files.\n",
            "cic.cs.unb.ca.ifm.CICFlowMeter \n",
            "cic.cs.unb.ca.ifm.CICFlowMeter Working on... /content/data/in/h4-DDoS-ICMP.pcap \n",
            "\n",
            "Stderr: Exception in thread \"main\" java.lang.OutOfMemoryError: Java heap space\n",
            "\tat org.apache.commons.math3.stat.descriptive.SummaryStatistics.<init>(SummaryStatistics.java:78)\n",
            "\tat cic.cs.unb.ca.jnetpcap.BasicFlow.initParameters(BasicFlow.java:95)\n",
            "\tat cic.cs.unb.ca.jnetpcap.BasicFlow.<init>(BasicFlow.java:73)\n",
            "\tat cic.cs.unb.ca.jnetpcap.FlowGenerator.addPacket(FlowGenerator.java:117)\n",
            "\tat cic.cs.unb.ca.ifm.CICFlowMeter.main(CICFlowMeter.java:106)\n",
            "\n",
            "Moving 'h4-DDoS-ICMP.pcap' back to 'DoS-Layer3and4' due to error.\n",
            "\n",
            "Processing: syn75_1.pcap\n",
            "Moving 'syn75_1.pcap' to 'data/in'...\n",
            "Running CICFlowMeter...\n",
            "CICFlowMeter finished successfully.\n",
            "Moving results from 'data/out' to 'DoS-Layer3and4_csv' and original pcap back to 'DoS-Layer3and4'...\n",
            "Moved 'syn75_1_ISCX.csv' to 'DoS-Layer3and4_csv'.\n",
            "Moved 'syn75_1.pcap' back to 'DoS-Layer3and4'.\n",
            "Cleaning up temporary directories...\n",
            "Cleanup complete.\n",
            "\n",
            "Processing: syn75_2.pcap\n",
            "Moving 'syn75_2.pcap' to 'data/in'...\n",
            "Running CICFlowMeter...\n",
            "CICFlowMeter finished successfully.\n",
            "Moving results from 'data/out' to 'DoS-Layer3and4_csv' and original pcap back to 'DoS-Layer3and4'...\n",
            "Moved 'syn75_2_ISCX.csv' to 'DoS-Layer3and4_csv'.\n",
            "Moved 'syn75_2.pcap' back to 'DoS-Layer3and4'.\n",
            "Cleaning up temporary directories...\n",
            "Cleanup complete.\n",
            "\n",
            "Processing: syn50_1.pcap\n",
            "Moving 'syn50_1.pcap' to 'data/in'...\n",
            "Running CICFlowMeter...\n",
            "CICFlowMeter finished successfully.\n",
            "Moving results from 'data/out' to 'DoS-Layer3and4_csv' and original pcap back to 'DoS-Layer3and4'...\n",
            "Moved 'syn50_1_ISCX.csv' to 'DoS-Layer3and4_csv'.\n",
            "Moved 'syn50_1.pcap' back to 'DoS-Layer3and4'.\n",
            "Cleaning up temporary directories...\n",
            "Cleanup complete.\n",
            "\n",
            "Processing: syn10_1.pcap\n",
            "Moving 'syn10_1.pcap' to 'data/in'...\n",
            "Running CICFlowMeter...\n",
            "CICFlowMeter finished successfully.\n",
            "Moving results from 'data/out' to 'DoS-Layer3and4_csv' and original pcap back to 'DoS-Layer3and4'...\n",
            "Moved 'syn10_1_ISCX.csv' to 'DoS-Layer3and4_csv'.\n",
            "Moved 'syn10_1.pcap' back to 'DoS-Layer3and4'.\n",
            "Cleaning up temporary directories...\n",
            "Cleanup complete.\n",
            "\n",
            "Processing: h4-DDoS-UDP.pcap\n",
            "Moving 'h4-DDoS-UDP.pcap' to 'data/in'...\n",
            "Running CICFlowMeter...\n",
            "Error running CICFlowMeter: Command '['./CICFlowMeter-3.0/tcpdump_and_cicflowmeter/bin/CICFlowMeter']' returned non-zero exit status 1.\n",
            "Stdout: run at:   /content\n",
            "app at:   /content/CICFlowMeter-3.0/tcpdump_and_cicflowmeter\n",
            "SAVED:    /content\n",
            "APP_HOME: /content/CICFlowMeter-3.0/tcpdump_and_cicflowmeter\n",
            "CLASSPATH: /content/CICFlowMeter-3.0/tcpdump_and_cicflowmeter/lib/animal-sniffer-annotations-1.14.jar:/content/CICFlowMeter-3.0/tcpdump_and_cicflowmeter/lib/checker-compat-qual-2.0.0.jar:/content/CICFlowMeter-3.0/tcpdump_and_cicflowmeter/lib/CICFlowMeter-3.0.jar:/content/CICFlowMeter-3.0/tcpdump_and_cicflowmeter/lib/commons-io-2.5.jar:/content/CICFlowMeter-3.0/tcpdump_and_cicflowmeter/lib/commons-lang3-3.6.jar:/content/CICFlowMeter-3.0/tcpdump_and_cicflowmeter/lib/commons-math3-3.5.jar:/content/CICFlowMeter-3.0/tcpdump_and_cicflowmeter/lib/error_prone_annotations-2.1.3.jar:/content/CICFlowMeter-3.0/tcpdump_and_cicflowmeter/lib/guava-23.6-jre.jar:/content/CICFlowMeter-3.0/tcpdump_and_cicflowmeter/lib/hamcrest-core-1.3.jar:/content/CICFlowMeter-3.0/tcpdump_and_cicflowmeter/lib/j2objc-annotations-1.1.jar:/content/CICFlowMeter-3.0/tcpdump_and_cicflowmeter/lib/java-cup-0.11a.jar:/content/CICFlowMeter-3.0/tcpdump_and_cicflowmeter/lib/jfreechart-1.5.0.jar:/content/CICFlowMeter-3.0/tcpdump_and_cicflowmeter/lib/jnetpcap-1.4.r1425-1g.jar:/content/CICFlowMeter-3.0/tcpdump_and_cicflowmeter/lib/jsr305-1.3.9.jar:/content/CICFlowMeter-3.0/tcpdump_and_cicflowmeter/lib/junit-4.12.jar:/content/CICFlowMeter-3.0/tcpdump_and_cicflowmeter/lib/log4j-1.2.17.jar:/content/CICFlowMeter-3.0/tcpdump_and_cicflowmeter/lib/slf4j-api-1.7.25.jar:/content/CICFlowMeter-3.0/tcpdump_and_cicflowmeter/lib/slf4j-log4j12-1.7.25.jar:/content/CICFlowMeter-3.0/tcpdump_and_cicflowmeter/lib/tika-core-1.17.jar:/content/CICFlowMeter-3.0/tcpdump_and_cicflowmeter/lib/weka-stable-3.6.14.jar\n",
            "cic.cs.unb.ca.ifm.CICFlowMeter \n",
            "cic.cs.unb.ca.ifm.CICFlowMeter CICFlowMeter-V3 found: 1 Files.\n",
            "cic.cs.unb.ca.ifm.CICFlowMeter \n",
            "cic.cs.unb.ca.ifm.CICFlowMeter Working on... /content/data/in/h4-DDoS-UDP.pcap \n",
            "\n",
            "Stderr: Exception in thread \"main\" java.lang.OutOfMemoryError: Java heap space\n",
            "\tat org.apache.commons.math3.stat.descriptive.SummaryStatistics.<init>(SummaryStatistics.java:72)\n",
            "\tat cic.cs.unb.ca.jnetpcap.BasicFlow.initParameters(BasicFlow.java:91)\n",
            "\tat cic.cs.unb.ca.jnetpcap.BasicFlow.<init>(BasicFlow.java:73)\n",
            "\tat cic.cs.unb.ca.jnetpcap.FlowGenerator.addPacket(FlowGenerator.java:117)\n",
            "\tat cic.cs.unb.ca.ifm.CICFlowMeter.main(CICFlowMeter.java:106)\n",
            "\n",
            "Moving 'h4-DDoS-UDP.pcap' back to 'DoS-Layer3and4' due to error.\n",
            "\n",
            "Processing: SYN_DoS_pcap.pcap\n",
            "Moving 'SYN_DoS_pcap.pcap' to 'data/in'...\n",
            "Running CICFlowMeter...\n",
            "CICFlowMeter finished successfully.\n",
            "Moving results from 'data/out' to 'DoS-Layer3and4_csv' and original pcap back to 'DoS-Layer3and4'...\n",
            "Moved 'SYN_DoS_pcap_ISCX.csv' to 'DoS-Layer3and4_csv'.\n",
            "Moved 'SYN_DoS_pcap.pcap' back to 'DoS-Layer3and4'.\n",
            "Cleaning up temporary directories...\n",
            "Cleanup complete.\n",
            "\n",
            "Finished processing all .pcap files in the 'DoS-Layer3and4' folder.\n"
          ]
        }
      ]
    },
    {
      "cell_type": "code",
      "metadata": {
        "colab": {
          "base_uri": "https://localhost:8080/"
        },
        "outputId": "a01170f9-f9e8-4e05-9e07-90d0bfbbf5f7",
        "id": "-q74ieHaV_QO"
      },
      "source": [
        "! zip -r DoS-Layer3and4_csv.zip DoS-Layer3and4_csv"
      ],
      "execution_count": null,
      "outputs": [
        {
          "output_type": "stream",
          "name": "stdout",
          "text": [
            "  adding: DoS-Layer3and4_csv/ (stored 0%)\n",
            "  adding: DoS-Layer3and4_csv/syn25_1_ISCX.csv (deflated 83%)\n",
            "  adding: DoS-Layer3and4_csv/syn10_2_ISCX.csv (deflated 83%)\n",
            "  adding: DoS-Layer3and4_csv/syn50_1_ISCX.csv (deflated 82%)\n",
            "  adding: DoS-Layer3and4_csv/syn50_2_ISCX.csv (deflated 82%)\n",
            "  adding: DoS-Layer3and4_csv/syn75_1_ISCX.csv (deflated 82%)\n",
            "  adding: DoS-Layer3and4_csv/syn10_1_ISCX.csv (deflated 83%)\n",
            "  adding: DoS-Layer3and4_csv/h4-DDoS-SYN_ISCX.csv (deflated 66%)\n",
            "  adding: DoS-Layer3and4_csv/SYN_DoS_pcap_ISCX.csv (deflated 78%)\n",
            "  adding: DoS-Layer3and4_csv/syn_tcp_dos_ISCX.csv (deflated 73%)\n",
            "  adding: DoS-Layer3and4_csv/syn25_2_ISCX.csv (deflated 83%)\n",
            "  adding: DoS-Layer3and4_csv/syn75_2_ISCX.csv (deflated 82%)\n",
            "  adding: DoS-Layer3and4_csv/udp_dos_ISCX.csv (deflated 81%)\n"
          ]
        }
      ]
    },
    {
      "cell_type": "markdown",
      "source": [
        "# ✅ DoS-overall - GET PCAP FILES"
      ],
      "metadata": {
        "id": "4H8sTORhYPgb"
      }
    },
    {
      "cell_type": "code",
      "metadata": {
        "colab": {
          "base_uri": "https://localhost:8080/"
        },
        "outputId": "d41908bb-fcdb-4eeb-dc8c-2c47e15a9349",
        "id": "OZza1H9HYPgc"
      },
      "source": [
        "import os\n",
        "directory_path = '/content/drive/MyDrive/Share to Mc4/AIBuilders5-MiN/TestsetForBaseline'\n",
        "\n",
        "# Check if the directory exists before listing its contents\n",
        "if os.path.exists(directory_path):\n",
        "  # List the contents of the directory\n",
        "  contents = os.listdir(directory_path)\n",
        "\n",
        "  # Print the contents\n",
        "  for item in contents:\n",
        "    print(item)\n",
        "else:\n",
        "  print(f\"Directory not found: {directory_path}\")"
      ],
      "execution_count": null,
      "outputs": [
        {
          "output_type": "stream",
          "name": "stdout",
          "text": [
            "DoS.zip\n",
            "DDoS.zip\n",
            "PortScan.zip\n",
            "Benign.zip\n",
            "FTPBruteforce.zip\n",
            "SSHBruteforce.zip\n",
            "DoS-HTTP-Flood.zip\n",
            "DoS-SlowRate.zip\n",
            "Benign2.zip\n",
            "DoS-overall.zip\n",
            "DoS-Layer3and4.zip\n"
          ]
        }
      ]
    },
    {
      "cell_type": "code",
      "metadata": {
        "colab": {
          "base_uri": "https://localhost:8080/"
        },
        "id": "kqlOJ6AXYPgc",
        "outputId": "5d4cdd7b-9d5f-4818-df32-b5d1d014ce51"
      },
      "source": [
        "import zipfile\n",
        "import os\n",
        "\n",
        "zip_file_path = '/content/drive/MyDrive/Share to Mc4/AIBuilders5-MiN/TestsetForBaseline/DoS-overall.zip'\n",
        "destination_directory = '/content/'\n",
        "\n",
        "# Unzip the file\n",
        "try:\n",
        "    with zipfile.ZipFile(zip_file_path, 'r') as zip_ref:\n",
        "        zip_ref.extractall(destination_directory)\n",
        "    print(f\"'{zip_file_path}' unzipped to '{destination_directory}'.\")\n",
        "except FileNotFoundError:\n",
        "    print(f\"Error: Zip file not found at '{zip_file_path}'\")\n",
        "except zipfile.BadZipFile:\n",
        "    print(f\"Error: '{zip_file_path}' is not a valid zip file.\")\n",
        "except Exception as e:\n",
        "    print(f\"An error occurred: {e}\")"
      ],
      "execution_count": null,
      "outputs": [
        {
          "output_type": "stream",
          "name": "stdout",
          "text": [
            "'/content/drive/MyDrive/Share to Mc4/AIBuilders5-MiN/TestsetForBaseline/DoS-overall.zip' unzipped to '/content/'.\n"
          ]
        }
      ]
    },
    {
      "cell_type": "markdown",
      "source": [
        "# ✅ DoS-overall - Convert to .csv"
      ],
      "metadata": {
        "id": "fOLnuzrRYcbH"
      }
    },
    {
      "cell_type": "code",
      "metadata": {
        "colab": {
          "base_uri": "https://localhost:8080/"
        },
        "id": "7Dbr8FDTYcbI",
        "outputId": "ebc711e5-cff8-4d0e-c7a2-0c9bc114f11e"
      },
      "source": [
        "import os\n",
        "\n",
        "dos_directory = 'DoS-overall'\n",
        "pcap_files = [f for f in os.listdir(dos_directory) if f.endswith('.pcap')]\n",
        "\n",
        "if pcap_files:\n",
        "    print(f\"Found {len(pcap_files)} .pcap files in '{dos_directory}':\")\n",
        "    for pcap_file in pcap_files:\n",
        "        print(pcap_file)\n",
        "else:\n",
        "    print(f\"No .pcap files found in '{dos_directory}'.\")"
      ],
      "execution_count": null,
      "outputs": [
        {
          "output_type": "stream",
          "name": "stdout",
          "text": [
            "Found 5 .pcap files in 'DoS-overall':\n",
            "normal_DoS_2.pcap\n",
            "normal_DoS_3.pcap\n",
            "normal_DoS_4.pcap\n",
            "normal_DoS_5.pcap\n",
            "normal_DoS_1.pcap\n"
          ]
        }
      ]
    },
    {
      "cell_type": "code",
      "metadata": {
        "collapsed": true,
        "colab": {
          "base_uri": "https://localhost:8080/"
        },
        "id": "N8s5orDjYcbI",
        "outputId": "c8f55a6a-4f56-48c7-f0ff-e4d3c85ffa19"
      },
      "source": [
        "import os\n",
        "import shutil\n",
        "import subprocess\n",
        "\n",
        "# Define the attack type directory (change this variable for different attack types)\n",
        "attack_type = 'DoS-overall' # You can change this to 'DDoS', 'PortScan', etc.\n",
        "\n",
        "attack_directory = attack_type\n",
        "data_in_directory = 'data/in'\n",
        "data_out_directory = 'data/out'\n",
        "csv_destination_directory = f'{attack_type}_csv'  # Directory for CSV files based on attack type\n",
        "cicflowmeter_command = './CICFlowMeter-3.0/tcpdump_and_cicflowmeter/bin/CICFlowMeter'\n",
        "\n",
        "# Create the CSV destination directory if it doesn't exist\n",
        "os.makedirs(csv_destination_directory, exist_ok=True)\n",
        "print(f\"Directory '{csv_destination_directory}' created (if it didn't exist).\")\n",
        "\n",
        "# Ensure the attack directory exists\n",
        "if not os.path.exists(attack_directory):\n",
        "    print(f\"Error: Attack directory '{attack_directory}' not found.\")\n",
        "else:\n",
        "    # Get the list of pcap files in the attack directory\n",
        "    pcap_files = [f for f in os.listdir(attack_directory) if f.endswith('.pcap')]\n",
        "\n",
        "    if pcap_files:\n",
        "        print(f\"Processing {len(pcap_files)} .pcap files in '{attack_directory}'...\")\n",
        "        for pcap_file in pcap_files:\n",
        "            source_path = os.path.join(attack_directory, pcap_file)\n",
        "            dest_in_path = os.path.join(data_in_directory, pcap_file)\n",
        "\n",
        "            print(f\"\\nProcessing: {pcap_file}\")\n",
        "\n",
        "            # Step 2a: Move to data/in\n",
        "            print(f\"Moving '{pcap_file}' to '{data_in_directory}'...\")\n",
        "            shutil.move(source_path, data_in_directory)\n",
        "\n",
        "            # Step 2b: Run CICFlowMeter\n",
        "            print(\"Running CICFlowMeter...\")\n",
        "            try:\n",
        "                # The CICFlowMeter command expects the input directory to be 'data/in' and outputs to 'data/out'\n",
        "                subprocess.run([cicflowmeter_command], check=True, capture_output=True, text=True)\n",
        "                print(\"CICFlowMeter finished successfully.\")\n",
        "            except subprocess.CalledProcessError as e:\n",
        "                print(f\"Error running CICFlowMeter: {e}\")\n",
        "                print(f\"Stdout: {e.stdout}\")\n",
        "                print(f\"Stderr: {e.stderr}\")\n",
        "                # Move the file back even if there was an error\n",
        "                print(f\"Moving '{pcap_file}' back to '{attack_directory}' due to error.\")\n",
        "                shutil.move(dest_in_path, attack_directory)\n",
        "                continue # Move to the next file\n",
        "\n",
        "            # Step 2c: Move results - Move CSV to DoS_csv and original pcap back to DoS\n",
        "            print(f\"Moving results from '{data_out_directory}' to '{csv_destination_directory}' and original pcap back to '{attack_directory}'...\")\n",
        "            output_files = os.listdir(data_out_directory)\n",
        "            for output_file in output_files:\n",
        "                # Check if the file is a CSV file generated by CICFlowMeter\n",
        "                if output_file.endswith('_ISCX.csv'):\n",
        "                    source_out_path = os.path.join(data_out_directory, output_file)\n",
        "                    dest_csv_path = os.path.join(csv_destination_directory, output_file)\n",
        "                    shutil.move(source_out_path, dest_csv_path)\n",
        "                    print(f\"Moved '{output_file}' to '{csv_destination_directory}'.\")\n",
        "\n",
        "            # Move the original pcap file back to the attack directory\n",
        "            # We need to find the file in data/in after processing.\n",
        "            # Assuming only one pcap file is in data/in at a time during the loop.\n",
        "            processed_pcap_files_in_in = os.listdir(data_in_directory)\n",
        "            for processed_pcap_file in processed_pcap_files_in_in:\n",
        "                 if processed_pcap_file.endswith('.pcap'):\n",
        "                    processed_in_path = os.path.join(data_in_directory, processed_pcap_file)\n",
        "                    original_source_path = os.path.join(attack_directory, processed_pcap_file) # Construct original path\n",
        "                    shutil.move(processed_in_path, original_source_path) # Move from data/in back to original location\n",
        "                    print(f\"Moved '{processed_pcap_file}' back to '{attack_directory}'.\")\n",
        "\n",
        "\n",
        "            # Step 2d: Clean up data/in and data/out\n",
        "            print(\"Cleaning up temporary directories...\")\n",
        "            # Clean up any remaining files in data/out (should have been moved, but just in case)\n",
        "            remaining_out_files = os.listdir(data_out_directory)\n",
        "            for file in remaining_out_files:\n",
        "                 os.remove(os.path.join(data_out_directory, file))\n",
        "\n",
        "            print(\"Cleanup complete.\")\n",
        "\n",
        "\n",
        "        print(f\"\\nFinished processing all .pcap files in the '{attack_directory}' folder.\")\n",
        "\n",
        "    else:\n",
        "        print(f\"No .pcap files found in '{attack_directory}' to process.\")"
      ],
      "execution_count": null,
      "outputs": [
        {
          "output_type": "stream",
          "name": "stdout",
          "text": [
            "Directory 'DoS-overall_csv' created (if it didn't exist).\n",
            "Processing 5 .pcap files in 'DoS-overall'...\n",
            "\n",
            "Processing: normal_DoS_2.pcap\n",
            "Moving 'normal_DoS_2.pcap' to 'data/in'...\n",
            "Running CICFlowMeter...\n",
            "CICFlowMeter finished successfully.\n",
            "Moving results from 'data/out' to 'DoS-overall_csv' and original pcap back to 'DoS-overall'...\n",
            "Moved 'normal_DoS_2_ISCX.csv' to 'DoS-overall_csv'.\n",
            "Moved 'normal_DoS_2.pcap' back to 'DoS-overall'.\n",
            "Cleaning up temporary directories...\n",
            "Cleanup complete.\n",
            "\n",
            "Processing: normal_DoS_3.pcap\n",
            "Moving 'normal_DoS_3.pcap' to 'data/in'...\n",
            "Running CICFlowMeter...\n",
            "CICFlowMeter finished successfully.\n",
            "Moving results from 'data/out' to 'DoS-overall_csv' and original pcap back to 'DoS-overall'...\n",
            "Moved 'normal_DoS_3_ISCX.csv' to 'DoS-overall_csv'.\n",
            "Moved 'normal_DoS_3.pcap' back to 'DoS-overall'.\n",
            "Cleaning up temporary directories...\n",
            "Cleanup complete.\n",
            "\n",
            "Processing: normal_DoS_4.pcap\n",
            "Moving 'normal_DoS_4.pcap' to 'data/in'...\n",
            "Running CICFlowMeter...\n",
            "CICFlowMeter finished successfully.\n",
            "Moving results from 'data/out' to 'DoS-overall_csv' and original pcap back to 'DoS-overall'...\n",
            "Moved 'normal_DoS_4_ISCX.csv' to 'DoS-overall_csv'.\n",
            "Moved 'normal_DoS_4.pcap' back to 'DoS-overall'.\n",
            "Cleaning up temporary directories...\n",
            "Cleanup complete.\n",
            "\n",
            "Processing: normal_DoS_5.pcap\n",
            "Moving 'normal_DoS_5.pcap' to 'data/in'...\n",
            "Running CICFlowMeter...\n",
            "CICFlowMeter finished successfully.\n",
            "Moving results from 'data/out' to 'DoS-overall_csv' and original pcap back to 'DoS-overall'...\n",
            "Moved 'normal_DoS_5_ISCX.csv' to 'DoS-overall_csv'.\n",
            "Moved 'normal_DoS_5.pcap' back to 'DoS-overall'.\n",
            "Cleaning up temporary directories...\n",
            "Cleanup complete.\n",
            "\n",
            "Processing: normal_DoS_1.pcap\n",
            "Moving 'normal_DoS_1.pcap' to 'data/in'...\n",
            "Running CICFlowMeter...\n",
            "CICFlowMeter finished successfully.\n",
            "Moving results from 'data/out' to 'DoS-overall_csv' and original pcap back to 'DoS-overall'...\n",
            "Moved 'normal_DoS_1_ISCX.csv' to 'DoS-overall_csv'.\n",
            "Moved 'normal_DoS_1.pcap' back to 'DoS-overall'.\n",
            "Cleaning up temporary directories...\n",
            "Cleanup complete.\n",
            "\n",
            "Finished processing all .pcap files in the 'DoS-overall' folder.\n"
          ]
        }
      ]
    },
    {
      "cell_type": "code",
      "metadata": {
        "colab": {
          "base_uri": "https://localhost:8080/"
        },
        "id": "YXjMuJowYcbJ",
        "outputId": "2546fb5e-1fc2-467f-8a77-a5b80198a685"
      },
      "source": [
        "! zip -r DoS-overall_csv.zip DoS-overall_csv"
      ],
      "execution_count": null,
      "outputs": [
        {
          "output_type": "stream",
          "name": "stdout",
          "text": [
            "  adding: DoS-overall_csv/ (stored 0%)\n",
            "  adding: DoS-overall_csv/normal_DoS_5_ISCX.csv (deflated 78%)\n",
            "  adding: DoS-overall_csv/normal_DoS_3_ISCX.csv (deflated 78%)\n",
            "  adding: DoS-overall_csv/normal_DoS_4_ISCX.csv (deflated 78%)\n",
            "  adding: DoS-overall_csv/normal_DoS_1_ISCX.csv (deflated 80%)\n",
            "  adding: DoS-overall_csv/normal_DoS_2_ISCX.csv (deflated 79%)\n"
          ]
        }
      ]
    },
    {
      "cell_type": "markdown",
      "source": [
        "# ✅ DoS-SlowRate - GET PCAP FILES"
      ],
      "metadata": {
        "id": "KdfzxriZYkMP"
      }
    },
    {
      "cell_type": "code",
      "metadata": {
        "colab": {
          "base_uri": "https://localhost:8080/"
        },
        "outputId": "daea00b3-25dc-48d3-8777-c96983affda7",
        "id": "na1TFQsJYkMQ"
      },
      "source": [
        "import os\n",
        "directory_path = '/content/drive/MyDrive/Share to Mc4/AIBuilders5-MiN/TestsetForBaseline'\n",
        "\n",
        "# Check if the directory exists before listing its contents\n",
        "if os.path.exists(directory_path):\n",
        "  # List the contents of the directory\n",
        "  contents = os.listdir(directory_path)\n",
        "\n",
        "  # Print the contents\n",
        "  for item in contents:\n",
        "    print(item)\n",
        "else:\n",
        "  print(f\"Directory not found: {directory_path}\")"
      ],
      "execution_count": 4,
      "outputs": [
        {
          "output_type": "stream",
          "name": "stdout",
          "text": [
            "DoS.zip\n",
            "DDoS.zip\n",
            "PortScan.zip\n",
            "Benign.zip\n",
            "FTPBruteforce.zip\n",
            "SSHBruteforce.zip\n",
            "DoS-HTTP-Flood.zip\n",
            "DoS-SlowRate.zip\n",
            "Benign2.zip\n",
            "DoS-overall.zip\n",
            "DoS-Layer3and4.zip\n"
          ]
        }
      ]
    },
    {
      "cell_type": "code",
      "metadata": {
        "colab": {
          "base_uri": "https://localhost:8080/"
        },
        "id": "JYlEmXKqYkMQ",
        "outputId": "1b9142a2-f5a8-45ac-9a58-12700b255048"
      },
      "source": [
        "import zipfile\n",
        "import os\n",
        "\n",
        "zip_file_path = '/content/drive/MyDrive/Share to Mc4/AIBuilders5-MiN/TestsetForBaseline/DoS-SlowRate.zip'\n",
        "destination_directory = '/content/'\n",
        "\n",
        "# Unzip the file\n",
        "try:\n",
        "    with zipfile.ZipFile(zip_file_path, 'r') as zip_ref:\n",
        "        zip_ref.extractall(destination_directory)\n",
        "    print(f\"'{zip_file_path}' unzipped to '{destination_directory}'.\")\n",
        "except FileNotFoundError:\n",
        "    print(f\"Error: Zip file not found at '{zip_file_path}'\")\n",
        "except zipfile.BadZipFile:\n",
        "    print(f\"Error: '{zip_file_path}' is not a valid zip file.\")\n",
        "except Exception as e:\n",
        "    print(f\"An error occurred: {e}\")"
      ],
      "execution_count": 5,
      "outputs": [
        {
          "output_type": "stream",
          "name": "stdout",
          "text": [
            "'/content/drive/MyDrive/Share to Mc4/AIBuilders5-MiN/TestsetForBaseline/DoS-SlowRate.zip' unzipped to '/content/'.\n"
          ]
        }
      ]
    },
    {
      "cell_type": "markdown",
      "source": [
        "# ✅ DoS-SlowRate - Convert to .csv"
      ],
      "metadata": {
        "id": "fGybcoOLYvv8"
      }
    },
    {
      "cell_type": "code",
      "metadata": {
        "colab": {
          "base_uri": "https://localhost:8080/"
        },
        "id": "b1Uo2RytYvv9",
        "outputId": "3efb3b21-807c-447d-cca0-91907964a48a"
      },
      "source": [
        "import os\n",
        "\n",
        "dos_directory = 'DoS-SlowRate'\n",
        "pcap_files = [f for f in os.listdir(dos_directory) if f.endswith('.pcap')]\n",
        "\n",
        "if pcap_files:\n",
        "    print(f\"Found {len(pcap_files)} .pcap files in '{dos_directory}':\")\n",
        "    for pcap_file in pcap_files:\n",
        "        print(pcap_file)\n",
        "else:\n",
        "    print(f\"No .pcap files found in '{dos_directory}'.\")"
      ],
      "execution_count": 6,
      "outputs": [
        {
          "output_type": "stream",
          "name": "stdout",
          "text": [
            "Found 4 .pcap files in 'DoS-SlowRate':\n",
            "lowrateddosMQTT.pcap\n",
            "http_slowloris.pcap\n",
            "slowread_2.pcap\n",
            "slowread_1.pcap\n"
          ]
        }
      ]
    },
    {
      "cell_type": "code",
      "metadata": {
        "collapsed": true,
        "colab": {
          "base_uri": "https://localhost:8080/"
        },
        "id": "hmKSKcmFYvv9",
        "outputId": "09e225ac-3997-4d0a-d0b9-5a9c5a255e22"
      },
      "source": [
        "import os\n",
        "import shutil\n",
        "import subprocess\n",
        "\n",
        "# Define the attack type directory (change this variable for different attack types)\n",
        "attack_type = 'DoS-SlowRate' # You can change this to 'DDoS', 'PortScan', etc.\n",
        "\n",
        "attack_directory = attack_type\n",
        "data_in_directory = 'data/in'\n",
        "data_out_directory = 'data/out'\n",
        "csv_destination_directory = f'{attack_type}_csv'  # Directory for CSV files based on attack type\n",
        "cicflowmeter_command = './CICFlowMeter-3.0/tcpdump_and_cicflowmeter/bin/CICFlowMeter'\n",
        "\n",
        "# Create the CSV destination directory if it doesn't exist\n",
        "os.makedirs(csv_destination_directory, exist_ok=True)\n",
        "print(f\"Directory '{csv_destination_directory}' created (if it didn't exist).\")\n",
        "\n",
        "# Ensure the attack directory exists\n",
        "if not os.path.exists(attack_directory):\n",
        "    print(f\"Error: Attack directory '{attack_directory}' not found.\")\n",
        "else:\n",
        "    # Get the list of pcap files in the attack directory\n",
        "    pcap_files = [f for f in os.listdir(attack_directory) if f.endswith('.pcap')]\n",
        "\n",
        "    if pcap_files:\n",
        "        print(f\"Processing {len(pcap_files)} .pcap files in '{attack_directory}'...\")\n",
        "        for pcap_file in pcap_files:\n",
        "            source_path = os.path.join(attack_directory, pcap_file)\n",
        "            dest_in_path = os.path.join(data_in_directory, pcap_file)\n",
        "\n",
        "            print(f\"\\nProcessing: {pcap_file}\")\n",
        "\n",
        "            # Step 2a: Move to data/in\n",
        "            print(f\"Moving '{pcap_file}' to '{data_in_directory}'...\")\n",
        "            shutil.move(source_path, data_in_directory)\n",
        "\n",
        "            # Step 2b: Run CICFlowMeter\n",
        "            print(\"Running CICFlowMeter...\")\n",
        "            try:\n",
        "                # The CICFlowMeter command expects the input directory to be 'data/in' and outputs to 'data/out'\n",
        "                subprocess.run([cicflowmeter_command], check=True, capture_output=True, text=True)\n",
        "                print(\"CICFlowMeter finished successfully.\")\n",
        "            except subprocess.CalledProcessError as e:\n",
        "                print(f\"Error running CICFlowMeter: {e}\")\n",
        "                print(f\"Stdout: {e.stdout}\")\n",
        "                print(f\"Stderr: {e.stderr}\")\n",
        "                # Move the file back even if there was an error\n",
        "                print(f\"Moving '{pcap_file}' back to '{attack_directory}' due to error.\")\n",
        "                shutil.move(dest_in_path, attack_directory)\n",
        "                continue # Move to the next file\n",
        "\n",
        "            # Step 2c: Move results - Move CSV to DoS_csv and original pcap back to DoS\n",
        "            print(f\"Moving results from '{data_out_directory}' to '{csv_destination_directory}' and original pcap back to '{attack_directory}'...\")\n",
        "            output_files = os.listdir(data_out_directory)\n",
        "            for output_file in output_files:\n",
        "                # Check if the file is a CSV file generated by CICFlowMeter\n",
        "                if output_file.endswith('_ISCX.csv'):\n",
        "                    source_out_path = os.path.join(data_out_directory, output_file)\n",
        "                    dest_csv_path = os.path.join(csv_destination_directory, output_file)\n",
        "                    shutil.move(source_out_path, dest_csv_path)\n",
        "                    print(f\"Moved '{output_file}' to '{csv_destination_directory}'.\")\n",
        "\n",
        "            # Move the original pcap file back to the attack directory\n",
        "            # We need to find the file in data/in after processing.\n",
        "            # Assuming only one pcap file is in data/in at a time during the loop.\n",
        "            processed_pcap_files_in_in = os.listdir(data_in_directory)\n",
        "            for processed_pcap_file in processed_pcap_files_in_in:\n",
        "                 if processed_pcap_file.endswith('.pcap'):\n",
        "                    processed_in_path = os.path.join(data_in_directory, processed_pcap_file)\n",
        "                    original_source_path = os.path.join(attack_directory, processed_pcap_file) # Construct original path\n",
        "                    shutil.move(processed_in_path, original_source_path) # Move from data/in back to original location\n",
        "                    print(f\"Moved '{processed_pcap_file}' back to '{attack_directory}'.\")\n",
        "\n",
        "\n",
        "            # Step 2d: Clean up data/in and data/out\n",
        "            print(\"Cleaning up temporary directories...\")\n",
        "            # Clean up any remaining files in data/out (should have been moved, but just in case)\n",
        "            remaining_out_files = os.listdir(data_out_directory)\n",
        "            for file in remaining_out_files:\n",
        "                 os.remove(os.path.join(data_out_directory, file))\n",
        "\n",
        "            print(\"Cleanup complete.\")\n",
        "\n",
        "\n",
        "        print(f\"\\nFinished processing all .pcap files in the '{attack_directory}' folder.\")\n",
        "\n",
        "    else:\n",
        "        print(f\"No .pcap files found in '{attack_directory}' to process.\")"
      ],
      "execution_count": 7,
      "outputs": [
        {
          "output_type": "stream",
          "name": "stdout",
          "text": [
            "Directory 'DoS-SlowRate_csv' created (if it didn't exist).\n",
            "Processing 4 .pcap files in 'DoS-SlowRate'...\n",
            "\n",
            "Processing: lowrateddosMQTT.pcap\n",
            "Moving 'lowrateddosMQTT.pcap' to 'data/in'...\n",
            "Running CICFlowMeter...\n",
            "CICFlowMeter finished successfully.\n",
            "Moving results from 'data/out' to 'DoS-SlowRate_csv' and original pcap back to 'DoS-SlowRate'...\n",
            "Moved 'lowrateddosMQTT_ISCX.csv' to 'DoS-SlowRate_csv'.\n",
            "Moved 'lowrateddosMQTT.pcap' back to 'DoS-SlowRate'.\n",
            "Cleaning up temporary directories...\n",
            "Cleanup complete.\n",
            "\n",
            "Processing: http_slowloris.pcap\n",
            "Moving 'http_slowloris.pcap' to 'data/in'...\n",
            "Running CICFlowMeter...\n",
            "CICFlowMeter finished successfully.\n",
            "Moving results from 'data/out' to 'DoS-SlowRate_csv' and original pcap back to 'DoS-SlowRate'...\n",
            "Moved 'http_slowloris_ISCX.csv' to 'DoS-SlowRate_csv'.\n",
            "Moved 'http_slowloris.pcap' back to 'DoS-SlowRate'.\n",
            "Cleaning up temporary directories...\n",
            "Cleanup complete.\n",
            "\n",
            "Processing: slowread_2.pcap\n",
            "Moving 'slowread_2.pcap' to 'data/in'...\n",
            "Running CICFlowMeter...\n",
            "CICFlowMeter finished successfully.\n",
            "Moving results from 'data/out' to 'DoS-SlowRate_csv' and original pcap back to 'DoS-SlowRate'...\n",
            "Moved 'slowread_2_ISCX.csv' to 'DoS-SlowRate_csv'.\n",
            "Moved 'slowread_2.pcap' back to 'DoS-SlowRate'.\n",
            "Cleaning up temporary directories...\n",
            "Cleanup complete.\n",
            "\n",
            "Processing: slowread_1.pcap\n",
            "Moving 'slowread_1.pcap' to 'data/in'...\n",
            "Running CICFlowMeter...\n",
            "CICFlowMeter finished successfully.\n",
            "Moving results from 'data/out' to 'DoS-SlowRate_csv' and original pcap back to 'DoS-SlowRate'...\n",
            "Moved 'slowread_1_ISCX.csv' to 'DoS-SlowRate_csv'.\n",
            "Moved 'slowread_1.pcap' back to 'DoS-SlowRate'.\n",
            "Cleaning up temporary directories...\n",
            "Cleanup complete.\n",
            "\n",
            "Finished processing all .pcap files in the 'DoS-SlowRate' folder.\n"
          ]
        }
      ]
    },
    {
      "cell_type": "code",
      "metadata": {
        "colab": {
          "base_uri": "https://localhost:8080/"
        },
        "id": "Mqcct9csYvv-",
        "outputId": "a1637f4e-27a5-46f3-ec14-9f190f854e9d"
      },
      "source": [
        "! zip -r DoS-SlowRate_csv.zip DoS-SlowRate_csv"
      ],
      "execution_count": 8,
      "outputs": [
        {
          "output_type": "stream",
          "name": "stdout",
          "text": [
            "  adding: DoS-SlowRate_csv/ (stored 0%)\n",
            "  adding: DoS-SlowRate_csv/slowread_2_ISCX.csv (deflated 83%)\n",
            "  adding: DoS-SlowRate_csv/lowrateddosMQTT_ISCX.csv (deflated 74%)\n",
            "  adding: DoS-SlowRate_csv/http_slowloris_ISCX.csv (deflated 83%)\n",
            "  adding: DoS-SlowRate_csv/slowread_1_ISCX.csv (deflated 83%)\n"
          ]
        }
      ]
    }
  ]
}
